{
 "cells": [
  {
   "cell_type": "code",
   "execution_count": null,
   "id": "422588fc",
   "metadata": {},
   "outputs": [],
   "source": [
    "import pandas as pd\n",
    "import matplotlib.pyplot as plt\n",
    "import numpy as np\n",
    "import matplotlib.image as mpimg\n",
    "import time\n",
    "import progressbar\n",
    "from datetime import datetime\n",
    "\n",
    "import os\n",
    "import utils\n",
    "from os import listdir\n",
    "from os.path import isfile, join\n",
    "\n",
    "import seaborn as sn\n",
    "import imageio\n",
    "from sklearn import preprocessing\n",
    "\n",
    "start = datetime.now()"
   ]
  },
  {
   "cell_type": "code",
   "execution_count": null,
   "id": "89f41d38",
   "metadata": {},
   "outputs": [],
   "source": [
    "partidas = all_games_og = pd.read_csv(f'all_games_other_games.csv')\n",
    "partidas = partidas.partida.unique()"
   ]
  },
  {
   "cell_type": "code",
   "execution_count": null,
   "id": "1f98cf33",
   "metadata": {},
   "outputs": [],
   "source": [
    "partida = partidas[0]\n",
    "mypath = 'grafo_all_bases/' +str(partida)\n",
    "files = read_files_on_fold()\n",
    "file = '10_entropy_t1.csv'\n",
    "metric = read_dataframe_metric(file)\n",
    "df = metric.T\n",
    "df_2 = df.copy()\n",
    "\n",
    "for col in df_2.columns:\n",
    "    df_2[col].values[:] = 0\n",
    "path_article = 'C:\\soccer_graph\\imagem_article\\\\'\n",
    "df_2.iloc[6] = df.iloc[6].values\n",
    "df_2.iloc[10] = df.iloc[10].values\n",
    "imageio.imwrite(f\"{path_article}grafo_para_ritmo_visual_paper.png\", df_2)\n",
    "\n",
    "\n",
    "from PIL import Image\n",
    "from keras.preprocessing.image import load_img\n",
    "\n",
    "loaded_image = load_img(f'{path_article}grafo_para_ritmo_visual_paper.png')\n",
    "\n",
    "resized_image = loaded_image.resize((500, 200))\n",
    "resized_image.save(f'{path_article}grafo_para_ritmo_visual_paper.eps','eps')\n",
    "resized_image.save(f\"{path_article}grafo_para_ritmo_visual_paper_resized.png\")"
   ]
  },
  {
   "cell_type": "code",
   "execution_count": null,
   "id": "649c647b",
   "metadata": {},
   "outputs": [],
   "source": [
    "path_article"
   ]
  },
  {
   "cell_type": "code",
   "execution_count": null,
   "id": "d504eeed",
   "metadata": {},
   "outputs": [],
   "source": [
    "fig, ax = plt.subplots(figsize=(15,5))\n",
    "\n",
    "line1, = ax.plot(df_2.iloc[[6]].T, label='6')\n",
    "line2, = ax.plot(df_2.iloc[[10]].T, label='10')\n",
    "\n",
    "ax.set_xlabel('Segundos', fontsize=15)\n",
    "ax.set_ylabel('Entropia', fontsize=15)\n",
    "\n",
    "ax.set_xticks([])\n",
    "ax.set_yticks([])\n",
    "\n",
    "ax.legend(handles=[line1, line2], title='Jogador', fontsize=10, loc='lower right')\n",
    "plt.savefig(f'{path_article}metric_2_players_pt.eps', format='eps')"
   ]
  },
  {
   "cell_type": "code",
   "execution_count": null,
   "id": "0527c93b",
   "metadata": {},
   "outputs": [],
   "source": [
    "fig, ax = plt.subplots(figsize=(15,5))\n",
    "\n",
    "line1, = ax.plot(df_2.iloc[[6]].T, label='6')\n",
    "line2, = ax.plot(df_2.iloc[[10]].T, label='10')\n",
    "\n",
    "ax.set_xlabel('Seconds', fontsize=15)\n",
    "ax.set_ylabel('Entropy', fontsize=15)\n",
    "\n",
    "ax.set_xticks([])\n",
    "ax.set_yticks([])\n",
    "\n",
    "ax.legend(handles=[line1, line2], title='Player', fontsize=10, loc='lower right')\n",
    "plt.savefig(f'{path_article}metric_2_players.eps', format='eps')"
   ]
  },
  {
   "cell_type": "code",
   "execution_count": null,
   "id": "f9934061",
   "metadata": {},
   "outputs": [],
   "source": []
  },
  {
   "cell_type": "markdown",
   "id": "0cfb5049",
   "metadata": {},
   "source": [
    "## Images visual rhythm"
   ]
  },
  {
   "cell_type": "code",
   "execution_count": null,
   "id": "72077816",
   "metadata": {},
   "outputs": [],
   "source": [
    "from PIL import Image"
   ]
  },
  {
   "cell_type": "code",
   "execution_count": null,
   "id": "48556ed4",
   "metadata": {},
   "outputs": [],
   "source": [
    "path_article = '/imagem_article/'"
   ]
  },
  {
   "cell_type": "code",
   "execution_count": null,
   "id": "5ff40709",
   "metadata": {},
   "outputs": [],
   "source": [
    "partida = partidas[0]\n",
    "folder = \"rhythm_figures/graph_metric/\"+partida+\"/\"\n",
    "file_names = get_file_names('0')"
   ]
  },
  {
   "cell_type": "code",
   "execution_count": null,
   "id": "6114fb1c",
   "metadata": {},
   "outputs": [],
   "source": [
    "sample_image = array_to_img(file_names[1])\n",
    "sample_image"
   ]
  },
  {
   "cell_type": "code",
   "execution_count": null,
   "id": "35f207c0",
   "metadata": {},
   "outputs": [],
   "source": [
    "sample_resized = sample_image.resize((500, 200))\n",
    "sample_resized"
   ]
  },
  {
   "cell_type": "code",
   "execution_count": null,
   "id": "4eabf02f",
   "metadata": {},
   "outputs": [],
   "source": [
    "#Looping to save images rezied\n",
    "for i, image in enumerate(file_names):\n",
    "    sample_image = array_to_img(image)\n",
    "    \n",
    "    #Resizing the image\n",
    "    sample_resized = sample_image.resize((500, 200))\n",
    "    \n",
    "    #Saving the imagens\n",
    "    sample_resized.save(f'{path_article}sample_resized_{i}.eps','eps')"
   ]
  },
  {
   "cell_type": "code",
   "execution_count": null,
   "id": "8322e6fd",
   "metadata": {},
   "outputs": [],
   "source": []
  }
 ],
 "metadata": {
  "kernelspec": {
   "display_name": "Python 3 (ipykernel)",
   "language": "python",
   "name": "python3"
  },
  "language_info": {
   "codemirror_mode": {
    "name": "ipython",
    "version": 3
   },
   "file_extension": ".py",
   "mimetype": "text/x-python",
   "name": "python",
   "nbconvert_exporter": "python",
   "pygments_lexer": "ipython3",
   "version": "3.8.8"
  }
 },
 "nbformat": 4,
 "nbformat_minor": 5
}
