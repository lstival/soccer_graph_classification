{
 "cells": [
  {
   "cell_type": "code",
   "execution_count": 1,
   "metadata": {},
   "outputs": [],
   "source": [
    "import pandas as pd\n",
    "import numpy as np\n",
    "\n",
    "import tqdm\n",
    "\n",
    "#Depois de pegar o get_ball_possition, usar esse código para separar cada BPI (posse de bola das partidas)"
   ]
  },
  {
   "cell_type": "code",
   "execution_count": 2,
   "metadata": {},
   "outputs": [],
   "source": [
    "# Ignore warnings\n",
    "import warnings\n",
    "import sys\n",
    "\n",
    "if not sys.warnoptions:\n",
    "    warnings.simplefilter(\"ignore\")"
   ]
  },
  {
   "cell_type": "markdown",
   "metadata": {},
   "source": [
    "# Constantes"
   ]
  },
  {
   "cell_type": "code",
   "execution_count": 3,
   "metadata": {},
   "outputs": [],
   "source": [
    "TEMPO_CONSTANTE = int(167) # Constante de 5 segundos\n",
    "INVERTER_JOGADORES = False"
   ]
  },
  {
   "cell_type": "markdown",
   "metadata": {},
   "source": [
    "# Lendo arquivos com quais jogos serão análisados"
   ]
  },
  {
   "cell_type": "code",
   "execution_count": 4,
   "metadata": {},
   "outputs": [],
   "source": [
    "#Pegando os jogos que serão análisados\n",
    "jogos = pd.read_csv('jogos_rodados.csv')\n",
    "jogos.dropna(inplace = True)\n",
    "jogos_arquivos = jogos.Jogo_2D.unique()"
   ]
  },
  {
   "cell_type": "code",
   "execution_count": null,
   "metadata": {},
   "outputs": [],
   "source": []
  },
  {
   "cell_type": "code",
   "execution_count": 5,
   "metadata": {},
   "outputs": [],
   "source": [
    "#Separando eventos que foram Passes\n",
    "def separando_df(df):\n",
    "    df_p = df[df[4]==1]\n",
    "    df_p_1 = df_p[df_p[1] <= 14]\n",
    "    df_p_2 = df_p[df_p[1] > 14]\n",
    "    \n",
    "    return df_p_1,df_p_2"
   ]
  },
  {
   "cell_type": "code",
   "execution_count": null,
   "metadata": {},
   "outputs": [],
   "source": []
  },
  {
   "cell_type": "code",
   "execution_count": 6,
   "metadata": {},
   "outputs": [],
   "source": [
    "def classifier_ball_zone (x_pos, y_pos):\n",
    "    if x_pos < 0 :\n",
    "        return -1\n",
    "    if x_pos <= 27.5:\n",
    "        if y_pos <= 24.6:\n",
    "            return 3\n",
    "        elif y_pos <= 49.2:\n",
    "            return 2\n",
    "        else:\n",
    "            return 1\n",
    "    elif x_pos <= 55:\n",
    "        if y_pos <= 24.6:\n",
    "            return 6\n",
    "        elif y_pos <= 49.2:\n",
    "            return 5\n",
    "        else:\n",
    "            return 4\n",
    "    elif x_pos <= 82.5:\n",
    "        if y_pos <= 24.6:\n",
    "            return 9\n",
    "        elif y_pos <= 49.2:\n",
    "            return 8\n",
    "        else:\n",
    "            return 7\n",
    "    elif x_pos > 82.5:\n",
    "        if y_pos <= 24.6:\n",
    "            return 12\n",
    "        elif y_pos <= 49.2:\n",
    "            return 11\n",
    "        else:\n",
    "            return 10 "
   ]
  },
  {
   "cell_type": "code",
   "execution_count": 7,
   "metadata": {},
   "outputs": [],
   "source": [
    "# Quebrando o jogo em uma sequência de posses de bola\n",
    "def get_BPI(all_game):\n",
    "    \"\"\"\n",
    "    Verifica se o frame atual possui uma equipe com posse de bola diferente da equipe do frame anteior\n",
    "    \"\"\"\n",
    "    change_teams = all_game.time_possession.shift(-1) != all_game.time_possession\n",
    "\n",
    "    global count\n",
    "    count = -1\n",
    "    def inc_count(x) :\n",
    "      global count\n",
    "      if x :\n",
    "        count += 1\n",
    "        return count\n",
    "      else :    \n",
    "        return count\n",
    "    return change_teams.apply(inc_count), change_teams"
   ]
  },
  {
   "cell_type": "code",
   "execution_count": 8,
   "metadata": {},
   "outputs": [],
   "source": [
    "def apply_classifier_ball_zone(row) :\n",
    "    return classifier_ball_zone(row[0], row[1])\n",
    "\n",
    "def classify_ball_zone():\n",
    "    return ball_positions.loc[:,[\"2\",\"3\"]].apply(apply_classifier_ball_zone, axis = \"columns\")"
   ]
  },
  {
   "cell_type": "code",
   "execution_count": 9,
   "metadata": {},
   "outputs": [],
   "source": [
    "def get_zone_get_possession(all_game):\n",
    "    ball_chance_zone = all_game.loc[0, 'ball_zone']\n",
    "    zone_get_possesion = [ball_chance_zone]\n",
    "\n",
    "    aux_true_false = all_game.time_possession != all_game.time_possession.shift(-1)\n",
    "    #aux_true_false = np.logical_and(model.time_possession != model.time_possession.shift(1),(model.time_possession.shift(1) == 1))\n",
    "\n",
    "    for row in range(1, all_game.shape[0]) :\n",
    "        if aux_true_false[row] :\n",
    "            ball_chance_zone = all_game.loc[row, 'ball_zone']\n",
    "        zone_get_possesion.append(ball_chance_zone)\n",
    "\n",
    "    return zone_get_possesion"
   ]
  },
  {
   "cell_type": "code",
   "execution_count": 10,
   "metadata": {},
   "outputs": [],
   "source": [
    "def zone_validation(all_game):\n",
    "    if inverter_players():\n",
    "        in_zone_2 = (all_game.ball_zone == 1) | (all_game.ball_zone == 2) | (all_game.ball_zone == 3)\n",
    "        in_zone_1 = (all_game.ball_zone == 10) | (all_game.ball_zone == 11) | (all_game.ball_zone == 12)\n",
    "\n",
    "        #Definindo qual a representação de posse de cada equipe\n",
    "        tem_2 = all_game.time_possession == 1\n",
    "        tem_1 = all_game.time_possession == 0\n",
    "        \n",
    "    else:\n",
    "        in_zone_1 = (all_game.ball_zone == 1) | (all_game.ball_zone == 2) | (all_game.ball_zone == 3)\n",
    "        in_zone_2 = (all_game.ball_zone == 10) | (all_game.ball_zone == 11) | (all_game.ball_zone == 12)\n",
    "\n",
    "        #Definindo qual a representação de posse de cada equipe\n",
    "        tem_1 = all_game.time_possession == 1\n",
    "        tem_2 = all_game.time_possession == 0\n",
    "    \n",
    "    return in_zone_1, in_zone_2, tem_1, tem_2"
   ]
  },
  {
   "cell_type": "code",
   "execution_count": null,
   "metadata": {},
   "outputs": [],
   "source": []
  },
  {
   "cell_type": "code",
   "execution_count": 11,
   "metadata": {},
   "outputs": [],
   "source": [
    "def get_possession_in_zone(BPI_grouped):\n",
    "    \"\"\"\n",
    "    Pega as posses de bola que os últimos 167 frames começaram fora da zona de interesse\n",
    "    e terminaram dentro dele\n",
    "    \"\"\"\n",
    "    #Pegando as danger_zone do time 1\n",
    "#     possession_in_zone_1 = BPI_grouped.apply(lambda x: x.iloc[x.ball_zone.size-INI_VALIDA_ZONA_INTERESSE :x.ball_zone.size][(in_zone_1.shift(-1) & tem_1) & (~in_zone_1)])\n",
    "    possession_in_zone_1 = BPI_grouped.apply(lambda x: x.iloc[x.ball_zone.size-TEMPO_CONSTANTE\n",
    "                                                              :x.ball_zone.size][(in_zone_1.shift(1) & tem_1) & (~in_zone_1)])\n",
    "\n",
    "    #Pegando as danger_zone do time 2\n",
    "    possession_in_zone_2 = BPI_grouped.apply(lambda x: x.iloc[x.ball_zone.size-TEMPO_CONSTANTE \n",
    "                                                              :x.ball_zone.size][(in_zone_2.shift(1) & tem_2) & (~in_zone_2)])\n",
    "\n",
    "    #Juntados todas as danger_zone\n",
    "    possession_in_zone = pd.concat([possession_in_zone_1, possession_in_zone_2],ignore_index = True)\n",
    "    \n",
    "    return possession_in_zone"
   ]
  },
  {
   "attachments": {
    "BPI_target_2.png": {
     "image/png": "[encoded data removed]"
    }
   },
   "cell_type": "markdown",
   "metadata": {},
   "source": [
    "![BPI_target_2.png](attachment:BPI_target_2.png)"
   ]
  },
  {
   "cell_type": "code",
   "execution_count": 12,
   "metadata": {},
   "outputs": [],
   "source": [
    "# all_game.iloc[1000:1400]['ball_zone'][(in_zone_2 & tem_2) & (~in_zone_2).shift(-1)]\n",
    "\n",
    "# all_game.iloc[1000:1400][all_game['ball_zone'] == 12]\n",
    "\n",
    "# for i, itens in enumerate(all_game.iloc[1100:1200]['ball_zone'].shift(1) != 12):\n",
    "#     if itens == False:\n",
    "#         print(i)\n",
    "#         break\n",
    "        \n",
    "# all_game.iloc[1130:1135]\n",
    "\n",
    "# all_game.iloc[1130:1135]['ball_zone']\n",
    "\n",
    "\n"
   ]
  },
  {
   "cell_type": "code",
   "execution_count": null,
   "metadata": {},
   "outputs": [],
   "source": []
  },
  {
   "cell_type": "code",
   "execution_count": 13,
   "metadata": {},
   "outputs": [],
   "source": [
    "# all_game.iloc[1100:1200]['ball_zone'].shift(1) != 12"
   ]
  },
  {
   "cell_type": "code",
   "execution_count": null,
   "metadata": {},
   "outputs": [],
   "source": []
  },
  {
   "cell_type": "code",
   "execution_count": null,
   "metadata": {},
   "outputs": [],
   "source": []
  },
  {
   "cell_type": "code",
   "execution_count": null,
   "metadata": {},
   "outputs": [],
   "source": []
  },
  {
   "cell_type": "code",
   "execution_count": 14,
   "metadata": {},
   "outputs": [],
   "source": [
    "# # all_game.iloc[1130:1135]['ball_zone'].shift(1) == 12\n",
    "# all_game.iloc[1130:1135]['ball_zone'].shift(-1) == 12\n",
    "\n",
    "# (all_game.iloc[1100:1200]['ball_zone'].shift(1) == 12) and (all_game.iloc[1100:1200]['ball_zone'].shift(1) != 12)\n",
    "# # all_game.iloc[1100:1200]['ball_zone']\n",
    "\n",
    "# all_game.groupby(all_game.ball_possession_index).apply(lambda x: x.iloc[x.ball_zone.size-TEMPO_CONSTANTE\n",
    "#                                                               :x.ball_zone.size][(in_zone_1.shift(1) & tem_1) & (~in_zone_1)])\n",
    "\n",
    "# all_game.groupby(all_game.ball_possession_index).apply(lambda x: x.iloc[x.ball_zone.size-TEMPO_CONSTANTE\n",
    "#                                                               :x.ball_zone.size][(in_zone_1 & tem_1) & (~in_zone_1).shift(-1)])\n",
    "\n",
    "# all_game.iloc[all_game.ball_zone.size-TEMPO_CONSTANTE:all_game.ball_zone.size][(in_zone_1 & tem_1)].shift(3)\n",
    "\n",
    "# ball_possession_index"
   ]
  },
  {
   "cell_type": "code",
   "execution_count": null,
   "metadata": {},
   "outputs": [],
   "source": []
  },
  {
   "cell_type": "code",
   "execution_count": null,
   "metadata": {},
   "outputs": [],
   "source": []
  },
  {
   "cell_type": "code",
   "execution_count": null,
   "metadata": {},
   "outputs": [],
   "source": []
  },
  {
   "cell_type": "code",
   "execution_count": null,
   "metadata": {},
   "outputs": [],
   "source": []
  },
  {
   "cell_type": "code",
   "execution_count": null,
   "metadata": {},
   "outputs": [],
   "source": []
  },
  {
   "cell_type": "code",
   "execution_count": null,
   "metadata": {},
   "outputs": [],
   "source": []
  },
  {
   "cell_type": "code",
   "execution_count": null,
   "metadata": {},
   "outputs": [],
   "source": []
  },
  {
   "cell_type": "code",
   "execution_count": null,
   "metadata": {},
   "outputs": [],
   "source": []
  },
  {
   "cell_type": "code",
   "execution_count": null,
   "metadata": {},
   "outputs": [],
   "source": []
  },
  {
   "cell_type": "code",
   "execution_count": null,
   "metadata": {},
   "outputs": [],
   "source": []
  },
  {
   "cell_type": "code",
   "execution_count": 15,
   "metadata": {},
   "outputs": [],
   "source": [
    "def get_possession_in_zone_2(BPI_grouped):\n",
    "    \"\"\"\n",
    "    Pega as posses de bola que os últimos 167 frames começaram fora da zona de interesse\n",
    "    e terminaram dentro dele\n",
    "    \"\"\"\n",
    "    #Pegando as danger_zone do time 1\n",
    "#     possession_in_zone_1 = BPI_grouped.apply(lambda x: x.iloc[x.ball_zone.size-INI_VALIDA_ZONA_INTERESSE :x.ball_zone.size][(in_zone_1.shift(-1) & tem_1) & (~in_zone_1)])\n",
    "    possession_in_zone_1 = BPI_grouped.apply(lambda x: x.iloc[TEMPO_CONSTANTE\n",
    "                                                              :x.ball_zone.size][(in_zone_1.shift(-1) & tem_1) & (~in_zone_1)])\n",
    "\n",
    "    #Pegando as danger_zone do time 2\n",
    "    possession_in_zone_2 = BPI_grouped.apply(lambda x: x.iloc[TEMPO_CONSTANTE \n",
    "                                                              :x.ball_zone.size][(in_zone_2.shift(-1) & tem_2) & (~in_zone_2)])\n",
    "\n",
    "    #Juntados todas as danger_zone\n",
    "    possession_in_zone = pd.concat([possession_in_zone_1, possession_in_zone_2],ignore_index = True)\n",
    "    \n",
    "    return possession_in_zone"
   ]
  },
  {
   "attachments": {
    "BPI_target_3.png": {
     "image/png": "[encoded data removed]"
    }
   },
   "cell_type": "markdown",
   "metadata": {},
   "source": [
    "![BPI_target_3.png](attachment:BPI_target_3.png)"
   ]
  },
  {
   "cell_type": "code",
   "execution_count": 16,
   "metadata": {},
   "outputs": [],
   "source": [
    "def get_possession_in_zone_3(BPI_grouped):\n",
    "    \"\"\"\n",
    "    Pega as posses de bola que os últimos 167 frames começaram fora da zona de interesse\n",
    "    e terminaram dentro dele\n",
    "    \"\"\"\n",
    "    #Pegando as danger_zone do time 1\n",
    "#     possession_in_zone_1 = BPI_grouped.apply(lambda x: x.iloc[x.ball_zone.size-INI_VALIDA_ZONA_INTERESSE :x.ball_zone.size][(in_zone_1.shift(-1) & tem_1) & (~in_zone_1)])\n",
    "    possession_in_zone_1 = BPI_grouped.apply(lambda x: x.iloc[x.ball_zone.size-TEMPO_CONSTANTE\n",
    "                                                              :x.ball_zone.size][(in_zone_1.shift(-1) & tem_1) & (~in_zone_1)])\n",
    "\n",
    "    #Pegando as danger_zone do time 2\n",
    "    possession_in_zone_2 = BPI_grouped.apply(lambda x: x.iloc[x.ball_zone.size-TEMPO_CONSTANTE \n",
    "                                                              :x.ball_zone.size][(in_zone_2.shift(-1) & tem_2) & (~in_zone_2)])\n",
    "\n",
    "    #Juntados todas as danger_zone\n",
    "    possession_in_zone = pd.concat([possession_in_zone_1, possession_in_zone_2],ignore_index = True)\n",
    "    \n",
    "    return possession_in_zone"
   ]
  },
  {
   "cell_type": "code",
   "execution_count": 17,
   "metadata": {},
   "outputs": [],
   "source": [
    "# all_game.groupby(all_game.ball_possession_index).apply(lambda x: x.iloc[x.ball_zone.size-TEMPO_CONSTANTE\n",
    "#                                                               :x.ball_zone.size][(in_zone_1.shift(-1) & tem_1) & (~in_zone_1)])"
   ]
  },
  {
   "cell_type": "code",
   "execution_count": null,
   "metadata": {},
   "outputs": [],
   "source": []
  },
  {
   "cell_type": "code",
   "execution_count": 18,
   "metadata": {},
   "outputs": [],
   "source": [
    "# all_game.iloc[all_game.ball_zone.size-TEMPO_CONSTANTE:all_game.ball_zone.size][in_zone_1]"
   ]
  },
  {
   "cell_type": "code",
   "execution_count": 19,
   "metadata": {},
   "outputs": [],
   "source": [
    "# all_game.groupby(all_game.ball_possession_index).apply(lambda x: x.iloc[0] if ).dropna()"
   ]
  },
  {
   "cell_type": "code",
   "execution_count": 20,
   "metadata": {},
   "outputs": [],
   "source": [
    "def any_frame_in_danger_zone(bpi):\n",
    "    print(any(bpi.ball_zone[in_zone_1]))\n",
    "    "
   ]
  },
  {
   "cell_type": "code",
   "execution_count": 21,
   "metadata": {},
   "outputs": [],
   "source": [
    "# all_game.groupby(all_game.ball_possession_index).apply(lambda x: any_frame_in_danger_zone(x.iloc[x.ball_zone.size-TEMPO_CONSTANTE\n",
    "#                                                               :x.ball_zone.size][(in_zone_1)]))"
   ]
  },
  {
   "cell_type": "code",
   "execution_count": null,
   "metadata": {},
   "outputs": [],
   "source": []
  },
  {
   "cell_type": "code",
   "execution_count": 22,
   "metadata": {},
   "outputs": [],
   "source": [
    "def frames_to_time(frame):\n",
    "    return (frame/100)*3"
   ]
  },
  {
   "cell_type": "code",
   "execution_count": 23,
   "metadata": {},
   "outputs": [],
   "source": [
    "def set_bpi_target(row):\n",
    "    if int(row['index']) in possession_in_zone['ball_possession_index'].values:\n",
    "        return 1\n",
    "    else:\n",
    "        return 0"
   ]
  },
  {
   "cell_type": "code",
   "execution_count": 24,
   "metadata": {},
   "outputs": [],
   "source": [
    "def inverter_players():\n",
    "    if INVERTER_JOGADORES == True and partida[-1] == '2':\n",
    "        return True\n",
    "    else:\n",
    "        return False"
   ]
  },
  {
   "cell_type": "markdown",
   "metadata": {},
   "source": [
    "# Extraindo features de todos as partidas"
   ]
  },
  {
   "cell_type": "code",
   "execution_count": 25,
   "metadata": {},
   "outputs": [],
   "source": [
    "# partida = jogos.Jogo_2D.unique()[0]\n",
    "\n",
    "# BPI_zones = pd.DataFrame()\n",
    "\n",
    "# #Importando arquivo contendo a posição da bola juntos dos eventos que ocorreram por frame.\n",
    "# df = pd.read_csv(f\"{path_original}/Jogos/{partida}.ant\", sep =('\\s+'), header=None)\n",
    "\n",
    "# #Possição da bola gerada pelo Ranieli\n",
    "# ball_positions = pd.read_csv(f\"{path_original}/ball_position/ball_position_{str(partida)}.csv\")\n",
    "# #     ball_positions = pd.read_csv('ball_position\\\\ball_position_'+str(partida) + '.csv')\n",
    "\n",
    "# #Lendo dados das posições dos jogadores\n",
    "# #     players_possitions = pd.read_csv('Jogos\\\\'+ str(partida) + 'suav.2d', sep =('\\s+'), header=None)\n",
    "# players_possitions = pd.read_csv(f\"{path_original}/Jogos/{str(partida)}suav.2d\", sep =('\\s+'), header=None)\n",
    "\n",
    "# #Separando passes\n",
    "# df_p_1, df_p_2 = separando_df(df)\n",
    "\n",
    "# #Criando Dataframe Provisório\n",
    "# all_game = pd.DataFrame(columns=['ball_zone','time_possession','zone_get_possesion'])"
   ]
  },
  {
   "cell_type": "code",
   "execution_count": 26,
   "metadata": {},
   "outputs": [],
   "source": [
    "path_original = \"\""
   ]
  },
  {
   "cell_type": "code",
   "execution_count": 27,
   "metadata": {},
   "outputs": [],
   "source": [
    "# partida = 'REDSCAT1'"
   ]
  },
  {
   "cell_type": "code",
   "execution_count": 28,
   "metadata": {},
   "outputs": [],
   "source": [
    "# df = pd.read_csv(f\"{path_original}/Jogos/{partida}.ant\", sep =('\\s+'), header=None)"
   ]
  },
  {
   "cell_type": "code",
   "execution_count": 29,
   "metadata": {},
   "outputs": [],
   "source": [
    "# players_possitions = pd.read_csv(f\"{path_original}/Jogos/{str(partida)}suav.2d\", sep =('\\s+'), header=None)"
   ]
  },
  {
   "cell_type": "code",
   "execution_count": null,
   "metadata": {
    "scrolled": true
   },
   "outputs": [],
   "source": []
  },
  {
   "cell_type": "code",
   "execution_count": 30,
   "metadata": {},
   "outputs": [
    {
     "name": "stderr",
     "output_type": "stream",
     "text": [
      "100%|████████████████████████████████████████████████████████████████████████████████████| 1/1 [00:29<00:00, 29.44s/it]\n"
     ]
    }
   ],
   "source": [
    "all_BPI = pd.DataFrame()\n",
    "list_jogos = []\n",
    "path_original = \".\"\n",
    "\n",
    "for partida in tqdm.tqdm(jogos.Jogo_2D.unique()):\n",
    "# for partida in tqdm.tqdm([jogos.Jogo_2D.unique()[0]]):\n",
    "    #DataFrame os valores por zona para cada BPI\n",
    "    BPI_zones = pd.DataFrame()\n",
    "    \n",
    "    #Importando arquivo contendo a posição da bola juntos dos eventos que ocorreram por frame.\n",
    "    df = pd.read_csv(f\"{path_original}/jogos/{partida}.ant\", sep =('\\s+'), header=None)\n",
    "\n",
    "    #Possição da bola gerada pelo Ranieli\n",
    "    ball_positions = pd.read_csv(f\"{path_original}/ball_position/ball_position_{str(partida)}.csv\")\n",
    "#     ball_positions = pd.read_csv('ball_position\\\\ball_position_'+str(partida) + '.csv')\n",
    "\n",
    "    #Lendo dados das posições dos jogadores\n",
    "#     players_possitions = pd.read_csv('Jogos\\\\'+ str(partida) + 'suav.2d', sep =('\\s+'), header=None)\n",
    "    players_possitions = pd.read_csv(f\"{path_original}/jogos/{str(partida)}suav.2d\", sep =('\\s+'), header=None)\n",
    "    \n",
    "    #Separando passes\n",
    "    df_p_1, df_p_2 = separando_df(df)\n",
    "    \n",
    "    #Criando Dataframe Provisório\n",
    "    all_game = pd.DataFrame(columns=['ball_zone','time_possession','zone_get_possesion'])\n",
    "    \n",
    "    #Separando os dados da posse de bola\n",
    "    all_game['time_possession'] = ball_positions.loc[:,'1'].astype('int32')\n",
    "    \n",
    "    #Pegando indice de cada BPI\n",
    "    all_game[\"ball_possession_index\"], change_teams = get_BPI(all_game)\n",
    "    \n",
    "    #Classificando a bola da zona\n",
    "    all_game[\"ball_zone\"] = classify_ball_zone()\n",
    "    \n",
    "    #Pegando a zona que o time conseguiu a posse\n",
    "    all_game['zone_get_possesion'] = get_zone_get_possession(all_game)\n",
    "    \n",
    "    #Ajustando indice do DataFrame\n",
    "    all_game.reset_index(inplace = True)\n",
    "    all_game.columns = ['frame', 'ball_zone', 'time_possession', 'zone_get_possesion','ball_possession_index']\n",
    "    \n",
    "    # Adiconando diferença entre o começo da posição da bola e dos jogadores\n",
    "    BPI_zones[\"frame\"] = change_teams[int(ball_positions.loc[0][0]):].loc[change_teams == True].index\n",
    "        \n",
    "    #Calculo FETW do BPI\n",
    "    BPI_zones['FETW_end'] = BPI_zones.apply(lambda x: x[\"frame\"] + TEMPO_CONSTANTE, axis=1)\n",
    "    \n",
    "    BPI_zones['LAG_start'] = BPI_zones.apply(lambda x: x[\"FETW_end\"] + 1, axis=1)\n",
    "    \n",
    "    #Final da posse de bola\n",
    "    BPI_zones['frame_end'] = BPI_zones.apply(lambda x: x.shift(-1))['frame']-1\n",
    "    \n",
    "    #Calculo LAG do BPI\n",
    "    BPI_zones['LAG_end'] = BPI_zones.apply(lambda x: x[\"frame_end\"] - TEMPO_CONSTANTE - 1, axis=1)\n",
    "    \n",
    "    BPI_zones['Target_start'] = BPI_zones.apply(lambda x: x[\"LAG_end\"] + 1, axis=1)\n",
    "    \n",
    "    #Tamanho da posse de bola\n",
    "    BPI_zones['interval_frame_size'] = BPI_zones.apply(lambda x: x['frame_end'] - x['frame'],axis=1)\n",
    "    \n",
    "    #Tempo da posse de bola em segundos\n",
    "    BPI_zones['interval_time'] = BPI_zones['interval_frame_size'].apply(frames_to_time)\n",
    "    \n",
    "    #Posse de cada time\n",
    "    BPI_zones['team_possession'] = all_game[[i in BPI_zones.frame.astype(int).values for i in all_game['frame']]].time_possession.values\n",
    "       \n",
    "    #Regra que define se chegou no target ou não\n",
    "    in_zone_1, in_zone_2, tem_1, tem_2 = zone_validation(all_game)\n",
    "    \n",
    "    #Separando posse de bola por cada equipe (Atacando ou defendendo)\n",
    "    possession_in_zone = get_possession_in_zone(all_game.groupby(all_game.ball_possession_index))\n",
    "    \n",
    "    #Identificando os BPIs que chegaram no target\n",
    "    BPI_zones['target'] = BPI_zones.reset_index().apply(lambda x: set_bpi_target(x),1)\n",
    "    \n",
    "    #Colocando a partida no dataframe\n",
    "    BPI_zones['partida'] = partida\n",
    "    \n",
    "    list_jogos.append(BPI_zones)\n",
    "    "
   ]
  },
  {
   "cell_type": "code",
   "execution_count": 31,
   "metadata": {},
   "outputs": [],
   "source": [
    "#Criando Dataframe com todos os jogos\n",
    "for jogo in list_jogos:\n",
    "    all_BPI = pd.concat([all_BPI, jogo])"
   ]
  },
  {
   "cell_type": "code",
   "execution_count": 32,
   "metadata": {},
   "outputs": [],
   "source": [
    "# Teste de consistencia de FETW\n",
    "assert all_BPI.dropna()[all_BPI.dropna().apply(lambda x: int(x['frame']) > int(x['frame_end']),1)].index.size == 0, 'Existem BPI com frame inicial maior que o final do BPI'\n",
    "assert all_BPI.dropna()[all_BPI.dropna().apply(lambda x: int(x['frame']) > int(x['FETW_end']),1)].index.size == 0, 'Existem BPIs com frame inicial maior que o final do FETW'"
   ]
  },
  {
   "cell_type": "code",
   "execution_count": 33,
   "metadata": {},
   "outputs": [],
   "source": [
    "#Colocando indice das amostras\n",
    "all_BPI.reset_index(inplace = True)"
   ]
  },
  {
   "cell_type": "code",
   "execution_count": null,
   "metadata": {},
   "outputs": [],
   "source": []
  },
  {
   "cell_type": "code",
   "execution_count": 34,
   "metadata": {
    "scrolled": true
   },
   "outputs": [],
   "source": [
    "# all_BPI['interval_time'].plot.hist()"
   ]
  },
  {
   "cell_type": "code",
   "execution_count": 35,
   "metadata": {},
   "outputs": [],
   "source": [
    "all_BPI.to_csv('all_games_other_games.csv')"
   ]
  }
 ],
 "metadata": {
  "kernelspec": {
   "display_name": "Python 3 (ipykernel)",
   "language": "python",
   "name": "python3"
  },
  "language_info": {
   "codemirror_mode": {
    "name": "ipython",
    "version": 3
   },
   "file_extension": ".py",
   "mimetype": "text/x-python",
   "name": "python",
   "nbconvert_exporter": "python",
   "pygments_lexer": "ipython3",
   "version": "3.8.8"
  }
 },
 "nbformat": 4,
 "nbformat_minor": 2
}
