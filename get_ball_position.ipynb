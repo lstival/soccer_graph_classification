{
 "cells": [
  {
   "cell_type": "code",
   "execution_count": 1,
   "metadata": {
    "colab": {},
    "colab_type": "code",
    "id": "OKulD4HsckqO"
   },
   "outputs": [],
   "source": [
    "# Notebook to extract the ball position from .ant file\n",
    "import pandas as pd"
   ]
  },
  {
   "cell_type": "code",
   "execution_count": 2,
   "metadata": {
    "colab": {},
    "colab_type": "code",
    "id": "AnSNGk2UiM_C"
   },
   "outputs": [],
   "source": [
    "## Apenas para quem precisa conectar do Drive, não sei se isso é necessário todas as vezes. Espero que sim.\n",
    "## \n",
    "#from google.colab import drive\n",
    "#drive.mount('/content/drive')"
   ]
  },
  {
   "cell_type": "code",
   "execution_count": 3,
   "metadata": {},
   "outputs": [],
   "source": [
    "JOGO = 'REDSCAT2'"
   ]
  },
  {
   "cell_type": "code",
   "execution_count": 4,
   "metadata": {
    "colab": {},
    "colab_type": "code",
    "id": "2cgJ3lcjckqZ"
   },
   "outputs": [],
   "source": [
    "# Ranieri\n",
    "#df = pd.read_csv('./Projects/futebol/Dados_Futebol/REDSCAT1.ant', sep =('\\s+'), header=None)\n",
    "\n",
    "# Ulisses\n",
    "#df = pd.read_csv('/content/drive/My Drive/Dados_Futebol/REDSCAT1.ant', sep =('\\s+'), header=None)\n",
    "\n",
    "# Leandro\n",
    "\n",
    "df = pd.read_csv('jogos\\\\' + JOGO +'.ant', sep =('\\s+'), header=None)"
   ]
  },
  {
   "cell_type": "markdown",
   "metadata": {
    "colab_type": "text",
    "id": "cQbPJuyCmkws"
   },
   "source": [
    "Os arquivos são organizados da seguinte forma:\n",
    "\n",
    "1ª coluna: frame do momento que a ação técnica foi realizada;\n",
    "2ª coluna: número do jogador. No caso do futsal, do 1 ao 14 tratam-se de jogadores do São Paulo (Spo) e do 15 ao 28 dos jogadores do Corinthians (todo-poderoso-timão Cor). Já para os dados de futebol, do 1 ao 14 tratam-se de jogadores do Atlético Paranaense (Cap) e do 15 ao 28 dos jogadores do São Paulo.\n",
    "3ª e 4ª coluna: coordenadas X e Y do jogador que realizou a ação técnica;\n",
    "5ª coluna: ação técnica realizada. Cada ação recebe um número, a saber:\n",
    " \n",
    "0 - Domínio\n",
    "1 - Passe\n",
    "2 - Drible\n",
    "3 - Finalização-chute\n",
    "4- Finalização-cabeca\n",
    "5 - Desarme- parte inferior do corpo\n",
    "6 - Desarme-superior\n",
    "7- Defesa-goleiro\n",
    "8- Fair-play\n",
    "9- Tiro-de-meta\n",
    "10 - Lateral\n",
    "11- Escanteio\n",
    "12- Tiro-livre\n",
    "13 - Falta\n",
    "14 - Gol\n",
    "15 - Condução  \n",
    " \n",
    "PS1: No caso dos dados de futebol, as seguintes ações são diferentes:\n",
    " \n",
    "8 - Saída de cruzamento do goleiro\n",
    "12 - Impedimento \n",
    " \n",
    "PS2: No momento da falta, marcamos para um mesmo frame quem sofreu e quem realizou a falta (uma linha seguida da outra).\n",
    " \n",
    "PS3: No momento do gol, marcamos para um mesmo frame a finalização e o gol (uma linha seguida da outra).\n",
    " \n",
    "6ª coluna: avisa se ação foi certa (1) ou errada (0). Para condução (ação 15), não discriminamos 0 ou 1, ou seja, vai ficar sempre 0. \n",
    " \n",
    "Qualquer dúvida me escrevam novamente."
   ]
  },
  {
   "cell_type": "code",
   "execution_count": 5,
   "metadata": {
    "colab": {
     "base_uri": "https://localhost:8080/",
     "height": 195
    },
    "colab_type": "code",
    "id": "rEzo--gvlmkD",
    "outputId": "d64c3d5d-4380-4824-b6e9-c3ffd80c9a34"
   },
   "outputs": [
    {
     "data": {
      "text/html": [
       "<div>\n",
       "<style scoped>\n",
       "    .dataframe tbody tr th:only-of-type {\n",
       "        vertical-align: middle;\n",
       "    }\n",
       "\n",
       "    .dataframe tbody tr th {\n",
       "        vertical-align: top;\n",
       "    }\n",
       "\n",
       "    .dataframe thead th {\n",
       "        text-align: right;\n",
       "    }\n",
       "</style>\n",
       "<table border=\"1\" class=\"dataframe\">\n",
       "  <thead>\n",
       "    <tr style=\"text-align: right;\">\n",
       "      <th></th>\n",
       "      <th>0</th>\n",
       "      <th>1</th>\n",
       "      <th>2</th>\n",
       "      <th>3</th>\n",
       "      <th>4</th>\n",
       "      <th>5</th>\n",
       "    </tr>\n",
       "  </thead>\n",
       "  <tbody>\n",
       "    <tr>\n",
       "      <td>0</td>\n",
       "      <td>90</td>\n",
       "      <td>23.0</td>\n",
       "      <td>52.7777</td>\n",
       "      <td>34.4084</td>\n",
       "      <td>1.0</td>\n",
       "      <td>1.0</td>\n",
       "    </tr>\n",
       "    <tr>\n",
       "      <td>1</td>\n",
       "      <td>104</td>\n",
       "      <td>24.0</td>\n",
       "      <td>52.4860</td>\n",
       "      <td>37.5700</td>\n",
       "      <td>0.0</td>\n",
       "      <td>1.0</td>\n",
       "    </tr>\n",
       "    <tr>\n",
       "      <td>2</td>\n",
       "      <td>105</td>\n",
       "      <td>24.0</td>\n",
       "      <td>52.4860</td>\n",
       "      <td>37.5700</td>\n",
       "      <td>15.0</td>\n",
       "      <td>1.0</td>\n",
       "    </tr>\n",
       "    <tr>\n",
       "      <td>3</td>\n",
       "      <td>126</td>\n",
       "      <td>24.0</td>\n",
       "      <td>53.3324</td>\n",
       "      <td>38.5844</td>\n",
       "      <td>1.0</td>\n",
       "      <td>1.0</td>\n",
       "    </tr>\n",
       "    <tr>\n",
       "      <td>4</td>\n",
       "      <td>153</td>\n",
       "      <td>25.0</td>\n",
       "      <td>63.2471</td>\n",
       "      <td>45.0185</td>\n",
       "      <td>0.0</td>\n",
       "      <td>1.0</td>\n",
       "    </tr>\n",
       "  </tbody>\n",
       "</table>\n",
       "</div>"
      ],
      "text/plain": [
       "     0     1        2        3     4    5\n",
       "0   90  23.0  52.7777  34.4084   1.0  1.0\n",
       "1  104  24.0  52.4860  37.5700   0.0  1.0\n",
       "2  105  24.0  52.4860  37.5700  15.0  1.0\n",
       "3  126  24.0  53.3324  38.5844   1.0  1.0\n",
       "4  153  25.0  63.2471  45.0185   0.0  1.0"
      ]
     },
     "execution_count": 5,
     "metadata": {},
     "output_type": "execute_result"
    }
   ],
   "source": [
    "df.head()"
   ]
  },
  {
   "cell_type": "code",
   "execution_count": 6,
   "metadata": {
    "colab": {},
    "colab_type": "code",
    "id": "JjIT-0BBckqc"
   },
   "outputs": [],
   "source": [
    " # add position of the ball on the previous known frame to the row\n",
    "\n",
    "df['shifted_x'] = df[2].shift()\n",
    "df['shifted_y'] = df[3].shift()\n",
    "df['previous_known_frame'] = df[0].shift()"
   ]
  },
  {
   "cell_type": "code",
   "execution_count": 7,
   "metadata": {
    "colab": {
     "base_uri": "https://localhost:8080/",
     "height": 185
    },
    "colab_type": "code",
    "id": "D-yjZo-8ckqe",
    "outputId": "8a88bc03-f2c5-4675-a36a-059f22a7b91a"
   },
   "outputs": [
    {
     "name": "stderr",
     "output_type": "stream",
     "text": [
      "C:\\Users\\stiva\\AppData\\Local\\Continuum\\anaconda3\\lib\\site-packages\\ipykernel_launcher.py:2: SettingWithCopyWarning: \n",
      "A value is trying to be set on a copy of a slice from a DataFrame\n",
      "\n",
      "See the caveats in the documentation: http://pandas.pydata.org/pandas-docs/stable/user_guide/indexing.html#returning-a-view-versus-a-copy\n",
      "  \n",
      "C:\\Users\\stiva\\AppData\\Local\\Continuum\\anaconda3\\lib\\site-packages\\ipykernel_launcher.py:3: SettingWithCopyWarning: \n",
      "A value is trying to be set on a copy of a slice from a DataFrame\n",
      "\n",
      "See the caveats in the documentation: http://pandas.pydata.org/pandas-docs/stable/user_guide/indexing.html#returning-a-view-versus-a-copy\n",
      "  This is separate from the ipykernel package so we can avoid doing imports until\n"
     ]
    }
   ],
   "source": [
    "# fix null values (in the end, frame will be removed..)\n",
    "df['shifted_x'][0]= 1\n",
    "df['shifted_y'][0]= 1"
   ]
  },
  {
   "cell_type": "code",
   "execution_count": 8,
   "metadata": {
    "colab": {},
    "colab_type": "code",
    "id": "7pcYKtgickqh"
   },
   "outputs": [],
   "source": [
    "#Generate a new, empty dataframe (for posterior use)\n",
    "df_complete = pd.DataFrame()"
   ]
  },
  {
   "cell_type": "code",
   "execution_count": 9,
   "metadata": {
    "colab": {
     "base_uri": "https://localhost:8080/",
     "height": 195
    },
    "colab_type": "code",
    "id": "_xuEcWeMckqn",
    "outputId": "c2f50741-87d8-4ee8-e993-c7a12f8155ac"
   },
   "outputs": [
    {
     "data": {
      "text/html": [
       "<div>\n",
       "<style scoped>\n",
       "    .dataframe tbody tr th:only-of-type {\n",
       "        vertical-align: middle;\n",
       "    }\n",
       "\n",
       "    .dataframe tbody tr th {\n",
       "        vertical-align: top;\n",
       "    }\n",
       "\n",
       "    .dataframe thead th {\n",
       "        text-align: right;\n",
       "    }\n",
       "</style>\n",
       "<table border=\"1\" class=\"dataframe\">\n",
       "  <thead>\n",
       "    <tr style=\"text-align: right;\">\n",
       "      <th></th>\n",
       "      <th>0</th>\n",
       "      <th>1</th>\n",
       "      <th>2</th>\n",
       "      <th>3</th>\n",
       "      <th>4</th>\n",
       "      <th>5</th>\n",
       "      <th>shifted_x</th>\n",
       "      <th>shifted_y</th>\n",
       "      <th>previous_known_frame</th>\n",
       "    </tr>\n",
       "  </thead>\n",
       "  <tbody>\n",
       "    <tr>\n",
       "      <td>0</td>\n",
       "      <td>90</td>\n",
       "      <td>23.0</td>\n",
       "      <td>52.7777</td>\n",
       "      <td>34.4084</td>\n",
       "      <td>1.0</td>\n",
       "      <td>1.0</td>\n",
       "      <td>1.0000</td>\n",
       "      <td>1.0000</td>\n",
       "      <td>NaN</td>\n",
       "    </tr>\n",
       "    <tr>\n",
       "      <td>1</td>\n",
       "      <td>104</td>\n",
       "      <td>24.0</td>\n",
       "      <td>52.4860</td>\n",
       "      <td>37.5700</td>\n",
       "      <td>0.0</td>\n",
       "      <td>1.0</td>\n",
       "      <td>52.7777</td>\n",
       "      <td>34.4084</td>\n",
       "      <td>90.0</td>\n",
       "    </tr>\n",
       "    <tr>\n",
       "      <td>2</td>\n",
       "      <td>105</td>\n",
       "      <td>24.0</td>\n",
       "      <td>52.4860</td>\n",
       "      <td>37.5700</td>\n",
       "      <td>15.0</td>\n",
       "      <td>1.0</td>\n",
       "      <td>52.4860</td>\n",
       "      <td>37.5700</td>\n",
       "      <td>104.0</td>\n",
       "    </tr>\n",
       "    <tr>\n",
       "      <td>3</td>\n",
       "      <td>126</td>\n",
       "      <td>24.0</td>\n",
       "      <td>53.3324</td>\n",
       "      <td>38.5844</td>\n",
       "      <td>1.0</td>\n",
       "      <td>1.0</td>\n",
       "      <td>52.4860</td>\n",
       "      <td>37.5700</td>\n",
       "      <td>105.0</td>\n",
       "    </tr>\n",
       "    <tr>\n",
       "      <td>4</td>\n",
       "      <td>153</td>\n",
       "      <td>25.0</td>\n",
       "      <td>63.2471</td>\n",
       "      <td>45.0185</td>\n",
       "      <td>0.0</td>\n",
       "      <td>1.0</td>\n",
       "      <td>53.3324</td>\n",
       "      <td>38.5844</td>\n",
       "      <td>126.0</td>\n",
       "    </tr>\n",
       "  </tbody>\n",
       "</table>\n",
       "</div>"
      ],
      "text/plain": [
       "     0     1        2        3     4    5  shifted_x  shifted_y  \\\n",
       "0   90  23.0  52.7777  34.4084   1.0  1.0     1.0000     1.0000   \n",
       "1  104  24.0  52.4860  37.5700   0.0  1.0    52.7777    34.4084   \n",
       "2  105  24.0  52.4860  37.5700  15.0  1.0    52.4860    37.5700   \n",
       "3  126  24.0  53.3324  38.5844   1.0  1.0    52.4860    37.5700   \n",
       "4  153  25.0  63.2471  45.0185   0.0  1.0    53.3324    38.5844   \n",
       "\n",
       "   previous_known_frame  \n",
       "0                   NaN  \n",
       "1                  90.0  \n",
       "2                 104.0  \n",
       "3                 105.0  \n",
       "4                 126.0  "
      ]
     },
     "execution_count": 9,
     "metadata": {},
     "output_type": "execute_result"
    }
   ],
   "source": [
    "df.head(5)"
   ]
  },
  {
   "cell_type": "code",
   "execution_count": 10,
   "metadata": {
    "colab": {},
    "colab_type": "code",
    "id": "TDdjUd12ckqs",
    "outputId": "bee1e239-78eb-4b5f-a089-06ed6e1b0872"
   },
   "outputs": [],
   "source": [
    "curr_row = 1\n",
    "mapping_row = df['previous_known_frame'][1]\n",
    "curr_x = df['shifted_x'][curr_row]\n",
    "curr_y = df['shifted_y'][curr_row]\n",
    "#Get the numer of unknown rows\n",
    "number_unknown_rows = df[0][curr_row]- df['previous_known_frame'][curr_row]\n",
    "#Calculate position change of each 'phantom row' (current_value - shifted_value / number_unknown_rows)\n",
    "x_to_sum = (df[2][curr_row] - df['shifted_x'][curr_row])/(number_unknown_rows)\n",
    "y_to_sum = (df[3][curr_row] - df['shifted_y'][curr_row])/(number_unknown_rows)\n",
    "#Verify the team with the ball through the player number\n",
    "if (df[1][curr_row]) <= 14:\n",
    "    possession_team = 0\n",
    "else: \n",
    "    possession_team = 1\n",
    "#Append rows to an empty dataset, adding \"phantom\" rows for rows not present in the original\n",
    "df_complete = df_complete.append([[mapping_row, possession_team, df['shifted_x'][curr_row], df['shifted_y'][curr_row]]])\n",
    "\n",
    "#Repeat the above procedures for each row\n",
    "while mapping_row < df[0][df[0].count()-2]:\n",
    "    mapping_row  = mapping_row + 1\n",
    "    if df[0][curr_row] <= mapping_row:\n",
    "        curr_row = curr_row + 1\n",
    "        number_unknown_rows = df[0][curr_row]-df['previous_known_frame'][curr_row]\n",
    "        if (df[1][curr_row]) <= 14:\n",
    "            possession_team = 0\n",
    "        else: \n",
    "            possession_team = 1\n",
    "        if (number_unknown_rows != 0):\n",
    "            x_to_sum = (df[2][curr_row] - df['shifted_x'][curr_row])/(number_unknown_rows)\n",
    "            y_to_sum = (df[3][curr_row] - df['shifted_y'][curr_row])/(number_unknown_rows)\n",
    "        curr_x =df['shifted_x'][curr_row]\n",
    "        curr_y = df['shifted_y'][curr_row]\n",
    "    else:\n",
    "        curr_x = curr_x + x_to_sum\n",
    "        curr_y = curr_y + y_to_sum\n",
    "    df_complete = df_complete.append([[mapping_row, possession_team, curr_x,curr_y]])    \n",
    "    \n",
    "    \n",
    "    "
   ]
  },
  {
   "cell_type": "code",
   "execution_count": 11,
   "metadata": {
    "colab": {},
    "colab_type": "code",
    "id": "Y5mzvcXxckqv",
    "outputId": "d6a9a866-c76b-4ad5-f8b1-74c38c4ff4fb"
   },
   "outputs": [
    {
     "data": {
      "text/html": [
       "<div>\n",
       "<style scoped>\n",
       "    .dataframe tbody tr th:only-of-type {\n",
       "        vertical-align: middle;\n",
       "    }\n",
       "\n",
       "    .dataframe tbody tr th {\n",
       "        vertical-align: top;\n",
       "    }\n",
       "\n",
       "    .dataframe thead th {\n",
       "        text-align: right;\n",
       "    }\n",
       "</style>\n",
       "<table border=\"1\" class=\"dataframe\">\n",
       "  <thead>\n",
       "    <tr style=\"text-align: right;\">\n",
       "      <th></th>\n",
       "      <th>0</th>\n",
       "      <th>1</th>\n",
       "      <th>2</th>\n",
       "      <th>3</th>\n",
       "    </tr>\n",
       "  </thead>\n",
       "  <tbody>\n",
       "    <tr>\n",
       "      <td>0</td>\n",
       "      <td>90.0</td>\n",
       "      <td>1</td>\n",
       "      <td>52.777700</td>\n",
       "      <td>34.408400</td>\n",
       "    </tr>\n",
       "    <tr>\n",
       "      <td>0</td>\n",
       "      <td>91.0</td>\n",
       "      <td>1</td>\n",
       "      <td>52.756864</td>\n",
       "      <td>34.634229</td>\n",
       "    </tr>\n",
       "    <tr>\n",
       "      <td>0</td>\n",
       "      <td>92.0</td>\n",
       "      <td>1</td>\n",
       "      <td>52.736029</td>\n",
       "      <td>34.860057</td>\n",
       "    </tr>\n",
       "    <tr>\n",
       "      <td>0</td>\n",
       "      <td>93.0</td>\n",
       "      <td>1</td>\n",
       "      <td>52.715193</td>\n",
       "      <td>35.085886</td>\n",
       "    </tr>\n",
       "    <tr>\n",
       "      <td>0</td>\n",
       "      <td>94.0</td>\n",
       "      <td>1</td>\n",
       "      <td>52.694357</td>\n",
       "      <td>35.311714</td>\n",
       "    </tr>\n",
       "  </tbody>\n",
       "</table>\n",
       "</div>"
      ],
      "text/plain": [
       "      0  1          2          3\n",
       "0  90.0  1  52.777700  34.408400\n",
       "0  91.0  1  52.756864  34.634229\n",
       "0  92.0  1  52.736029  34.860057\n",
       "0  93.0  1  52.715193  35.085886\n",
       "0  94.0  1  52.694357  35.311714"
      ]
     },
     "execution_count": 11,
     "metadata": {},
     "output_type": "execute_result"
    }
   ],
   "source": [
    "df_complete.head(5)"
   ]
  },
  {
   "cell_type": "code",
   "execution_count": 12,
   "metadata": {
    "colab": {},
    "colab_type": "code",
    "id": "Xhh03t47ckqy"
   },
   "outputs": [],
   "source": [
    "#Fix indexes\n",
    "df_complete = df_complete.set_index(0)\n"
   ]
  },
  {
   "cell_type": "code",
   "execution_count": null,
   "metadata": {
    "colab": {},
    "colab_type": "code",
    "id": "Bvsd88vFckq2"
   },
   "outputs": [],
   "source": []
  },
  {
   "cell_type": "code",
   "execution_count": 13,
   "metadata": {
    "colab": {},
    "colab_type": "code",
    "id": "S03XnGfRckq6"
   },
   "outputs": [],
   "source": [
    "#Save results to new file\n",
    "df_complete.to_csv(JOGO+\".csv\")"
   ]
  },
  {
   "cell_type": "code",
   "execution_count": null,
   "metadata": {
    "colab": {},
    "colab_type": "code",
    "id": "cr_wRNJ7ckq8"
   },
   "outputs": [],
   "source": []
  }
 ],
 "metadata": {
  "colab": {
   "collapsed_sections": [],
   "name": "get_ball_position.ipynb",
   "provenance": []
  },
  "kernelspec": {
   "display_name": "Python 3 (ipykernel)",
   "language": "python",
   "name": "python3"
  },
  "language_info": {
   "codemirror_mode": {
    "name": "ipython",
    "version": 3
   },
   "file_extension": ".py",
   "mimetype": "text/x-python",
   "name": "python",
   "nbconvert_exporter": "python",
   "pygments_lexer": "ipython3",
   "version": "3.8.8"
  }
 },
 "nbformat": 4,
 "nbformat_minor": 1
}
