{
 "cells": [
  {
   "cell_type": "code",
   "execution_count": 1,
   "id": "edcf37e2",
   "metadata": {},
   "outputs": [],
   "source": [
    "import pandas as pd\n",
    "import numpy as np\n",
    "import matplotlib.pyplot as plt\n",
    "import progressbar\n",
    "from sklearn import preprocessing\n",
    "\n",
    "from pathlib import Path\n",
    "import ffmpeg\n",
    "from os.path import isfile, join\n",
    "from os import listdir"
   ]
  },
  {
   "cell_type": "code",
   "execution_count": 2,
   "id": "d83c10af",
   "metadata": {},
   "outputs": [],
   "source": [
    "#Define if the target to check the max value need to be postive or not (positive=arrive at last forth of field)\n",
    "only_positive_targets = False"
   ]
  },
  {
   "cell_type": "code",
   "execution_count": 3,
   "id": "cf1f7a87",
   "metadata": {},
   "outputs": [],
   "source": [
    "all_games = pd.read_csv('all_games.csv')\n",
    "all_games.drop(all_games.columns[[0,1]],1,inplace=True)\n",
    "\n",
    "all_games_og = pd.read_csv('all_games_other_games.csv')\n",
    "all_games_og.drop(all_games_og.columns[[0,1]],1,inplace=True)\n",
    "\n",
    "# all_games_ad = pd.concat([all_games, all_games_og])"
   ]
  },
  {
   "cell_type": "code",
   "execution_count": 4,
   "id": "edf404d2",
   "metadata": {},
   "outputs": [],
   "source": [
    "partidas = pd.read_csv('all_games_ad_FETW.csv')['partida'].unique()\n",
    "partidas = partidas[1:2]"
   ]
  },
  {
   "cell_type": "code",
   "execution_count": 5,
   "id": "7002f4e5",
   "metadata": {
    "scrolled": true
   },
   "outputs": [
    {
     "data": {
      "text/html": [
       "<div>\n",
       "<style scoped>\n",
       "    .dataframe tbody tr th:only-of-type {\n",
       "        vertical-align: middle;\n",
       "    }\n",
       "\n",
       "    .dataframe tbody tr th {\n",
       "        vertical-align: top;\n",
       "    }\n",
       "\n",
       "    .dataframe thead th {\n",
       "        text-align: right;\n",
       "    }\n",
       "</style>\n",
       "<table border=\"1\" class=\"dataframe\">\n",
       "  <thead>\n",
       "    <tr style=\"text-align: right;\">\n",
       "      <th></th>\n",
       "      <th>frame</th>\n",
       "      <th>FETW_end</th>\n",
       "      <th>LAG_start</th>\n",
       "      <th>frame_end</th>\n",
       "      <th>LAG_end</th>\n",
       "      <th>Target_start</th>\n",
       "      <th>interval_frame_size</th>\n",
       "      <th>interval_time</th>\n",
       "      <th>team_possession</th>\n",
       "      <th>target</th>\n",
       "      <th>partida</th>\n",
       "    </tr>\n",
       "  </thead>\n",
       "  <tbody>\n",
       "    <tr>\n",
       "      <th>206</th>\n",
       "      <td>495</td>\n",
       "      <td>662</td>\n",
       "      <td>663</td>\n",
       "      <td>1086.0</td>\n",
       "      <td>918.0</td>\n",
       "      <td>919.0</td>\n",
       "      <td>591.0</td>\n",
       "      <td>17.73</td>\n",
       "      <td>0</td>\n",
       "      <td>0</td>\n",
       "      <td>REDSCAT2</td>\n",
       "    </tr>\n",
       "    <tr>\n",
       "      <th>207</th>\n",
       "      <td>1087</td>\n",
       "      <td>1254</td>\n",
       "      <td>1255</td>\n",
       "      <td>1903.0</td>\n",
       "      <td>1735.0</td>\n",
       "      <td>1736.0</td>\n",
       "      <td>816.0</td>\n",
       "      <td>24.48</td>\n",
       "      <td>1</td>\n",
       "      <td>0</td>\n",
       "      <td>REDSCAT2</td>\n",
       "    </tr>\n",
       "    <tr>\n",
       "      <th>210</th>\n",
       "      <td>2463</td>\n",
       "      <td>2630</td>\n",
       "      <td>2631</td>\n",
       "      <td>2995.0</td>\n",
       "      <td>2827.0</td>\n",
       "      <td>2828.0</td>\n",
       "      <td>532.0</td>\n",
       "      <td>15.96</td>\n",
       "      <td>0</td>\n",
       "      <td>0</td>\n",
       "      <td>REDSCAT2</td>\n",
       "    </tr>\n",
       "    <tr>\n",
       "      <th>212</th>\n",
       "      <td>3058</td>\n",
       "      <td>3225</td>\n",
       "      <td>3226</td>\n",
       "      <td>3591.0</td>\n",
       "      <td>3423.0</td>\n",
       "      <td>3424.0</td>\n",
       "      <td>533.0</td>\n",
       "      <td>15.99</td>\n",
       "      <td>0</td>\n",
       "      <td>1</td>\n",
       "      <td>REDSCAT2</td>\n",
       "    </tr>\n",
       "    <tr>\n",
       "      <th>213</th>\n",
       "      <td>3592</td>\n",
       "      <td>3759</td>\n",
       "      <td>3760</td>\n",
       "      <td>4192.0</td>\n",
       "      <td>4024.0</td>\n",
       "      <td>4025.0</td>\n",
       "      <td>600.0</td>\n",
       "      <td>18.00</td>\n",
       "      <td>1</td>\n",
       "      <td>0</td>\n",
       "      <td>REDSCAT2</td>\n",
       "    </tr>\n",
       "  </tbody>\n",
       "</table>\n",
       "</div>"
      ],
      "text/plain": [
       "     frame  FETW_end  LAG_start  frame_end  LAG_end  Target_start  \\\n",
       "206    495       662        663     1086.0    918.0         919.0   \n",
       "207   1087      1254       1255     1903.0   1735.0        1736.0   \n",
       "210   2463      2630       2631     2995.0   2827.0        2828.0   \n",
       "212   3058      3225       3226     3591.0   3423.0        3424.0   \n",
       "213   3592      3759       3760     4192.0   4024.0        4025.0   \n",
       "\n",
       "     interval_frame_size  interval_time  team_possession  target   partida  \n",
       "206                591.0          17.73                0       0  REDSCAT2  \n",
       "207                816.0          24.48                1       0  REDSCAT2  \n",
       "210                532.0          15.96                0       0  REDSCAT2  \n",
       "212                533.0          15.99                0       1  REDSCAT2  \n",
       "213                600.0          18.00                1       0  REDSCAT2  "
      ]
     },
     "execution_count": 5,
     "metadata": {},
     "output_type": "execute_result"
    }
   ],
   "source": [
    "df_BPIs_info = all_games_og[(all_games_og['partida'] == partidas[0]) & (all_games_og['interval_frame_size'] >= 500)]\n",
    "df_BPIs_info.head()"
   ]
  },
  {
   "cell_type": "markdown",
   "id": "7bfdb41e",
   "metadata": {},
   "source": [
    "## Reading the graph metrics"
   ]
  },
  {
   "cell_type": "code",
   "execution_count": 6,
   "id": "a315449f",
   "metadata": {},
   "outputs": [],
   "source": [
    "#Path where to find graph metrics csvs\n",
    "path_grafo_metric = f'grafo_all_bases/{partidas[0]}/'"
   ]
  },
  {
   "cell_type": "code",
   "execution_count": 7,
   "id": "340659ce",
   "metadata": {},
   "outputs": [],
   "source": [
    "# Read the graph atribute saved\n",
    "def read_files_on_fold(mypath):\n",
    "    \"\"\"\n",
    "    Recive the path where the attributes was saved, and return \n",
    "    the name of all files in the fold\n",
    "    \"\"\"\n",
    "    onlyfiles = [f for f in listdir(mypath) if isfile(join(mypath, f))]\n",
    "    return onlyfiles"
   ]
  },
  {
   "cell_type": "code",
   "execution_count": 8,
   "id": "032894a6",
   "metadata": {},
   "outputs": [],
   "source": [
    "def read_dataframe_metric(file, mypath):\n",
    "    \"\"\"\n",
    "    Recive the file name and the path of file, return a DataFrame\n",
    "    with the atributtes of graphs\n",
    "    \"\"\"\n",
    "    metric = pd.read_csv(mypath+'/'+str(file))\n",
    "    metric.drop(metric.columns[[0]],1, inplace= True)\n",
    "    metric.fillna(0,inplace= True)\n",
    "    \n",
    "    return metric"
   ]
  },
  {
   "cell_type": "code",
   "execution_count": 9,
   "id": "a651cf7f",
   "metadata": {},
   "outputs": [],
   "source": [
    "files = read_files_on_fold(path_grafo_metric)"
   ]
  },
  {
   "cell_type": "code",
   "execution_count": 10,
   "id": "0c08fb92",
   "metadata": {},
   "outputs": [],
   "source": [
    "#List of metrics that we can find the max values\n",
    "top_metrics = [\"locefficiency\", \"entropy\", \"eccentricity\"]"
   ]
  },
  {
   "cell_type": "code",
   "execution_count": 11,
   "id": "70c47700",
   "metadata": {},
   "outputs": [],
   "source": [
    "#Normalizing the values of metrics\n",
    "min_max_scaler = preprocessing.MinMaxScaler()"
   ]
  },
  {
   "cell_type": "code",
   "execution_count": 12,
   "id": "e3028094",
   "metadata": {},
   "outputs": [],
   "source": [
    "def split_underscore(text, idx):\n",
    "    return int(text.split('_')[idx])"
   ]
  },
  {
   "cell_type": "code",
   "execution_count": 13,
   "id": "395d6e28",
   "metadata": {},
   "outputs": [],
   "source": [
    "def target_validation(file):\n",
    "    if only_positive_targets:\n",
    "        if df_BPIs_info.iloc[split_underscore(file,0)]['target'] == 1:\n",
    "            return True\n",
    "        else:\n",
    "            return False\n",
    "    else:\n",
    "        return True"
   ]
  },
  {
   "cell_type": "code",
   "execution_count": 14,
   "id": "ad807992",
   "metadata": {},
   "outputs": [],
   "source": [
    "def get_max_values(metric):\n",
    "    \"\"\"\n",
    "    Recives the metric name and return the max values in the metrics\n",
    "    with the name of the file with the metric.\n",
    "    \"\"\"\n",
    "    list_metrics_t1 = []\n",
    "    list_metrics_t2 = []\n",
    "    max_values = {'t1':0,\n",
    "                  't1_idx':\"\",\n",
    "                  't1_norm':0,\n",
    "                  't2':0,\n",
    "                  't2_idx':\"\",\n",
    "                  't2_norm':0,}\n",
    "    \n",
    "    for file in progressbar.progressbar(files):\n",
    "        if (file.split('_')[1] == metric) & target_validation(file):\n",
    "            if 't1' in file.split('_')[2]:\n",
    "                metric_t1 = read_dataframe_metric(file, path_grafo_metric)\n",
    "                list_metrics_t1.append(metric_t1)\n",
    "                if metric_t1.max().max() > max_values['t1']:\n",
    "                    max_values['t1'] = metric_t1.max().max()\n",
    "                    max_values['t1_idx'] = file\n",
    "                    max_values['t1_norm'] = min_max_scaler.fit_transform(metric_t1)\n",
    "            elif 't2' in file.split('_')[2]:\n",
    "                metric_t2 = read_dataframe_metric(file, path_grafo_metric)\n",
    "                list_metrics_t2.append(metric_t2)\n",
    "                if metric_t2.max().max() > max_values['t2']:\n",
    "                    max_values['t2'] = metric_t1.max().max()\n",
    "                    max_values['t2_idx'] = file\n",
    "                    max_values['t2_norm'] = min_max_scaler.fit_transform(metric_t2)\n",
    "    return max_values"
   ]
  },
  {
   "cell_type": "code",
   "execution_count": 15,
   "id": "1d3dab7a",
   "metadata": {},
   "outputs": [
    {
     "name": "stderr",
     "output_type": "stream",
     "text": [
      "100% (1452 of 1452) |####################| Elapsed Time: 0:00:00 Time:  0:00:00\n",
      "100% (1452 of 1452) |####################| Elapsed Time: 0:00:00 Time:  0:00:00\n",
      "100% (1452 of 1452) |####################| Elapsed Time: 0:00:00 Time:  0:00:00\n"
     ]
    }
   ],
   "source": [
    "list_max_metrics = []\n",
    "for metric in top_metrics:\n",
    "    list_max_metrics.append(get_max_values(metric))"
   ]
  },
  {
   "cell_type": "code",
   "execution_count": null,
   "id": "ec953d65",
   "metadata": {},
   "outputs": [],
   "source": []
  },
  {
   "cell_type": "markdown",
   "id": "41e7a05a",
   "metadata": {},
   "source": [
    "## Creatig the graph"
   ]
  },
  {
   "cell_type": "code",
   "execution_count": 16,
   "id": "e568cfae",
   "metadata": {},
   "outputs": [],
   "source": [
    "import networkx as nx\n",
    "import scipy.spatial\n",
    "import math\n",
    "import gc"
   ]
  },
  {
   "cell_type": "code",
   "execution_count": 17,
   "id": "4c3c9080",
   "metadata": {},
   "outputs": [],
   "source": [
    "def create_graph():\n",
    "    players_data = players_positions_FETW.copy()\n",
    "    players_data = players_data.drop([0],axis=1)\n",
    "    players_data.columns = [i+1 for i in range(len(players_data.columns))]\n",
    "    players_data = players_data.transpose()\n",
    "\n",
    "    def create_graph_nodes(row):\n",
    "        position_list=[]\n",
    "        G = nx.Graph()\n",
    "        k = 0\n",
    "        j = 0\n",
    "        #Add the node \"j\", containing the argument \"pos=x_coord, y_coord, for the fist team (k = 0 to 22)\"\n",
    "        while k < 28:\n",
    "            #Apend the coordnates of the player to the postion list (will be used on a future opertion)\n",
    "            #if (row[k] > -100) & (row[k+1] > -100):\n",
    "            position_list.append([row[k],row[k+1]])\n",
    "            G.add_node(j, pos=(row[k],row[k+1]))\n",
    "            j = j+1\n",
    "            k = k+2\n",
    "        #Apend the graph to the graph list\n",
    "        graph_list.append(G)\n",
    "        j=0\n",
    "        # apend the position list for the current frame to the list of positions lists (will be used on a future opertion)\n",
    "        group_of_position_lists.append(position_list)\n",
    "\n",
    "        #Repeat all for the second team\"\n",
    "        G = nx.Graph()\n",
    "        position_list=[]\n",
    "        while k < 60:\n",
    "            #if (row[k] > -100) & (row[k+1] > -100):\n",
    "            position_list.append([row[k],row[k+1]])\n",
    "            G.add_node(j, pos=(row[k],row[k+1]))\n",
    "            j = j+1\n",
    "            k = k+2\n",
    "        graph_list.append(G)\n",
    "        #will be used to generate delaunay trianges\n",
    "        group_of_position_lists.append(position_list)\n",
    "        return 0\n",
    "\n",
    "    #Transform the dataset into a numpy_array and call the function above\n",
    "    x= players_data.values\n",
    "    np.apply_along_axis(create_graph_nodes, 0, x)\n",
    "\n",
    "    #create a list of tuples, containing player positions\n",
    "    for a_graph in (graph_list):\n",
    "        list_pos.append(nx.get_node_attributes(a_graph,'pos'))\n",
    "\n",
    "    for pos_list in (group_of_position_lists):\n",
    "        triang_del_list.append(scipy.spatial.Delaunay(pos_list))\n",
    "\n",
    "    #create edges from delaunay triangles\n",
    "\n",
    "    # for each set of triangles\n",
    "    i = 0\n",
    "    for delTri in (triang_del_list):\n",
    "        edges = set()\n",
    "        # for each Delaunay triangle\n",
    "        for n in range(delTri.nsimplex):\n",
    "        # for each edge of the triangle\n",
    "        # sort the vertices\n",
    "        # (sorting avoids duplicated edges being added to the set)\n",
    "        # and add to the edges set\n",
    "            edge = sorted([delTri.vertices[n,0], delTri.vertices[n,1]])\n",
    "            edges.add((edge[0], edge[1]))\n",
    "            edge = sorted([delTri.vertices[n,0], delTri.vertices[n,2]])\n",
    "            edges.add((edge[0], edge[1]))\n",
    "            edge = sorted([delTri.vertices[n,1], delTri.vertices[n,2]])\n",
    "            edges.add((edge[0], edge[1]))\n",
    "        graph = nx.Graph(list(edges)) \n",
    "        nx.set_node_attributes(graph, list_pos[i], 'pos')\n",
    "        graph_group.append(graph)\n",
    "        i = i+1\n",
    "\n",
    "    # Delete edges from players with adversaries close (pos dif < 0.5) to them\n",
    "    i=0\n",
    "    #for i in progressbar.progressbar(range(len(list_pos))):\n",
    "    while i < len(list_pos):\n",
    "        for pos_id, pos_values in list_pos[i].items():\n",
    "            for pos_adv, pos_values_adv in list_pos[i+1].items():\n",
    "                #Get distance on the x axis\n",
    "                dist_x = pos_values[0] - pos_values_adv[0]\n",
    "                 #Get distance on the y axis\n",
    "                dist_y = pos_values[1] - pos_values_adv[1]\n",
    "                #Calculate distance\n",
    "                dist_total = math.hypot(dist_y,dist_x)\n",
    "                # if distance <0.5, remove the all edges by deleting and re-adding the node\n",
    "                # do it for graph of both teams\n",
    "                if dist_total < 0.5:\n",
    "                    if graph_group[i].has_node(pos_id):\n",
    "                        m_node = graph_group[i].nodes[pos_id]\n",
    "                        graph_group[i].remove_node(pos_id)\n",
    "                        graph_group[i].add_node(pos_id, pos=pos_values)\n",
    "\n",
    "                    if graph_group[i+1].has_node(pos_id) & graph_group[i+1].has_node(pos_adv):\n",
    "                        m_node_adv = graph_group[i+1].nodes[pos_id]\n",
    "                        graph_group[i+1].remove_node(pos_adv)\n",
    "                        graph_group[i+1].add_node(pos_adv, pos=pos_values_adv)\n",
    "        i = i+2"
   ]
  },
  {
   "cell_type": "code",
   "execution_count": 18,
   "id": "2fab4894",
   "metadata": {},
   "outputs": [],
   "source": [
    "def remove_node_graph_group(graph_number, graph_group):\n",
    "    node_to_remove = []##Lista com os nós com distancia errada\n",
    "    \n",
    "    for node in graph_group[graph_number].nodes():\n",
    "       \n",
    "        try: \n",
    "            if -9999 in graph_group[graph_number].nodes[node]['pos']:\n",
    "                node_to_remove.append(node)\n",
    "            \n",
    "        except KeyError:\n",
    "             node_to_remove.append(node)\n",
    "                \n",
    "    for node in node_to_remove:\n",
    "        graph_group[graph_number].remove_node(node)"
   ]
  },
  {
   "cell_type": "code",
   "execution_count": 19,
   "id": "8a6cb396",
   "metadata": {},
   "outputs": [],
   "source": [
    "#Função que pega a posição dos jogadores só dos intervalos de FETW\n",
    "def get_FETW_interval(FETW_ini,FETW_end):\n",
    "    list_player.append(players_positions.iloc[FETW_ini:FETW_end])"
   ]
  },
  {
   "cell_type": "code",
   "execution_count": null,
   "id": "0917f6f4",
   "metadata": {},
   "outputs": [],
   "source": []
  },
  {
   "cell_type": "code",
   "execution_count": 20,
   "id": "003dfbe1",
   "metadata": {},
   "outputs": [
    {
     "name": "stderr",
     "output_type": "stream",
     "text": [
      "\r",
      "  0% (0 of 1) |                          | Elapsed Time: 0:00:00 ETA:  --:--:--"
     ]
    },
    {
     "name": "stdout",
     "output_type": "stream",
     "text": [
      "REDSCAT2\n"
     ]
    },
    {
     "name": "stderr",
     "output_type": "stream",
     "text": [
      "100% (66 of 66) |########################| Elapsed Time: 0:00:53 Time:  0:00:53\n",
      "100% (1 of 1) |##########################| Elapsed Time: 0:00:56 Time:  0:00:56\n"
     ]
    }
   ],
   "source": [
    "for partida in progressbar.progressbar(partidas):  \n",
    "    \n",
    "    graph_list_BPI = []#Lista da dos grafos para cada BPI\n",
    "    \n",
    "    #Mostra qual partida está sendo analisada\n",
    "    print(partida)\n",
    "\n",
    "    #Lendo posição dos jogadores\n",
    "    players_positions = pd.read_csv('Jogos\\\\'+partida+'suav.2d', sep =('\\s+'), header=None)\n",
    "\n",
    "    list_player = [] #Lista com as posição de FETW\n",
    "    players_positions_FETW = pd.DataFrame() #DataFrame de posição dos jogadores (considerando somente FETW)\n",
    "\n",
    "    #Define o conjunto de dados\n",
    "    game_1 = all_games[(all_games.partida == partida) & (all_games.interval_frame_size >= 500)]\n",
    "    #game_1 = all_games[(all_games.partida == partida)]\n",
    "\n",
    "    #Extraindo in\n",
    "    game_1.apply(lambda x: get_FETW_interval(int(x.frame),int(x.FETW_end)),1)\n",
    "\n",
    "    #Criando Dataframe com todas as posições de FETW\n",
    "    #for jogo in list_player:\n",
    "        #players_positions_FETW = pd.concat([players_positions_FETW, jogo])\n",
    "\n",
    "    #Loop para gerar um arquivo para cada FETW, e dps com data arquivo gerar uma imagem\n",
    "    FETW_count = 0\n",
    "    for jogo in progressbar.progressbar(list_player):\n",
    "\n",
    "        #Cria o dataframe dos dados do FETW atual\n",
    "        players_positions_FETW = pd.DataFrame(jogo)\n",
    "\n",
    "        #Mostra qual o FETW atual\n",
    "        #print(FETW_count)\n",
    "\n",
    "        #Define variaveis globais\n",
    "        graph_list = []\n",
    "        group_of_position_lists = []\n",
    "        list_pos = []\n",
    "        triang_del_list = []\n",
    "        graph_group = []\n",
    "        bet_cen_matrix_t1 = []\n",
    "        bet_cen_matrix_t2 = []\n",
    "\n",
    "        #Métos que geram os nodes\n",
    "        create_graph()\n",
    "        #create_digraph()\n",
    "        graph_list_BPI.append(graph_group)\n",
    "\n",
    "        #Liberando espaço\n",
    "        #del triang_del_list\n",
    "        del group_of_position_lists\n",
    "        del list_pos\n",
    "        gc.collect()\n",
    "\n",
    "        FETW_count += 1"
   ]
  },
  {
   "cell_type": "markdown",
   "id": "0119e039",
   "metadata": {},
   "source": [
    "## Construing the image"
   ]
  },
  {
   "cell_type": "code",
   "execution_count": 21,
   "id": "3d80efd7",
   "metadata": {},
   "outputs": [],
   "source": [
    "def set_one_edge(H):\n",
    "    for i in H.nodes():\n",
    "        H.remove_edges_from(list(H.in_edges(i))[1:])\n",
    "    return H"
   ]
  },
  {
   "cell_type": "code",
   "execution_count": null,
   "id": "9175740c",
   "metadata": {},
   "outputs": [],
   "source": []
  },
  {
   "cell_type": "code",
   "execution_count": null,
   "id": "0c2a3581",
   "metadata": {},
   "outputs": [],
   "source": []
  },
  {
   "cell_type": "code",
   "execution_count": 39,
   "id": "06c182e6",
   "metadata": {},
   "outputs": [],
   "source": [
    "def graph_image_generate(graph_group, graf_even, graf_odd, bpi_count, FETW, edges=False, \n",
    "                         node_proportion=False,title_text=\"\",save_image=False):\n",
    "    #https://networkx.org/documentation/stable/reference/generated/networkx.drawing.nx_pylab.draw_networkx.html\n",
    "    #Lib q plota os grafos\n",
    "    \n",
    "    remove_node_graph_group(graf_even, graph_group) # Remove node sem posição\n",
    "    remove_node_graph_group(graf_odd, graph_group)\n",
    "    \n",
    "    #h1 = graph_group[graf_odd].to_directed() #Transforma o grafo em direcionado\n",
    "    #h2 = graph_group[graf_even].to_directed()\n",
    "    \n",
    "    h1 = graph_group[graf_odd]\n",
    "    h2 = graph_group[graf_even]\n",
    "    h3 = ball_nodes[bpi_count]\n",
    "    \n",
    "    #h1 = set_one_edge(h1) #Remove os edges deixando somente a primeira\n",
    "    #h2 = set_one_edge(h2)\n",
    "    \n",
    "    my_pos=nx.get_node_attributes(h1,'pos')#Pega as posições do grafo\n",
    "    my_pos_adv=nx.get_node_attributes(h2,'pos')\n",
    "    ball_pos = nx.get_node_attributes(h3,'pos')\n",
    "    \n",
    "    img = plt.imread(\"soccer_field.png\")#Carrega imagem de fundo\n",
    "\n",
    "    fig, ax = plt.subplots(figsize=(12,8))#Tamanho da plotagem\n",
    "    ax.imshow(img, extent=[-5,110, -5, 70])#Tamanho do campo em pixels\n",
    "\n",
    "    #print(len(h1.nodes))\n",
    "    #print(len(h2.nodes))\n",
    "    \n",
    "    # Gera as arestas e altera o tamanho do nó depedendo do valor da métrica\n",
    "    if node_proportion & edges:\n",
    "        # print('Grafo com edges')\n",
    "        nx.draw_networkx(h1, my_pos, nodelist = sorted(h1.nodes),\n",
    "                         node_color=\"#06daf9\",edge_color=\"blue\",label='Team 1',font_size=15,\n",
    "                         edgelist=h1.edges, node_size=[v * 300 for v in metric_1_scaled[bpi_count] + 1])\n",
    "\n",
    "        nx.draw_networkx(h2, my_pos_adv, nodelist = sorted(h2.nodes),\n",
    "                         node_color=\"#d73502\", edge_color=\"red\",label='Team 2',font_size=15,\n",
    "                         edgelist=h2.edges, node_size=[v * 300 for v in metric_2_scaled[bpi_count] + 1])\n",
    "    \n",
    "    elif edges:\n",
    "        nx.draw_networkx(h1, my_pos, nodelist = sorted(h1.nodes),\n",
    "                         node_color=\"#06daf9\",edge_color=\"blue\",label='Team 1',font_size=15,\n",
    "                         edgelist=h1.edges)\n",
    "\n",
    "        nx.draw_networkx(h2, my_pos_adv, nodelist = sorted(h2.nodes),\n",
    "                         node_color=\"#d73502\", edge_color=\"red\",label='Team 2',font_size=15,\n",
    "                         edgelist=h2.edges)\n",
    "    # Caso contrário plota somente os nós\n",
    "    else:\n",
    "        # print('Grafo sem edges')\n",
    "        nx.draw_networkx(h1, my_pos, nodelist = sorted(h1.nodes),edgelist=[],\n",
    "                         node_color=\"#06daf9\",edge_color=\"blue\",label='Team 1',font_size=15)\n",
    "\n",
    "        nx.draw_networkx(h2, my_pos_adv, nodelist = sorted(h2.nodes),edgelist=[],\n",
    "                         node_color=\"#d73502\", edge_color=\"red\",label='Team 2',font_size=15)\n",
    "        \n",
    "    nx.draw_networkx(h3, ball_pos, node_size=100,\n",
    "                     node_color=\"#000000\", edge_color=\"black\",label='Ball',font_size=15)\n",
    "\n",
    "    ax.legend()\n",
    "    \n",
    "    if edges:\n",
    "        path = 'ffmpeg_fetws/article_results_edges_eng'+str(FETW)+'/'\n",
    "    else:\n",
    "        path = 'ffmpeg_fetws/article_results_eng'+str(FETW)+'/'\n",
    "        \n",
    "    ax.title.set_text(f\"Example of {title_text}\")\n",
    "    \n",
    "    if save_image:\n",
    "        Path(path).mkdir(parents=True, exist_ok=True)\n",
    "\n",
    "        fig.savefig(path+title_text\n",
    "                   +'.svg',transparent=True, format='svg')#Salva a imagem em SVG transparentere\n",
    "\n",
    "\n",
    "        fig.clear()"
   ]
  },
  {
   "cell_type": "code",
   "execution_count": 23,
   "id": "4b08cd92",
   "metadata": {},
   "outputs": [],
   "source": [
    "def plot_generate(graph_group, graf_even, graf_odd, bpi_count):\n",
    "    #https://networkx.org/documentation/stable/reference/generated/networkx.drawing.nx_pylab.draw_networkx.html\n",
    "    #Lib q plota os grafos\n",
    "    \n",
    "    remove_node_graph_group(graf_even, graph_group) # Remove node sem posição\n",
    "    remove_node_graph_group(graf_odd, graph_group)\n",
    "    \n",
    "    #h1 = graph_group[graf_odd].to_directed() #Transforma o grafo em direcionado\n",
    "    #h2 = graph_group[graf_even].to_directed()\n",
    "    \n",
    "    h1 = graph_group[graf_odd]\n",
    "    h2 = graph_group[graf_even]\n",
    "    h3 = ball_nodes[bpi_count]\n",
    "    \n",
    "    #h1 = set_one_edge(h1) #Remove os edges deixando somente a primeira\n",
    "    #h2 = set_one_edge(h2)\n",
    "    \n",
    "    my_pos=nx.get_node_attributes(h1,'pos')#Pega as posições do grafo\n",
    "    my_pos_adv=nx.get_node_attributes(h2,'pos')\n",
    "    ball_pos = nx.get_node_attributes(h3,'pos')\n",
    "    \n",
    "    img = plt.imread(\"soccer_field.png\")#Carrega imagem de fundo\n",
    "\n",
    "    fig, ax = plt.subplots(figsize=(12,8))#Tamanho da plotagem\n",
    "    ax.imshow(img, extent=[-5,110, -5, 70])#Tamanho do campo em pixels\n",
    "\n",
    "    #print(len(h1.nodes))\n",
    "    #print(len(h2.nodes))\n",
    "    \n",
    "    # Gera as arestas e altera o tamanho do nó depedendo do valor da métrica\n",
    "\n",
    "    # print('Grafo com edges')\n",
    "    nx.draw_networkx(h1, my_pos, nodelist = sorted(h1.nodes),\n",
    "                     node_color=\"#06daf9\",edge_color=\"blue\",label='Team 1',font_size=15,\n",
    "                     edgelist=h1.edges)\n",
    "\n",
    "    nx.draw_networkx(h2, my_pos_adv, nodelist = sorted(h2.nodes),\n",
    "                     node_color=\"#d73502\", edge_color=\"red\",label='Team 2',font_size=15,\n",
    "                     edgelist=h2.edges)\n",
    " \n",
    "    ax.legend()  \n",
    "#     ax.title.set_text(\"Distribuição dos jogadores em campo\")\n",
    "    ax.title.set_text(\"Distribution of players at the soccer field\")"
   ]
  },
  {
   "cell_type": "code",
   "execution_count": 24,
   "id": "38e719d7",
   "metadata": {},
   "outputs": [],
   "source": [
    "def generate_imagens_to_ffmpeg(bpi, edges=False):\n",
    "    \n",
    "    #comando para rodar e gerar um video com todas as imagens .png da pasta\n",
    "    #ffmpeg -f image2 -i img%d.png test.mp4\n",
    "    \n",
    "    count = 0\n",
    "    for graph in range(int(len(graph_list_BPI[bpi])/2)-1):\n",
    "        graph_image_generate(graph_list_BPI[bpi], count, count+1, graph, bpi, edges)\n",
    "        #print(count)\n",
    "        count+=2\n",
    "        #graph_image_generate()"
   ]
  },
  {
   "cell_type": "code",
   "execution_count": 25,
   "id": "022f7c64",
   "metadata": {},
   "outputs": [],
   "source": [
    "def generate_imagens_to_ffmpeg_all_game():\n",
    "    \n",
    "    #comando para rodar e gerar um video com todas as imagens .png da pasta\n",
    "    #ffmpeg -f image2 -i img%d.png test.mp4\n",
    "    \n",
    "    all_game_frame_count = 0\n",
    "    for bpi in progressbar.progressbar(range(len(graph_list_BPI))):\n",
    "        count = 0\n",
    "        for graph in range(int(len(graph_list_BPI[bpi])/2)):\n",
    "            graph_image_generate(graph_list_BPI[bpi], count, count+1, all_game_frame_count, FETW)\n",
    "            #print(count)\n",
    "            count+=2\n",
    "            #graph_image_generate()\n",
    "            all_game_frame_count+=1"
   ]
  },
  {
   "cell_type": "code",
   "execution_count": null,
   "id": "e560ecdb",
   "metadata": {},
   "outputs": [],
   "source": []
  },
  {
   "cell_type": "markdown",
   "id": "75e6a4c0",
   "metadata": {},
   "source": [
    "## Reading the ball possession"
   ]
  },
  {
   "cell_type": "code",
   "execution_count": 26,
   "id": "97c8ffa0",
   "metadata": {},
   "outputs": [],
   "source": [
    "ball_possition = pd.read_csv(f\"ball_position/ball_position_{partidas[0]}.csv\")"
   ]
  },
  {
   "cell_type": "code",
   "execution_count": 27,
   "id": "1cdff711",
   "metadata": {},
   "outputs": [],
   "source": [
    "def create_ball_graph(xball):\n",
    "    \"\"\"\n",
    "    Recives the DataFrame with ball possision and return\n",
    "    a Graph with this information.\n",
    "    \"\"\"\n",
    "    ball_nodes = []\n",
    "    for bpi_ball in xball:\n",
    "        G = nx.Graph()\n",
    "        G.add_node('B', pos=(bpi_ball[0], bpi_ball[1]))\n",
    "        ball_nodes.append(G)\n",
    "\n",
    "    return ball_nodes"
   ]
  },
  {
   "cell_type": "code",
   "execution_count": 28,
   "id": "54f832a1",
   "metadata": {},
   "outputs": [],
   "source": [
    "def get_ball_info(frames):\n",
    "    \"\"\"\n",
    "    Return the Graph with the posistion of ball during the FETW\n",
    "    (the first 167 frames on ball possession).\n",
    "    \"\"\"\n",
    "    frame_start = frames[0]\n",
    "    frame_end = frames[1]\n",
    "    \n",
    "    ball_posi_bpi = ball_possition.iloc[frame_start:frame_end,2:].copy()\n",
    "    xball = ball_posi_bpi.values\n",
    "    ball_nodes = create_ball_graph(xball)\n",
    "    \n",
    "    return ball_nodes"
   ]
  },
  {
   "cell_type": "code",
   "execution_count": null,
   "id": "5a641bcd",
   "metadata": {},
   "outputs": [],
   "source": []
  },
  {
   "cell_type": "markdown",
   "id": "f1f1711c",
   "metadata": {},
   "source": [
    "## Ploting the image"
   ]
  },
  {
   "cell_type": "code",
   "execution_count": 29,
   "id": "eac2a063",
   "metadata": {},
   "outputs": [],
   "source": [
    "metric_1_scaled = list_max_metrics[0]['t1_norm']\n",
    "metric_2_scaled = list_max_metrics[0]['t2_norm']"
   ]
  },
  {
   "cell_type": "code",
   "execution_count": 30,
   "id": "c45ddc0b",
   "metadata": {},
   "outputs": [],
   "source": [
    "ball_nodes = get_ball_info(df_BPIs_info.iloc[int(list_max_metrics[0]['t1_idx'].split('_')[0])][['frame','FETW_end']])"
   ]
  },
  {
   "cell_type": "code",
   "execution_count": 31,
   "id": "12f8ab11",
   "metadata": {},
   "outputs": [
    {
     "data": {
      "text/plain": [
       "<Figure size 864x576 with 0 Axes>"
      ]
     },
     "metadata": {},
     "output_type": "display_data"
    }
   ],
   "source": [
    "graph_image_generate(graph_list_BPI[int(list_max_metrics[0]['t1_idx'].split('_')[0])],0,1,0,0,title_text='players3',save_image=True)"
   ]
  },
  {
   "cell_type": "code",
   "execution_count": 32,
   "id": "a686bee7",
   "metadata": {},
   "outputs": [],
   "source": [
    "top_metrics_pt = ['Eficiencia local', 'Entropia','Excentricidade']\n",
    "top_metrics_eg = ['Local efficiency', 'Entropy', 'Eccentricity']"
   ]
  },
  {
   "cell_type": "markdown",
   "id": "e1f8b232",
   "metadata": {},
   "source": [
    "## Saving all principal metrics (both teams)"
   ]
  },
  {
   "cell_type": "code",
   "execution_count": 37,
   "id": "b40c4461",
   "metadata": {},
   "outputs": [],
   "source": []
  },
  {
   "cell_type": "code",
   "execution_count": 41,
   "id": "65f6b8ee",
   "metadata": {},
   "outputs": [
    {
     "name": "stdout",
     "output_type": "stream",
     "text": [
      "BPI utilizado 58\n",
      "BPI utilizado 29\n",
      "BPI utilizado 16\n",
      "BPI utilizado 38\n",
      "BPI utilizado 37\n",
      "BPI utilizado 16\n"
     ]
    },
    {
     "data": {
      "text/plain": [
       "<Figure size 864x576 with 0 Axes>"
      ]
     },
     "metadata": {},
     "output_type": "display_data"
    },
    {
     "data": {
      "text/plain": [
       "<Figure size 864x576 with 0 Axes>"
      ]
     },
     "metadata": {},
     "output_type": "display_data"
    },
    {
     "data": {
      "text/plain": [
       "<Figure size 864x576 with 0 Axes>"
      ]
     },
     "metadata": {},
     "output_type": "display_data"
    },
    {
     "data": {
      "text/plain": [
       "<Figure size 864x576 with 0 Axes>"
      ]
     },
     "metadata": {},
     "output_type": "display_data"
    },
    {
     "data": {
      "text/plain": [
       "<Figure size 864x576 with 0 Axes>"
      ]
     },
     "metadata": {},
     "output_type": "display_data"
    },
    {
     "data": {
      "text/plain": [
       "<Figure size 864x576 with 0 Axes>"
      ]
     },
     "metadata": {},
     "output_type": "display_data"
    }
   ],
   "source": [
    "teams = ['t1','t2']\n",
    "for team in teams:\n",
    "    for principal_metric_idx in range(len(top_metrics)):\n",
    "        \n",
    "        #Get the number of BPI with max value of the metric\n",
    "        metric_BPI_idx = split_underscore(list_max_metrics[principal_metric_idx][f'{team}_idx'],0)\n",
    "        print(f'BPI utilizado {metric_BPI_idx}')\n",
    "\n",
    "        #Get the ball localization\n",
    "        ball_nodes = get_ball_info(df_BPIs_info.iloc[metric_BPI_idx][['frame','FETW_end']])\n",
    "\n",
    "        #Normalization of the metrics values\n",
    "        metric_1_scaled = list_max_metrics[principal_metric_idx]['t1_norm']\n",
    "        metric_2_scaled = list_max_metrics[principal_metric_idx]['t2_norm']\n",
    "\n",
    "        graph_image_generate(graph_list_BPI[metric_BPI_idx],\n",
    "                             0,1,0,0,\n",
    "                             edges=True,\n",
    "                             node_proportion=True,\n",
    "                             title_text=f\"{top_metrics_eg[principal_metric_idx]} of {team}\"\n",
    "                             ,save_image=True)"
   ]
  },
  {
   "cell_type": "code",
   "execution_count": 34,
   "id": "7926895d",
   "metadata": {},
   "outputs": [
    {
     "data": {
      "text/plain": [
       "[{'t1': 0.8166666666666667,\n",
       "  't1_idx': '58_locefficiency_t1.csv',\n",
       "  't1_norm': array([[0.85294118, 0.66916355, 0.82528025, ..., 0.75839717, 0.75799836,\n",
       "          0.7030731 ],\n",
       "         [0.85294118, 0.66916355, 0.82528025, ..., 0.75839717, 0.75799836,\n",
       "          0.7030731 ],\n",
       "         [0.85294118, 0.66916355, 0.82528025, ..., 0.75839717, 0.75799836,\n",
       "          0.7030731 ],\n",
       "         ...,\n",
       "         [0.15441176, 0.        , 0.04455611, ..., 0.        , 0.        ,\n",
       "          0.        ],\n",
       "         [0.15441176, 0.        , 0.04455611, ..., 0.        , 0.        ,\n",
       "          0.        ],\n",
       "         [0.15441176, 0.        , 0.04455611, ..., 0.        , 0.        ,\n",
       "          0.        ]]),\n",
       "  't2': 0.7999999999999999,\n",
       "  't2_idx': '38_locefficiency_t2.csv',\n",
       "  't2_norm': array([[0.66101695, 0.64102564, 0.61538462, ..., 0.91148491, 0.93929594,\n",
       "          0.97598463],\n",
       "         [0.66101695, 0.64102564, 0.61538462, ..., 0.91148491, 0.93929594,\n",
       "          0.97598463],\n",
       "         [0.66101695, 0.64102564, 0.61538462, ..., 0.91148491, 0.93929594,\n",
       "          0.97598463],\n",
       "         ...,\n",
       "         [0.        , 0.        , 0.        , ..., 0.        , 0.        ,\n",
       "          0.        ],\n",
       "         [0.        , 0.        , 0.        , ..., 0.        , 0.        ,\n",
       "          0.        ],\n",
       "         [0.        , 0.        , 0.        , ..., 0.        , 0.        ,\n",
       "          0.        ]])},\n",
       " {'t1': 2.3653816717703675,\n",
       "  't1_idx': '29_entropy_t1.csv',\n",
       "  't1_norm': array([[0.67882012, 0.69949892, 0.96585944, ..., 0.56380863, 0.89820302,\n",
       "          0.94468914],\n",
       "         [0.67882012, 0.69949892, 0.96585944, ..., 0.56380863, 0.89820302,\n",
       "          0.94468914],\n",
       "         [0.67882012, 0.69949892, 0.96585944, ..., 0.56380863, 0.89820302,\n",
       "          0.94468914],\n",
       "         ...,\n",
       "         [0.85111412, 0.8449307 , 0.56868549, ..., 0.94687554, 0.84933761,\n",
       "          0.98099041],\n",
       "         [0.85111412, 0.8449307 , 0.56868549, ..., 0.94687554, 0.84933761,\n",
       "          0.98099041],\n",
       "         [0.85111412, 0.8449307 , 0.56868549, ..., 0.94687554, 0.84933761,\n",
       "          0.98099041]]),\n",
       "  't2': 2.3424704979334248,\n",
       "  't2_idx': '37_entropy_t2.csv',\n",
       "  't2_norm': array([[0.75458978, 1.        , 0.8152684 , ..., 0.91782381, 0.75644957,\n",
       "          0.95590008],\n",
       "         [0.75458978, 1.        , 0.8152684 , ..., 0.91782381, 0.75644957,\n",
       "          0.95590008],\n",
       "         [0.75458978, 1.        , 0.8152684 , ..., 0.91782381, 0.75644957,\n",
       "          0.95590008],\n",
       "         ...,\n",
       "         [0.09866191, 0.        , 0.69149314, ..., 0.82001058, 0.28566043,\n",
       "          0.        ],\n",
       "         [0.09866191, 0.        , 0.69149314, ..., 0.82001058, 0.28566043,\n",
       "          0.        ],\n",
       "         [0.09866191, 0.        , 0.69149314, ..., 0.82001058, 0.28566043,\n",
       "          0.        ]])},\n",
       " {'t1': 4,\n",
       "  't1_idx': '16_eccentricity_t1.csv',\n",
       "  't1_norm': array([[0., 0., 1., ..., 0., 0., 0.],\n",
       "         [0., 0., 1., ..., 0., 0., 0.],\n",
       "         [0., 0., 1., ..., 0., 0., 0.],\n",
       "         ...,\n",
       "         [0., 1., 1., ..., 0., 1., 1.],\n",
       "         [0., 1., 1., ..., 0., 1., 1.],\n",
       "         [0., 1., 1., ..., 0., 1., 1.]]),\n",
       "  't2': 4,\n",
       "  't2_idx': '16_eccentricity_t2.csv',\n",
       "  't2_norm': array([[1., 0., 1., ..., 1., 1., 1.],\n",
       "         [1., 0., 1., ..., 1., 1., 0.],\n",
       "         [1., 0., 1., ..., 1., 1., 0.],\n",
       "         ...,\n",
       "         [0., 0., 0., ..., 1., 1., 1.],\n",
       "         [0., 0., 0., ..., 1., 1., 1.],\n",
       "         [0., 0., 0., ..., 1., 1., 1.]])}]"
      ]
     },
     "execution_count": 34,
     "metadata": {},
     "output_type": "execute_result"
    }
   ],
   "source": [
    "list_max_metrics"
   ]
  },
  {
   "cell_type": "code",
   "execution_count": null,
   "id": "2bd6dc7f",
   "metadata": {},
   "outputs": [],
   "source": []
  },
  {
   "cell_type": "code",
   "execution_count": null,
   "id": "9c191830",
   "metadata": {},
   "outputs": [],
   "source": []
  },
  {
   "cell_type": "code",
   "execution_count": null,
   "id": "7771c4f4",
   "metadata": {},
   "outputs": [],
   "source": []
  }
 ],
 "metadata": {
  "kernelspec": {
   "display_name": "Python 3 (ipykernel)",
   "language": "python",
   "name": "python3"
  },
  "language_info": {
   "codemirror_mode": {
    "name": "ipython",
    "version": 3
   },
   "file_extension": ".py",
   "mimetype": "text/x-python",
   "name": "python",
   "nbconvert_exporter": "python",
   "pygments_lexer": "ipython3",
   "version": "3.8.8"
  }
 },
 "nbformat": 4,
 "nbformat_minor": 5
}
