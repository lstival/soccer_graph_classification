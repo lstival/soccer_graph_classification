{
 "cells": [
  {
   "cell_type": "code",
   "execution_count": 1,
   "metadata": {},
   "outputs": [],
   "source": [
    "import pandas as pd\n",
    "import numpy as np\n",
    "import matplotlib.pyplot as plt\n",
    "import utils\n",
    "import progressbar\n",
    "from sklearn import preprocessing\n",
    "\n",
    "\n",
    "from pathlib import Path\n",
    "import ffmpeg\n",
    "from os.path import isfile, join\n",
    "from os import listdir"
   ]
  },
  {
   "cell_type": "code",
   "execution_count": 2,
   "metadata": {},
   "outputs": [],
   "source": [
    "all_games = pd.read_csv('all_games.csv')\n",
    "all_games.drop(all_games.columns[[0,1]],1,inplace=True)"
   ]
  },
  {
   "cell_type": "code",
   "execution_count": 3,
   "metadata": {},
   "outputs": [],
   "source": [
    "all_games_og = pd.read_csv('all_games_other_games.csv')\n",
    "all_games_og.drop(all_games_og.columns[[0,1]],1,inplace=True)"
   ]
  },
  {
   "cell_type": "code",
   "execution_count": 4,
   "metadata": {},
   "outputs": [],
   "source": [
    "all_games_ad = pd.concat([all_games, all_games_og])"
   ]
  },
  {
   "cell_type": "code",
   "execution_count": 5,
   "metadata": {},
   "outputs": [
    {
     "data": {
      "image/png": "[encoded data removed]",
      "text/plain": [
       "<Figure size 432x288 with 1 Axes>"
      ]
     },
     "metadata": {
      "needs_background": "light"
     },
     "output_type": "display_data"
    }
   ],
   "source": [
    "fig, axs = plt.subplots()\n",
    "\n",
    "# We can set the number of bins with the `bins` kwarg\n",
    "plt.hist(all_games_ad['interval_frame_size'])\n",
    "plt.title('Distribuição das amostras')\n",
    "plt.grid(True)\n",
    "plt.ylabel('Quantidade de mostras')\n",
    "plt.xlabel('Tamanho em frames')\n",
    "plt.savefig('distribuicao_amostras.png')\n",
    "#plt.xticks(x2)"
   ]
  },
  {
   "cell_type": "code",
   "execution_count": 6,
   "metadata": {},
   "outputs": [
    {
     "data": {
      "text/plain": [
       "0.0    1456\n",
       "1.0     114\n",
       "Name: target, dtype: int64"
      ]
     },
     "execution_count": 6,
     "metadata": {},
     "output_type": "execute_result"
    }
   ],
   "source": [
    "all_games_ad[all_games_ad['interval_frame_size'] >= 500].target.value_counts()"
   ]
  },
  {
   "cell_type": "code",
   "execution_count": null,
   "metadata": {},
   "outputs": [],
   "source": []
  },
  {
   "cell_type": "markdown",
   "metadata": {},
   "source": [
    "### Imagem dos jogadores em campo "
   ]
  },
  {
   "cell_type": "code",
   "execution_count": 7,
   "metadata": {},
   "outputs": [],
   "source": [
    "import networkx as nx\n",
    "import scipy.spatial\n",
    "import math\n",
    "import gc"
   ]
  },
  {
   "cell_type": "code",
   "execution_count": 8,
   "metadata": {},
   "outputs": [],
   "source": [
    "def create_graph():\n",
    "    players_data = players_positions_FETW.copy()\n",
    "    players_data = players_data.drop([0],axis=1)\n",
    "    players_data.columns = [i+1 for i in range(len(players_data.columns))]\n",
    "    players_data = players_data.transpose()\n",
    "\n",
    "    def create_graph_nodes(row):\n",
    "        position_list=[]\n",
    "        G = nx.Graph()\n",
    "        k = 0\n",
    "        j = 0\n",
    "        #Add the node \"j\", containing the argument \"pos=x_coord, y_coord, for the fist team (k = 0 to 22)\"\n",
    "        while k < 28:\n",
    "            #Apend the coordnates of the player to the postion list (will be used on a future opertion)\n",
    "            #if (row[k] > -100) & (row[k+1] > -100):\n",
    "            position_list.append([row[k],row[k+1]])\n",
    "            G.add_node(j, pos=(row[k],row[k+1]))\n",
    "            j = j+1\n",
    "            k = k+2\n",
    "        #Apend the graph to the graph list\n",
    "        graph_list.append(G)\n",
    "        j=0\n",
    "        # apend the position list for the current frame to the list of positions lists (will be used on a future opertion)\n",
    "        group_of_position_lists.append(position_list)\n",
    "\n",
    "        #Repeat all for the second team\"\n",
    "        G = nx.Graph()\n",
    "        position_list=[]\n",
    "        while k < 60:\n",
    "            #if (row[k] > -100) & (row[k+1] > -100):\n",
    "            position_list.append([row[k],row[k+1]])\n",
    "            G.add_node(j, pos=(row[k],row[k+1]))\n",
    "            j = j+1\n",
    "            k = k+2\n",
    "        graph_list.append(G)\n",
    "        #will be used to generate delaunay trianges\n",
    "        group_of_position_lists.append(position_list)\n",
    "        return 0\n",
    "\n",
    "    #Transform the dataset into a numpy_array and call the function above\n",
    "    x= players_data.values\n",
    "    np.apply_along_axis(create_graph_nodes, 0, x)\n",
    "\n",
    "    #create a list of tuples, containing player positions\n",
    "    for a_graph in (graph_list):\n",
    "        list_pos.append(nx.get_node_attributes(a_graph,'pos'))\n",
    "\n",
    "    for pos_list in (group_of_position_lists):\n",
    "        triang_del_list.append(scipy.spatial.Delaunay(pos_list))\n",
    "\n",
    "    #create edges from delaunay triangles\n",
    "\n",
    "    # for each set of triangles\n",
    "    i = 0\n",
    "    for delTri in (triang_del_list):\n",
    "        edges = set()\n",
    "        # for each Delaunay triangle\n",
    "        for n in range(delTri.nsimplex):\n",
    "        # for each edge of the triangle\n",
    "        # sort the vertices\n",
    "        # (sorting avoids duplicated edges being added to the set)\n",
    "        # and add to the edges set\n",
    "            edge = sorted([delTri.vertices[n,0], delTri.vertices[n,1]])\n",
    "            edges.add((edge[0], edge[1]))\n",
    "            edge = sorted([delTri.vertices[n,0], delTri.vertices[n,2]])\n",
    "            edges.add((edge[0], edge[1]))\n",
    "            edge = sorted([delTri.vertices[n,1], delTri.vertices[n,2]])\n",
    "            edges.add((edge[0], edge[1]))\n",
    "        graph = nx.Graph(list(edges)) \n",
    "        nx.set_node_attributes(graph, list_pos[i], 'pos')\n",
    "        graph_group.append(graph)\n",
    "        i = i+1\n",
    "\n",
    "    # Delete edges from players with adversaries close (pos dif < 0.5) to them\n",
    "    i=0\n",
    "    #for i in progressbar.progressbar(range(len(list_pos))):\n",
    "    while i < len(list_pos):\n",
    "        for pos_id, pos_values in list_pos[i].items():\n",
    "            for pos_adv, pos_values_adv in list_pos[i+1].items():\n",
    "                #Get distance on the x axis\n",
    "                dist_x = pos_values[0] - pos_values_adv[0]\n",
    "                 #Get distance on the y axis\n",
    "                dist_y = pos_values[1] - pos_values_adv[1]\n",
    "                #Calculate distance\n",
    "                dist_total = math.hypot(dist_y,dist_x)\n",
    "                # if distance <0.5, remove the all edges by deleting and re-adding the node\n",
    "                # do it for graph of both teams\n",
    "                if dist_total < 0.5:\n",
    "                    if graph_group[i].has_node(pos_id):\n",
    "                        m_node = graph_group[i].nodes[pos_id]\n",
    "                        graph_group[i].remove_node(pos_id)\n",
    "                        graph_group[i].add_node(pos_id, pos=pos_values)\n",
    "\n",
    "                    if graph_group[i+1].has_node(pos_id) & graph_group[i+1].has_node(pos_adv):\n",
    "                        m_node_adv = graph_group[i+1].nodes[pos_id]\n",
    "                        graph_group[i+1].remove_node(pos_adv)\n",
    "                        graph_group[i+1].add_node(pos_adv, pos=pos_values_adv)\n",
    "        i = i+2"
   ]
  },
  {
   "cell_type": "code",
   "execution_count": 9,
   "metadata": {},
   "outputs": [],
   "source": [
    "def create_digraph():\n",
    "    players_data = players_positions_FETW.copy()\n",
    "    players_data = players_data.drop([0],axis=1)\n",
    "    players_data.columns = [i+1 for i in range(len(players_data.columns))]\n",
    "    players_data = players_data.transpose()\n",
    "\n",
    "    def create_graph_nodes(row):\n",
    "        position_list=[]\n",
    "        G = nx.DiGraph()\n",
    "        k = 0\n",
    "        j = 0\n",
    "        #Add the node \"j\", containing the argument \"pos=x_coord, y_coord, for the fist team (k = 0 to 22)\"\n",
    "        while k < 28:\n",
    "            #Apend the coordnates of the player to the postion list (will be used on a future opertion)\n",
    "            if (row[k] > -100) & (row[k+1] > -100):\n",
    "                position_list.append([row[k],row[k+1]])\n",
    "                G.add_node(j, pos=(row[k],row[k+1]))\n",
    "            j = j+1\n",
    "            k = k+2\n",
    "        #Apend the graph to the graph list\n",
    "        graph_list.append(G)\n",
    "        j=0\n",
    "        # apend the position list for the current frame to the list of positions lists (will be used on a future opertion)\n",
    "        group_of_position_lists.append(position_list)\n",
    "\n",
    "        #Repeat all for the second team\"\n",
    "        G = nx.DiGraph()\n",
    "        position_list=[]\n",
    "        while k < 60:\n",
    "            if (row[k] > -100) & (row[k+1] > -100):\n",
    "                position_list.append([row[k],row[k+1]])\n",
    "                G.add_node(j, pos=(row[k],row[k+1]))\n",
    "            j = j+1\n",
    "            k = k+2\n",
    "        graph_list.append(G)\n",
    "        #will be used to generate delaunay trianges\n",
    "        group_of_position_lists.append(position_list)\n",
    "        return 0\n",
    "\n",
    "    #Transform the dataset into a numpy_array and call the function above\n",
    "    x= players_data.values\n",
    "    np.apply_along_axis(create_graph_nodes, 0, x)\n",
    "\n",
    "    #create a list of tuples, containing player positions\n",
    "    for a_graph in (graph_list):\n",
    "        list_pos.append(nx.get_node_attributes(a_graph,'pos'))\n",
    "\n",
    "    for pos_list in (group_of_position_lists):\n",
    "        triang_del_list.append(scipy.spatial.Delaunay(pos_list))\n",
    "\n",
    "    #create edges from delaunay triangles\n",
    "\n",
    "    # for each set of triangles\n",
    "    i = 0\n",
    "    for delTri in (triang_del_list):\n",
    "        edges = set()\n",
    "        # for each Delaunay triangle\n",
    "        for n in range(delTri.nsimplex):\n",
    "        # for each edge of the triangle\n",
    "        # sort the vertices\n",
    "        # (sorting avoids duplicated edges being added to the set)\n",
    "        # and add to the edges set\n",
    "            edge = sorted([delTri.vertices[n,0], delTri.vertices[n,1]])\n",
    "            edges.add((edge[0], edge[1]))\n",
    "            edge = sorted([delTri.vertices[n,0], delTri.vertices[n,2]])\n",
    "            edges.add((edge[0], edge[1]))\n",
    "            edge = sorted([delTri.vertices[n,1], delTri.vertices[n,2]])\n",
    "            edges.add((edge[0], edge[1]))\n",
    "        graph = nx.Graph(list(edges)) \n",
    "        nx.set_node_attributes(graph, list_pos[i], 'pos')\n",
    "        graph_group.append(graph)\n",
    "        i = i+1\n",
    "\n",
    "    # Delete edges from players with adversaries close (pos dif < 0.5) to them\n",
    "    i=0\n",
    "    #for i in progressbar.progressbar(range(len(list_pos))):\n",
    "    while i < len(list_pos):\n",
    "        for pos_id, pos_values in list_pos[i].items():\n",
    "            for pos_adv, pos_values_adv in list_pos[i+1].items():\n",
    "                #Get distance on the x axis\n",
    "                dist_x = pos_values[0] - pos_values_adv[0]\n",
    "                 #Get distance on the y axis\n",
    "                dist_y = pos_values[1] - pos_values_adv[1]\n",
    "                #Calculate distance\n",
    "                dist_total = math.hypot(dist_y,dist_x)\n",
    "                # if distance <0.5, remove the all edges by deleting and re-adding the node\n",
    "                # do it for graph of both teams\n",
    "                if dist_total < 0.5:\n",
    "                    if graph_group[i].has_node(pos_id):\n",
    "                        m_node = graph_group[i].nodes[pos_id]\n",
    "                        graph_group[i].remove_node(pos_id)\n",
    "                        graph_group[i].add_node(pos_id, pos=pos_values)\n",
    "\n",
    "                    if graph_group[i+1].has_node(pos_id) & graph_group[i+1].has_node(pos_adv):\n",
    "                        m_node_adv = graph_group[i+1].nodes[pos_id]\n",
    "                        graph_group[i+1].remove_node(pos_adv)\n",
    "                        graph_group[i+1].add_node(pos_adv, pos=pos_values_adv)\n",
    "        i = i+2"
   ]
  },
  {
   "cell_type": "code",
   "execution_count": 10,
   "metadata": {},
   "outputs": [],
   "source": [
    "def remove_node_graph_group(graph_number, graph_group):\n",
    "    node_to_remove = []##Lista com os nós com distancia errada\n",
    "    \n",
    "    for node in graph_group[graph_number].nodes():\n",
    "       \n",
    "        try: \n",
    "            if -9999 in graph_group[graph_number].nodes[node]['pos']:\n",
    "                node_to_remove.append(node)\n",
    "            \n",
    "        except KeyError:\n",
    "             node_to_remove.append(node)\n",
    "                \n",
    "    for node in node_to_remove:\n",
    "        graph_group[graph_number].remove_node(node)"
   ]
  },
  {
   "cell_type": "code",
   "execution_count": 11,
   "metadata": {},
   "outputs": [],
   "source": [
    "#Função que pega a posição dos jogadores só dos intervalos de FETW\n",
    "def get_FETW_interval(FETW_ini,FETW_end):\n",
    "    list_player.append(players_positions.iloc[FETW_ini:FETW_end])"
   ]
  },
  {
   "cell_type": "code",
   "execution_count": 12,
   "metadata": {},
   "outputs": [],
   "source": [
    "partidas = pd.read_csv('all_games_ad_FETW.csv')['partida'].unique()"
   ]
  },
  {
   "cell_type": "code",
   "execution_count": 13,
   "metadata": {},
   "outputs": [],
   "source": [
    "partidas = partidas[1:2]"
   ]
  },
  {
   "cell_type": "code",
   "execution_count": null,
   "metadata": {},
   "outputs": [],
   "source": []
  },
  {
   "cell_type": "code",
   "execution_count": 14,
   "metadata": {},
   "outputs": [
    {
     "name": "stderr",
     "output_type": "stream",
     "text": [
      "\r",
      "  0% (0 of 1) |                          | Elapsed Time: 0:00:00 ETA:  --:--:--"
     ]
    },
    {
     "name": "stdout",
     "output_type": "stream",
     "text": [
      "REDSCAT2\n"
     ]
    },
    {
     "name": "stderr",
     "output_type": "stream",
     "text": [
      "100% (66 of 66) |########################| Elapsed Time: 0:00:58 Time:  0:00:58\n",
      "100% (1 of 1) |##########################| Elapsed Time: 0:01:02 Time:  0:01:02\n"
     ]
    }
   ],
   "source": [
    "for partida in progressbar.progressbar(partidas):  \n",
    "    \n",
    "    graph_list_BPI = []#Lista da dos grafos para cada BPI\n",
    "    \n",
    "    #Mostra qual partida está sendo analisada\n",
    "    print(partida)\n",
    "\n",
    "    #Lendo posição dos jogadores\n",
    "    players_positions = pd.read_csv('Jogos\\\\'+partida+'suav.2d', sep =('\\s+'), header=None)\n",
    "\n",
    "    list_player = [] #Lista com as posição de FETW\n",
    "    players_positions_FETW = pd.DataFrame() #DataFrame de posição dos jogadores (considerando somente FETW)\n",
    "\n",
    "    #Define o conjunto de dados\n",
    "    game_1 = all_games[(all_games.partida == partida) & (all_games.interval_frame_size >= 500)]\n",
    "    #game_1 = all_games[(all_games.partida == partida)]\n",
    "\n",
    "    #Extraindo in\n",
    "    game_1.apply(lambda x: get_FETW_interval(int(x.frame),int(x.FETW_end)),1)\n",
    "\n",
    "    #Criando Dataframe com todas as posições de FETW\n",
    "    #for jogo in list_player:\n",
    "        #players_positions_FETW = pd.concat([players_positions_FETW, jogo])\n",
    "\n",
    "    #Loop para gerar um arquivo para cada FETW, e dps com data arquivo gerar uma imagem\n",
    "    FETW_count = 0\n",
    "    for jogo in progressbar.progressbar(list_player):\n",
    "\n",
    "        #Cria o dataframe dos dados do FETW atual\n",
    "        players_positions_FETW = pd.DataFrame(jogo)\n",
    "\n",
    "        #Mostra qual o FETW atual\n",
    "        #print(FETW_count)\n",
    "\n",
    "        #Define variaveis globais\n",
    "        graph_list = []\n",
    "        group_of_position_lists = []\n",
    "        list_pos = []\n",
    "        triang_del_list = []\n",
    "        graph_group = []\n",
    "        bet_cen_matrix_t1 = []\n",
    "        bet_cen_matrix_t2 = []\n",
    "\n",
    "        #Métos que geram os nodes\n",
    "        create_graph()\n",
    "        #create_digraph()\n",
    "        graph_list_BPI.append(graph_group)\n",
    "\n",
    "        #Liberando espaço\n",
    "        #del triang_del_list\n",
    "        del group_of_position_lists\n",
    "        del list_pos\n",
    "        gc.collect()\n",
    "\n",
    "        FETW_count += 1"
   ]
  },
  {
   "cell_type": "code",
   "execution_count": null,
   "metadata": {},
   "outputs": [],
   "source": []
  },
  {
   "cell_type": "markdown",
   "metadata": {},
   "source": [
    "## Lendo métricas de grafo "
   ]
  },
  {
   "cell_type": "markdown",
   "metadata": {},
   "source": [
    "Ler métricas de grafo <br>\n",
    "Normalizar o valor da métrica <br>\n",
    "Lista com os valores conforme o loop ocorre o tamanho do nó é o valor da métrica <br>"
   ]
  },
  {
   "cell_type": "code",
   "execution_count": 15,
   "metadata": {},
   "outputs": [],
   "source": [
    "path_grafo_metric = 'grafo_all_bases/REDSCAT2/'"
   ]
  },
  {
   "cell_type": "code",
   "execution_count": 16,
   "metadata": {},
   "outputs": [],
   "source": [
    "# Le os arquivos das métricas extraidas\n",
    "def read_files_on_fold(mypath):\n",
    "    onlyfiles = [f for f in listdir(mypath) if isfile(join(mypath, f))]\n",
    "    return onlyfiles"
   ]
  },
  {
   "cell_type": "code",
   "execution_count": 17,
   "metadata": {},
   "outputs": [],
   "source": [
    "# Lê os arquivos de métricas de grafos \n",
    "def read_dataframe_metric(file, mypath):\n",
    "    #metric = pd.read_csv('grafo//'+ partida+ '/'+graph_metrics[metric_count]+'.csv')\n",
    "    metric = pd.read_csv(mypath+'/'+str(file))\n",
    "    metric.drop(metric.columns[[0]],1, inplace= True)\n",
    "    metric.fillna(0,inplace= True)\n",
    "    \n",
    "    return metric"
   ]
  },
  {
   "cell_type": "code",
   "execution_count": 18,
   "metadata": {},
   "outputs": [],
   "source": [
    "files = read_files_on_fold(path_grafo_metric)"
   ]
  },
  {
   "cell_type": "code",
   "execution_count": null,
   "metadata": {},
   "outputs": [],
   "source": []
  },
  {
   "cell_type": "code",
   "execution_count": 19,
   "metadata": {},
   "outputs": [
    {
     "name": "stderr",
     "output_type": "stream",
     "text": [
      "100% (1452 of 1452) |####################| Elapsed Time: 0:00:00 Time:  0:00:00\n"
     ]
    }
   ],
   "source": [
    "# Pega a métrica escolhida para cada equipe (t1 e t2)\n",
    "bpt_get_metrics = 60\n",
    "for file in progressbar.progressbar(files):\n",
    "    if (file.split('_')[1] == 'clusteringcoeffi') and (file.split('_')[0] == str(bpt_get_metrics)):\n",
    "        if 't1' in file.split('_')[2]:\n",
    "            metric_t1 = read_dataframe_metric(file, path_grafo_metric)\n",
    "        elif 't2' in file.split('_')[2]:\n",
    "            metric_t2 = read_dataframe_metric(file, path_grafo_metric)\n",
    "        "
   ]
  },
  {
   "cell_type": "code",
   "execution_count": 20,
   "metadata": {},
   "outputs": [],
   "source": [
    "# Normalizando os dados das métricas (para os nodes ficarem proporcionais no plot)\n",
    "min_max_scaler = preprocessing.MinMaxScaler()\n",
    "\n",
    "metric_1_scaled = min_max_scaler.fit_transform(metric_t1)\n",
    "metric_2_scaled = min_max_scaler.fit_transform(metric_t2)"
   ]
  },
  {
   "cell_type": "code",
   "execution_count": null,
   "metadata": {},
   "outputs": [],
   "source": []
  },
  {
   "cell_type": "markdown",
   "metadata": {},
   "source": [
    "## Construindo imagem"
   ]
  },
  {
   "cell_type": "code",
   "execution_count": 21,
   "metadata": {},
   "outputs": [],
   "source": [
    "def set_one_edge(H):\n",
    "    for i in H.nodes():\n",
    "        H.remove_edges_from(list(H.in_edges(i))[1:])\n",
    "    return H"
   ]
  },
  {
   "cell_type": "code",
   "execution_count": 22,
   "metadata": {},
   "outputs": [],
   "source": [
    "def graph_image_generate(graph_group, graf_even, graf_odd, bpi_count, FETW, edges=False,node_proportion=False):\n",
    "    #https://networkx.org/documentation/stable/reference/generated/networkx.drawing.nx_pylab.draw_networkx.html\n",
    "    #Lib q plota os grafos\n",
    "    \n",
    "    remove_node_graph_group(graf_even, graph_group) # Remove node sem posição\n",
    "    remove_node_graph_group(graf_odd, graph_group)\n",
    "    \n",
    "    #h1 = graph_group[graf_odd].to_directed() #Transforma o grafo em direcionado\n",
    "    #h2 = graph_group[graf_even].to_directed()\n",
    "    \n",
    "    h1 = graph_group[graf_odd]\n",
    "    h2 = graph_group[graf_even]\n",
    "    h3 = ball_nodes[bpi_count]\n",
    "    \n",
    "    #h1 = set_one_edge(h1) #Remove os edges deixando somente a primeira\n",
    "    #h2 = set_one_edge(h2)\n",
    "    \n",
    "    my_pos=nx.get_node_attributes(h1,'pos')#Pega as posições do grafo\n",
    "    my_pos_adv=nx.get_node_attributes(h2,'pos')\n",
    "    ball_pos = nx.get_node_attributes(h3,'pos')\n",
    "    \n",
    "    img = plt.imread(\"soccer_field.png\")#Carrega imagem de fundo\n",
    "\n",
    "    fig, ax = plt.subplots(figsize=(12,8))#Tamanho da plotagem\n",
    "    ax.imshow(img, extent=[-5,110, -5, 70])#Tamanho do campo em pixels\n",
    "\n",
    "    #print(len(h1.nodes))\n",
    "    #print(len(h2.nodes))\n",
    "    \n",
    "    # Gera as arestas e altera o tamanho do nó depedendo do valor da métrica\n",
    "    if node_proportion & edges:\n",
    "        # print('Grafo com edges')\n",
    "        nx.draw_networkx(h1, my_pos, nodelist = sorted(h1.nodes),\n",
    "                         node_color=\"#06daf9\",edge_color=\"blue\",label='Equipe 1',font_size=15,\n",
    "                         edgelist=h1.edges, node_size=[v * 300 for v in metric_1_scaled[bpi_count] + 1])\n",
    "\n",
    "        nx.draw_networkx(h2, my_pos_adv, nodelist = sorted(h2.nodes),\n",
    "                         node_color=\"#d73502\", edge_color=\"red\",label='Equipe 2',font_size=15,\n",
    "                         edgelist=h2.edges, node_size=[v * 300 for v in metric_2_scaled[bpi_count] + 1])\n",
    "    \n",
    "    elif edges:\n",
    "        nx.draw_networkx(h1, my_pos, nodelist = sorted(h1.nodes),\n",
    "                         node_color=\"#06daf9\",edge_color=\"blue\",label='Equipe 1',font_size=15,\n",
    "                         edgelist=h1.edges)\n",
    "\n",
    "        nx.draw_networkx(h2, my_pos_adv, nodelist = sorted(h2.nodes),\n",
    "                         node_color=\"#d73502\", edge_color=\"red\",label='Equipe 2',font_size=15,\n",
    "                         edgelist=h2.edges)\n",
    "    # Caso contrário plota somente os nós\n",
    "    else:\n",
    "        # print('Grafo sem edges')\n",
    "        nx.draw_networkx(h1, my_pos, nodelist = sorted(h1.nodes),edgelist=[],\n",
    "                         node_color=\"#06daf9\",edge_color=\"blue\",label='Equipe 1',font_size=15)\n",
    "\n",
    "        nx.draw_networkx(h2, my_pos_adv, nodelist = sorted(h2.nodes),edgelist=[],\n",
    "                         node_color=\"#d73502\", edge_color=\"red\",label='Equipe 2',font_size=15)\n",
    "        \n",
    "    nx.draw_networkx(h3, ball_pos, node_size=100,\n",
    "                     node_color=\"#000000\", edge_color=\"black\",label='Bola',font_size=15)\n",
    "\n",
    "    ax.legend()\n",
    "    \n",
    "    if edges:\n",
    "        path = 'ffmpeg_fetws/graph_to_ffmpeg_REDSCAT2_edges_'+str(FETW)+'/'\n",
    "    else:\n",
    "        path = 'ffmpeg_fetws/graph_to_ffmpeg_REDSCAT2_'+str(FETW)+'/'\n",
    "        \n",
    "    Path(path).mkdir(parents=True, exist_ok=True)\n",
    "    #fig.savefig(path+'img'+str(bpi_count)\n",
    "               # +'.png',transparent=True)#, format='svg')#Salva a imagem em SVG transparentere\n",
    "    \n",
    "    #ax.title.set_text(\"Distribuição dos jogadores em campo\")\n",
    "    \n",
    "    #fig.clear()"
   ]
  },
  {
   "cell_type": "code",
   "execution_count": 23,
   "metadata": {},
   "outputs": [],
   "source": [
    "def plot_generate(graph_group, graf_even, graf_odd, bpi_count):\n",
    "    #https://networkx.org/documentation/stable/reference/generated/networkx.drawing.nx_pylab.draw_networkx.html\n",
    "    #Lib q plota os grafos\n",
    "    \n",
    "    remove_node_graph_group(graf_even, graph_group) # Remove node sem posição\n",
    "    remove_node_graph_group(graf_odd, graph_group)\n",
    "    \n",
    "    #h1 = graph_group[graf_odd].to_directed() #Transforma o grafo em direcionado\n",
    "    #h2 = graph_group[graf_even].to_directed()\n",
    "    \n",
    "    h1 = graph_group[graf_odd]\n",
    "    h2 = graph_group[graf_even]\n",
    "    h3 = ball_nodes[bpi_count]\n",
    "    \n",
    "    #h1 = set_one_edge(h1) #Remove os edges deixando somente a primeira\n",
    "    #h2 = set_one_edge(h2)\n",
    "    \n",
    "    my_pos=nx.get_node_attributes(h1,'pos')#Pega as posições do grafo\n",
    "    my_pos_adv=nx.get_node_attributes(h2,'pos')\n",
    "    ball_pos = nx.get_node_attributes(h3,'pos')\n",
    "    \n",
    "    img = plt.imread(\"soccer_field.png\")#Carrega imagem de fundo\n",
    "\n",
    "    fig, ax = plt.subplots(figsize=(12,8))#Tamanho da plotagem\n",
    "    ax.imshow(img, extent=[-5,110, -5, 70])#Tamanho do campo em pixels\n",
    "\n",
    "    #print(len(h1.nodes))\n",
    "    #print(len(h2.nodes))\n",
    "    \n",
    "    # Gera as arestas e altera o tamanho do nó depedendo do valor da métrica\n",
    "\n",
    "    # print('Grafo com edges')\n",
    "    nx.draw_networkx(h1, my_pos, nodelist = sorted(h1.nodes),\n",
    "                     node_color=\"#06daf9\",edge_color=\"blue\",label='Team 1',font_size=15,\n",
    "                     edgelist=h1.edges)\n",
    "\n",
    "    nx.draw_networkx(h2, my_pos_adv, nodelist = sorted(h2.nodes),\n",
    "                     node_color=\"#d73502\", edge_color=\"red\",label='Team 2',font_size=15,\n",
    "                     edgelist=h2.edges)\n",
    " \n",
    "    ax.legend()  \n",
    "    ax.title.set_text(\"Distribuição dos jogadores em campo\")"
   ]
  },
  {
   "cell_type": "code",
   "execution_count": 24,
   "metadata": {},
   "outputs": [
    {
     "data": {
      "text/plain": [
       "NodeView((3, 4, 7, 5, 0, 2, 8, 1, 6, 11, 13, 9))"
      ]
     },
     "execution_count": 24,
     "metadata": {},
     "output_type": "execute_result"
    }
   ],
   "source": [
    "graph_list_BPI[60][100].nodes"
   ]
  },
  {
   "cell_type": "code",
   "execution_count": 25,
   "metadata": {},
   "outputs": [
    {
     "data": {
      "text/plain": [
       "[0, 1, 2, 3, 4, 5, 6, 7, 8, 9, 11, 13]"
      ]
     },
     "execution_count": 25,
     "metadata": {},
     "output_type": "execute_result"
    }
   ],
   "source": [
    "sorted(graph_list_BPI[60][100].nodes)"
   ]
  },
  {
   "cell_type": "code",
   "execution_count": null,
   "metadata": {},
   "outputs": [],
   "source": []
  },
  {
   "cell_type": "code",
   "execution_count": 26,
   "metadata": {},
   "outputs": [],
   "source": [
    "def generate_imagens_to_ffmpeg(bpi, edges=False):\n",
    "    \n",
    "    #comando para rodar e gerar um video com todas as imagens .png da pasta\n",
    "    #ffmpeg -f image2 -i img%d.png test.mp4\n",
    "    \n",
    "    count = 0\n",
    "    for graph in range(int(len(graph_list_BPI[bpi])/2)-1):\n",
    "        graph_image_generate(graph_list_BPI[bpi], count, count+1, graph, bpi, edges)\n",
    "        #print(count)\n",
    "        count+=2\n",
    "        #graph_image_generate()"
   ]
  },
  {
   "cell_type": "code",
   "execution_count": 27,
   "metadata": {},
   "outputs": [],
   "source": [
    "def generate_imagens_to_ffmpeg_all_game():\n",
    "    \n",
    "    #comando para rodar e gerar um video com todas as imagens .png da pasta\n",
    "    #ffmpeg -f image2 -i img%d.png test.mp4\n",
    "    \n",
    "    all_game_frame_count = 0\n",
    "    for bpi in progressbar.progressbar(range(len(graph_list_BPI))):\n",
    "        count = 0\n",
    "        for graph in range(int(len(graph_list_BPI[bpi])/2)):\n",
    "            graph_image_generate(graph_list_BPI[bpi], count, count+1, all_game_frame_count, FETW)\n",
    "            #print(count)\n",
    "            count+=2\n",
    "            #graph_image_generate()\n",
    "            all_game_frame_count+=1"
   ]
  },
  {
   "cell_type": "code",
   "execution_count": 28,
   "metadata": {},
   "outputs": [],
   "source": [
    "# Função para gerar video utilizando ffmpeg\n",
    "def create_video(path, FETW, edges=False):\n",
    "    print(edges)\n",
    "    if edges:\n",
    "        (\n",
    "            ffmpeg\n",
    "            # Pasta com imagens e taxa de frames\n",
    "            .input('ffmpeg_fetws/graph_to_ffmpeg_REDSCAT2_edges_'+str(FETW)+'/img%d.png',  framerate=25)\n",
    "            .filter(\"scale\", size='hd1080', force_original_aspect_ratio='increase')\n",
    "            # Local onde será salvo o vídeo\n",
    "            .output(path+'REDSCAT2_edges_'+str(FETW)+'.mp4')\n",
    "            .run()\n",
    "        )\n",
    "    else:\n",
    "        (\n",
    "            ffmpeg\n",
    "            # Pasta com imagens e taxa de frames\n",
    "            .input('ffmpeg_fetws/graph_to_ffmpeg_REDSCAT2_'+str(FETW)+'/img%d.png',  framerate=25)\n",
    "            .filter(\"scale\", size='hd1080', force_original_aspect_ratio='increase')\n",
    "            # Local onde será salvo o vídeo\n",
    "            .output(path+'REDSCAT2_'+str(FETW)+'.mp4')\n",
    "            .run()\n",
    "        )"
   ]
  },
  {
   "cell_type": "code",
   "execution_count": 29,
   "metadata": {},
   "outputs": [],
   "source": [
    "#graph_list_BPI[190][0]\n",
    "#edgelist=graph_group[0].edges"
   ]
  },
  {
   "cell_type": "code",
   "execution_count": null,
   "metadata": {},
   "outputs": [],
   "source": []
  },
  {
   "cell_type": "code",
   "execution_count": 30,
   "metadata": {},
   "outputs": [],
   "source": [
    "#fig, ax = plt.subplots(figsize=(12,8))#Tamanho da plotagem\n",
    "#img = plt.imread(\"soccer_field.png\")#Carrega imagem de fundo\n",
    "#ax.imshow(img, extent=[-5,110, -2, 65])#Tamanho do campo em pixels\n",
    "#nx.draw_networkx(graph_list[1], nx.get_node_attributes(graph_list[1],'pos'),node_color=\"#d73502\",edge_color=\"red\", node_size=[v * 300 for v in metric_1_scaled[0] + 1])\n",
    "#nx.draw_networkx(graph_list[0], nx.get_node_attributes(graph_list[0],'pos'),node_color=\"#06daf9\", edge_color=\"blue\", node_size=[v * 300 for v in metric_2_scaled[0] + 1])"
   ]
  },
  {
   "cell_type": "code",
   "execution_count": 31,
   "metadata": {},
   "outputs": [],
   "source": [
    "# nx.get_node_attributes(graph_list[0],'pos')\n",
    "# list_player[60]\n",
    "# game_2[game_2['frame'] == 79825]"
   ]
  },
  {
   "cell_type": "code",
   "execution_count": null,
   "metadata": {},
   "outputs": [],
   "source": []
  },
  {
   "cell_type": "code",
   "execution_count": null,
   "metadata": {},
   "outputs": [],
   "source": []
  },
  {
   "cell_type": "markdown",
   "metadata": {},
   "source": [
    "## Lendo possição da bola"
   ]
  },
  {
   "cell_type": "code",
   "execution_count": 32,
   "metadata": {},
   "outputs": [],
   "source": [
    "ball_possition = pd.read_csv('ball_position/ball_position_REDSCAT2.csv')"
   ]
  },
  {
   "cell_type": "code",
   "execution_count": 33,
   "metadata": {},
   "outputs": [],
   "source": [
    "#Possições do BPI 122 (contagem geral) 60 (contagem da partida)\n",
    "\n",
    "#ball_posi_bpi20 = ball_possition.iloc[79825:79992,2:].copy()#122\n",
    "#ball_posi_bpi20 = ball_possition.iloc[57740:57907,2:].copy()#106\n",
    "ball_posi_bpi20 = ball_possition.iloc[81267:81433,2:].copy()#60 local\n",
    "#ball_posi_bpi20 = ball_possition.iloc[17136:17303,2:].copy()#75\n",
    "#ball_posi_bpi20 = ball_possition.copy()\n",
    "xball = ball_posi_bpi20.values"
   ]
  },
  {
   "cell_type": "code",
   "execution_count": null,
   "metadata": {},
   "outputs": [],
   "source": []
  },
  {
   "cell_type": "code",
   "execution_count": 34,
   "metadata": {},
   "outputs": [],
   "source": [
    "ball_nodes = []\n",
    "#node_count = 0\n",
    "for bpi_ball in xball:\n",
    "    G = nx.Graph()\n",
    "    G.add_node('B', pos=(bpi_ball[0],bpi_ball[1]))\n",
    "    ball_nodes.append(G)\n",
    "    #print(bpi_ball)\n",
    "    #node_count+=1"
   ]
  },
  {
   "cell_type": "code",
   "execution_count": 35,
   "metadata": {},
   "outputs": [],
   "source": [
    "#graph_image_generate(graph_list_BPI[60], 100, 101, 0)"
   ]
  },
  {
   "cell_type": "code",
   "execution_count": 36,
   "metadata": {},
   "outputs": [],
   "source": [
    "#graph_image_generate(graph_list_BPI[20],2,3,0)"
   ]
  },
  {
   "cell_type": "code",
   "execution_count": 37,
   "metadata": {},
   "outputs": [],
   "source": [
    "# graph_image_generate(graph_list_BPI[bpi], count, count+1, all_game_frame_count, FETW)"
   ]
  },
  {
   "cell_type": "code",
   "execution_count": 38,
   "metadata": {},
   "outputs": [
    {
     "data": {
      "image/png": "[encoded data removed]",
      "text/plain": [
       "<Figure size 864x576 with 1 Axes>"
      ]
     },
     "metadata": {},
     "output_type": "display_data"
    }
   ],
   "source": [
    "graph_image_generate(graph_list_BPI[28], 0,1,0,0, edges=True, node_proportion=True)\n",
    "# plt.title('Centralidade de cada jogador', fontsize=20)\n",
    "# plt.savefig('centralide_grafo_jogadores.png', format='png')"
   ]
  },
  {
   "cell_type": "code",
   "execution_count": 50,
   "metadata": {},
   "outputs": [
    {
     "data": {
      "text/html": [
       "<div>\n",
       "<style scoped>\n",
       "    .dataframe tbody tr th:only-of-type {\n",
       "        vertical-align: middle;\n",
       "    }\n",
       "\n",
       "    .dataframe tbody tr th {\n",
       "        vertical-align: top;\n",
       "    }\n",
       "\n",
       "    .dataframe thead th {\n",
       "        text-align: right;\n",
       "    }\n",
       "</style>\n",
       "<table border=\"1\" class=\"dataframe\">\n",
       "  <thead>\n",
       "    <tr style=\"text-align: right;\">\n",
       "      <th></th>\n",
       "      <th>0</th>\n",
       "      <th>1</th>\n",
       "      <th>2</th>\n",
       "      <th>3</th>\n",
       "      <th>4</th>\n",
       "      <th>5</th>\n",
       "      <th>6</th>\n",
       "      <th>7</th>\n",
       "      <th>8</th>\n",
       "      <th>9</th>\n",
       "      <th>10</th>\n",
       "    </tr>\n",
       "  </thead>\n",
       "  <tbody>\n",
       "    <tr>\n",
       "      <th>0</th>\n",
       "      <td>0.0</td>\n",
       "      <td>1.0</td>\n",
       "      <td>0.0</td>\n",
       "      <td>0.0</td>\n",
       "      <td>0.0</td>\n",
       "      <td>1.0</td>\n",
       "      <td>0.0</td>\n",
       "      <td>0.0</td>\n",
       "      <td>0.375</td>\n",
       "      <td>1.0</td>\n",
       "      <td>1.0</td>\n",
       "    </tr>\n",
       "    <tr>\n",
       "      <th>1</th>\n",
       "      <td>0.0</td>\n",
       "      <td>1.0</td>\n",
       "      <td>0.0</td>\n",
       "      <td>0.0</td>\n",
       "      <td>0.0</td>\n",
       "      <td>1.0</td>\n",
       "      <td>0.0</td>\n",
       "      <td>0.0</td>\n",
       "      <td>0.375</td>\n",
       "      <td>1.0</td>\n",
       "      <td>1.0</td>\n",
       "    </tr>\n",
       "    <tr>\n",
       "      <th>2</th>\n",
       "      <td>0.0</td>\n",
       "      <td>1.0</td>\n",
       "      <td>0.0</td>\n",
       "      <td>0.0</td>\n",
       "      <td>0.0</td>\n",
       "      <td>1.0</td>\n",
       "      <td>0.0</td>\n",
       "      <td>0.0</td>\n",
       "      <td>0.375</td>\n",
       "      <td>1.0</td>\n",
       "      <td>1.0</td>\n",
       "    </tr>\n",
       "    <tr>\n",
       "      <th>3</th>\n",
       "      <td>0.0</td>\n",
       "      <td>1.0</td>\n",
       "      <td>0.0</td>\n",
       "      <td>0.0</td>\n",
       "      <td>0.0</td>\n",
       "      <td>1.0</td>\n",
       "      <td>0.0</td>\n",
       "      <td>0.0</td>\n",
       "      <td>0.375</td>\n",
       "      <td>1.0</td>\n",
       "      <td>1.0</td>\n",
       "    </tr>\n",
       "    <tr>\n",
       "      <th>4</th>\n",
       "      <td>0.0</td>\n",
       "      <td>1.0</td>\n",
       "      <td>0.0</td>\n",
       "      <td>0.0</td>\n",
       "      <td>0.0</td>\n",
       "      <td>1.0</td>\n",
       "      <td>0.0</td>\n",
       "      <td>0.0</td>\n",
       "      <td>0.375</td>\n",
       "      <td>1.0</td>\n",
       "      <td>1.0</td>\n",
       "    </tr>\n",
       "    <tr>\n",
       "      <th>...</th>\n",
       "      <td>...</td>\n",
       "      <td>...</td>\n",
       "      <td>...</td>\n",
       "      <td>...</td>\n",
       "      <td>...</td>\n",
       "      <td>...</td>\n",
       "      <td>...</td>\n",
       "      <td>...</td>\n",
       "      <td>...</td>\n",
       "      <td>...</td>\n",
       "      <td>...</td>\n",
       "    </tr>\n",
       "    <tr>\n",
       "      <th>162</th>\n",
       "      <td>0.0</td>\n",
       "      <td>0.2</td>\n",
       "      <td>1.0</td>\n",
       "      <td>0.0</td>\n",
       "      <td>1.0</td>\n",
       "      <td>0.0</td>\n",
       "      <td>1.0</td>\n",
       "      <td>0.0</td>\n",
       "      <td>1.000</td>\n",
       "      <td>0.0</td>\n",
       "      <td>0.6</td>\n",
       "    </tr>\n",
       "    <tr>\n",
       "      <th>163</th>\n",
       "      <td>0.0</td>\n",
       "      <td>0.2</td>\n",
       "      <td>1.0</td>\n",
       "      <td>0.0</td>\n",
       "      <td>1.0</td>\n",
       "      <td>0.0</td>\n",
       "      <td>1.0</td>\n",
       "      <td>0.0</td>\n",
       "      <td>1.000</td>\n",
       "      <td>0.0</td>\n",
       "      <td>0.6</td>\n",
       "    </tr>\n",
       "    <tr>\n",
       "      <th>164</th>\n",
       "      <td>0.0</td>\n",
       "      <td>0.2</td>\n",
       "      <td>1.0</td>\n",
       "      <td>0.0</td>\n",
       "      <td>1.0</td>\n",
       "      <td>0.0</td>\n",
       "      <td>1.0</td>\n",
       "      <td>0.0</td>\n",
       "      <td>1.000</td>\n",
       "      <td>0.0</td>\n",
       "      <td>0.6</td>\n",
       "    </tr>\n",
       "    <tr>\n",
       "      <th>165</th>\n",
       "      <td>0.0</td>\n",
       "      <td>0.2</td>\n",
       "      <td>1.0</td>\n",
       "      <td>0.0</td>\n",
       "      <td>1.0</td>\n",
       "      <td>0.0</td>\n",
       "      <td>1.0</td>\n",
       "      <td>0.0</td>\n",
       "      <td>1.000</td>\n",
       "      <td>0.0</td>\n",
       "      <td>0.6</td>\n",
       "    </tr>\n",
       "    <tr>\n",
       "      <th>166</th>\n",
       "      <td>1.0</td>\n",
       "      <td>0.0</td>\n",
       "      <td>1.0</td>\n",
       "      <td>1.0</td>\n",
       "      <td>0.0</td>\n",
       "      <td>0.0</td>\n",
       "      <td>1.0</td>\n",
       "      <td>0.0</td>\n",
       "      <td>1.000</td>\n",
       "      <td>0.0</td>\n",
       "      <td>0.6</td>\n",
       "    </tr>\n",
       "  </tbody>\n",
       "</table>\n",
       "<p>167 rows × 11 columns</p>\n",
       "</div>"
      ],
      "text/plain": [
       "      0    1    2    3    4    5    6    7      8    9    10\n",
       "0    0.0  1.0  0.0  0.0  0.0  1.0  0.0  0.0  0.375  1.0  1.0\n",
       "1    0.0  1.0  0.0  0.0  0.0  1.0  0.0  0.0  0.375  1.0  1.0\n",
       "2    0.0  1.0  0.0  0.0  0.0  1.0  0.0  0.0  0.375  1.0  1.0\n",
       "3    0.0  1.0  0.0  0.0  0.0  1.0  0.0  0.0  0.375  1.0  1.0\n",
       "4    0.0  1.0  0.0  0.0  0.0  1.0  0.0  0.0  0.375  1.0  1.0\n",
       "..   ...  ...  ...  ...  ...  ...  ...  ...    ...  ...  ...\n",
       "162  0.0  0.2  1.0  0.0  1.0  0.0  1.0  0.0  1.000  0.0  0.6\n",
       "163  0.0  0.2  1.0  0.0  1.0  0.0  1.0  0.0  1.000  0.0  0.6\n",
       "164  0.0  0.2  1.0  0.0  1.0  0.0  1.0  0.0  1.000  0.0  0.6\n",
       "165  0.0  0.2  1.0  0.0  1.0  0.0  1.0  0.0  1.000  0.0  0.6\n",
       "166  1.0  0.0  1.0  1.0  0.0  0.0  1.0  0.0  1.000  0.0  0.6\n",
       "\n",
       "[167 rows x 11 columns]"
      ]
     },
     "execution_count": 50,
     "metadata": {},
     "output_type": "execute_result"
    }
   ],
   "source": [
    "len(metric_1_scaled)\n",
    "pd.DataFrame(metric_1_scaled)"
   ]
  },
  {
   "cell_type": "code",
   "execution_count": 47,
   "metadata": {},
   "outputs": [
    {
     "data": {
      "image/png": "[encoded data removed]",
      "text/plain": [
       "<Figure size 864x576 with 1 Axes>"
      ]
     },
     "metadata": {},
     "output_type": "display_data"
    }
   ],
   "source": [
    "plot_generate(graph_list_BPI[28], 0,1,0)"
   ]
  },
  {
   "cell_type": "code",
   "execution_count": 40,
   "metadata": {},
   "outputs": [],
   "source": [
    "def generate_graph_video(BPI):\n",
    "    generate_imagens_to_ffmpeg(BPI)"
   ]
  },
  {
   "cell_type": "code",
   "execution_count": 41,
   "metadata": {},
   "outputs": [],
   "source": [
    "#generate_imagens_to_ffmpeg(60, edges=False)\n",
    "#ffmpeg -f image2 -i img%d.png test.mp4"
   ]
  },
  {
   "cell_type": "markdown",
   "metadata": {},
   "source": [
    "## Criando video a partir das imagens "
   ]
  },
  {
   "cell_type": "code",
   "execution_count": 42,
   "metadata": {},
   "outputs": [],
   "source": [
    "#generate_imagens_to_ffmpeg(60, edges=True)"
   ]
  },
  {
   "cell_type": "code",
   "execution_count": 43,
   "metadata": {},
   "outputs": [
    {
     "name": "stdout",
     "output_type": "stream",
     "text": [
      "True\n"
     ]
    },
    {
     "ename": "AttributeError",
     "evalue": "module 'ffmpeg' has no attribute 'input'",
     "output_type": "error",
     "traceback": [
      "\u001b[1;31m---------------------------------------------------------------------------\u001b[0m",
      "\u001b[1;31mAttributeError\u001b[0m                            Traceback (most recent call last)",
      "\u001b[1;32m~\\AppData\\Local\\Temp/ipykernel_10372/2465853599.py\u001b[0m in \u001b[0;36m<module>\u001b[1;34m\u001b[0m\n\u001b[0;32m      1\u001b[0m \u001b[0mpath\u001b[0m \u001b[1;33m=\u001b[0m \u001b[1;34m'ffmpeg_fetws/'\u001b[0m \u001b[1;31m# Caminho para salvar o video\u001b[0m\u001b[1;33m\u001b[0m\u001b[1;33m\u001b[0m\u001b[0m\n\u001b[1;32m----> 2\u001b[1;33m \u001b[0mcreate_video\u001b[0m\u001b[1;33m(\u001b[0m\u001b[0mpath\u001b[0m\u001b[1;33m,\u001b[0m \u001b[1;36m60\u001b[0m\u001b[1;33m,\u001b[0m \u001b[0medges\u001b[0m\u001b[1;33m=\u001b[0m\u001b[1;32mTrue\u001b[0m\u001b[1;33m)\u001b[0m \u001b[1;31m# Salvando o video usando ffmpeg\u001b[0m\u001b[1;33m\u001b[0m\u001b[1;33m\u001b[0m\u001b[0m\n\u001b[0m",
      "\u001b[1;32m~\\AppData\\Local\\Temp/ipykernel_10372/4032479652.py\u001b[0m in \u001b[0;36mcreate_video\u001b[1;34m(path, FETW, edges)\u001b[0m\n\u001b[0;32m      4\u001b[0m     \u001b[1;32mif\u001b[0m \u001b[0medges\u001b[0m\u001b[1;33m:\u001b[0m\u001b[1;33m\u001b[0m\u001b[1;33m\u001b[0m\u001b[0m\n\u001b[0;32m      5\u001b[0m         (\n\u001b[1;32m----> 6\u001b[1;33m             \u001b[0mffmpeg\u001b[0m\u001b[1;33m\u001b[0m\u001b[1;33m\u001b[0m\u001b[0m\n\u001b[0m\u001b[0;32m      7\u001b[0m             \u001b[1;31m# Pasta com imagens e taxa de frames\u001b[0m\u001b[1;33m\u001b[0m\u001b[1;33m\u001b[0m\u001b[1;33m\u001b[0m\u001b[0m\n\u001b[0;32m      8\u001b[0m             \u001b[1;33m.\u001b[0m\u001b[0minput\u001b[0m\u001b[1;33m(\u001b[0m\u001b[1;34m'ffmpeg_fetws/graph_to_ffmpeg_REDSCAT2_edges_'\u001b[0m\u001b[1;33m+\u001b[0m\u001b[0mstr\u001b[0m\u001b[1;33m(\u001b[0m\u001b[0mFETW\u001b[0m\u001b[1;33m)\u001b[0m\u001b[1;33m+\u001b[0m\u001b[1;34m'/img%d.png'\u001b[0m\u001b[1;33m,\u001b[0m  \u001b[0mframerate\u001b[0m\u001b[1;33m=\u001b[0m\u001b[1;36m25\u001b[0m\u001b[1;33m)\u001b[0m\u001b[1;33m\u001b[0m\u001b[1;33m\u001b[0m\u001b[0m\n",
      "\u001b[1;31mAttributeError\u001b[0m: module 'ffmpeg' has no attribute 'input'"
     ]
    }
   ],
   "source": [
    "path = 'ffmpeg_fetws/' # Caminho para salvar o video\n",
    "create_video(path, 60, edges=True) # Salvando o video usando ffmpeg"
   ]
  },
  {
   "cell_type": "code",
   "execution_count": null,
   "metadata": {},
   "outputs": [],
   "source": []
  },
  {
   "cell_type": "code",
   "execution_count": null,
   "metadata": {},
   "outputs": [],
   "source": []
  }
 ],
 "metadata": {
  "kernelspec": {
   "display_name": "Python 3 (ipykernel)",
   "language": "python",
   "name": "python3"
  },
  "language_info": {
   "codemirror_mode": {
    "name": "ipython",
    "version": 3
   },
   "file_extension": ".py",
   "mimetype": "text/x-python",
   "name": "python",
   "nbconvert_exporter": "python",
   "pygments_lexer": "ipython3",
   "version": "3.8.8"
  }
 },
 "nbformat": 4,
 "nbformat_minor": 4
}
