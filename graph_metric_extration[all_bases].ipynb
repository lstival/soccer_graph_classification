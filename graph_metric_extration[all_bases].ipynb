{
 "cells": [
  {
   "cell_type": "code",
   "execution_count": 1,
   "metadata": {},
   "outputs": [],
   "source": [
    "import pandas as pd\n",
    "import matplotlib.pyplot as plt\n",
    "import numpy as np\n",
    "import matplotlib.image as mpimg\n",
    "import time\n",
    "import progressbar\n",
    "from datetime import datetime\n",
    "import networkx as nx\n",
    "import scipy.spatial\n",
    "import math\n",
    "import scipy.stats\n",
    "import gc\n",
    "\n",
    "import os\n",
    "import seaborn as sn\n",
    "from sklearn import preprocessing\n",
    "\n",
    "%matplotlib inline\n",
    "from shapely.geometry import Polygon\n",
    "start = datetime.now()"
   ]
  },
  {
   "cell_type": "markdown",
   "metadata": {},
   "source": [
    "## Frames do FETW "
   ]
  },
  {
   "cell_type": "code",
   "execution_count": 2,
   "metadata": {},
   "outputs": [],
   "source": [
    "path_original = \"\""
   ]
  },
  {
   "cell_type": "code",
   "execution_count": 3,
   "metadata": {},
   "outputs": [],
   "source": [
    "all_games_og = pd.read_csv(f'all_games_other_games.csv')"
   ]
  },
  {
   "cell_type": "code",
   "execution_count": 4,
   "metadata": {},
   "outputs": [],
   "source": [
    "partidas = all_games_og.partida.unique()"
   ]
  },
  {
   "cell_type": "code",
   "execution_count": 42,
   "metadata": {},
   "outputs": [
    {
     "data": {
      "text/plain": [
       "array(['REDSCAT2'], dtype=object)"
      ]
     },
     "execution_count": 42,
     "metadata": {},
     "output_type": "execute_result"
    }
   ],
   "source": [
    "partidas"
   ]
  },
  {
   "cell_type": "code",
   "execution_count": 6,
   "metadata": {},
   "outputs": [],
   "source": [
    "all_games_ad = all_games_og[all_games_og['interval_frame_size'] >= 500]"
   ]
  },
  {
   "cell_type": "code",
   "execution_count": 7,
   "metadata": {},
   "outputs": [],
   "source": [
    "all_games_ad.reset_index().to_csv('all_games_ad_FETW.csv')"
   ]
  },
  {
   "cell_type": "code",
   "execution_count": 9,
   "metadata": {},
   "outputs": [],
   "source": [
    "#Função que pega a posição dos jogadores só dos intervalos de FETW\n",
    "def get_FETW_interval(FETW_ini,FETW_end):\n",
    "    list_player.append(players_positions.iloc[FETW_ini:FETW_end])"
   ]
  },
  {
   "cell_type": "markdown",
   "metadata": {},
   "source": [
    "## Gerando e salvando as imagens"
   ]
  },
  {
   "cell_type": "code",
   "execution_count": 10,
   "metadata": {},
   "outputs": [],
   "source": [
    "def valid_FETW_target():\n",
    "    target = all_games[(all_games.partida == partida) & (all_games['index'] == int(file.split('_')[0]))].target.values[0]\n",
    "    return int(target)"
   ]
  },
  {
   "cell_type": "code",
   "execution_count": null,
   "metadata": {},
   "outputs": [],
   "source": []
  },
  {
   "cell_type": "code",
   "execution_count": 11,
   "metadata": {},
   "outputs": [],
   "source": [
    "def generate_rhythm(df, name):\n",
    "    \n",
    "    team = name.split(\"_\")[-1]\n",
    "    name = name.replace(team, '')\n",
    "    \n",
    "    #Tira as legendas e define a palheta de cores\n",
    "    figure = sn.heatmap(df.values, cmap=\"YlGnBu\", cbar=False, xticklabels=False, yticklabels=False)\n",
    "    #figure = sn.heatmap(df.values, cmap=\"gray\", cbar=False, xticklabels=False, yticklabels=False) #Fazendo as imagens cinzas\n",
    "    \n",
    "    filename = 'rhythm_figures/graph_metric/' + partida\n",
    "    os.makedirs(os.path.dirname(filename), exist_ok=True)\n",
    "    \n",
    "    figure.figure.savefig(filename + '/' +\n",
    "                          str(FETW_count) + '_' + \n",
    "                          str(name).replace('_','') + '_' + \n",
    "                          team + '_' + str(valid_FETW_target()) + '.jpg',bbox_inches='tight', pad_inches=0)\n",
    "                          \n",
    "    #str(valid_FETW_target()) + '/' + partida + '_' + file.split('.')[0] + '.png',bbox_inches='tight', pad_inches=0)\n",
    "    return figure"
   ]
  },
  {
   "cell_type": "code",
   "execution_count": 12,
   "metadata": {},
   "outputs": [],
   "source": [
    "def normalize_data(metric):\n",
    "    #Normalizing values\n",
    "    x = metric.values #returns a numpy array\n",
    "    min_max_scaler = preprocessing.MinMaxScaler()\n",
    "    x_scaled = min_max_scaler.fit_transform(x)\n",
    "    df = pd.DataFrame(x_scaled)\n",
    "    df = df.reindex(df.mean(axis=1).sort_values(ascending=True).index, axis=0)\n",
    "    \n",
    "    return df"
   ]
  },
  {
   "cell_type": "code",
   "execution_count": 13,
   "metadata": {},
   "outputs": [],
   "source": [
    "def get_metric_list(atributo):\n",
    "    all_nodes_matrix = []\n",
    "    for m_graph in (graph_group):\n",
    "        node_array = []\n",
    "        for node in m_graph:\n",
    "            node_array.append(m_graph.nodes[node][atributo])\n",
    "        all_nodes_matrix.append(node_array)\n",
    "\n",
    "    return all_nodes_matrix"
   ]
  },
  {
   "cell_type": "code",
   "execution_count": 14,
   "metadata": {},
   "outputs": [],
   "source": [
    "def create_df_metrics(all_nodes_matrix):\n",
    "    i=0\n",
    "    matrix_t1 = []\n",
    "    matrix_t2 = []\n",
    "    \n",
    "    while i < len(all_nodes_matrix):\n",
    "        matrix_t1.append(all_nodes_matrix[i])\n",
    "        matrix_t2.append(all_nodes_matrix[i+1])\n",
    "        i = i+2\n",
    "\n",
    "    #Adicionando a centralidade dos times\n",
    "    df_matrix_t1 = pd.DataFrame(matrix_t1)\n",
    "    df_matrix_t2 = pd.DataFrame(matrix_t2)\n",
    "\n",
    "    return df_matrix_t1, df_matrix_t2"
   ]
  },
  {
   "cell_type": "code",
   "execution_count": 15,
   "metadata": {},
   "outputs": [],
   "source": [
    "def node_neighbors(graph_indice, node):\n",
    "    return ([n for n in graph_group[graph_indice].neighbors(node)])"
   ]
  },
  {
   "cell_type": "code",
   "execution_count": 16,
   "metadata": {},
   "outputs": [],
   "source": [
    "def save_dataframe(df, name):\n",
    "    team = name.split(\"_\")[-1]\n",
    "    name_rep = name.replace(team, '')\n",
    "    \n",
    "    path = 'grafo_all_bases\\\\' + partida +'\\\\'\n",
    "    \n",
    "    if not os.path.exists(path):\n",
    "        os.makedirs(path)\n",
    "        \n",
    "    path = path + '/' + str(FETW_count) + '_' + str(name_rep).replace('_','') + '_' + team +'.csv'\n",
    "        \n",
    "    df.to_csv(path)\n",
    "    \n",
    "    #Salvar as imagens\n",
    "    #df = normalize_data(df)\n",
    "    #generate_rhythm(df, name)\n"
   ]
  },
  {
   "cell_type": "markdown",
   "metadata": {},
   "source": [
    "## Betweenness Centrality"
   ]
  },
  {
   "cell_type": "code",
   "execution_count": 17,
   "metadata": {},
   "outputs": [],
   "source": [
    "# calcula a betweenness_centrality de cada node\n",
    "def betweenness_centrality():\n",
    "    for m_graph in (graph_group):\n",
    "        bc = nx.betweenness_centrality(m_graph)\n",
    "        for node in m_graph:\n",
    "            m_graph.nodes[node]['bet_cen'] = bc[node]\n",
    "\n",
    "    #Criando dataframes com centralidade\n",
    "    bet_cen_matrix = get_metric_list('bet_cen')\n",
    "    df_bet_cen_matrix_t1, df_bet_cen_matrix_t2 = create_df_metrics(bet_cen_matrix)\n",
    "#     print(f'sizes: {len(df_bet_cen_matrix_t1.columns)} | {len(df_bet_cen_matrix_t2.columns)}')\n",
    "    \n",
    "    save_dataframe(df_bet_cen_matrix_t1, 'bet_cen_t1')\n",
    "    save_dataframe(df_bet_cen_matrix_t2, 'bet_cen_t2')"
   ]
  },
  {
   "cell_type": "markdown",
   "metadata": {},
   "source": [
    "## Eccentricity "
   ]
  },
  {
   "cell_type": "code",
   "execution_count": 18,
   "metadata": {},
   "outputs": [],
   "source": [
    "def eccentricity():\n",
    "    #Calcula a Eccentricity de cada nó\n",
    "\n",
    "    eccentricity_t1 = []\n",
    "    eccentricity_t2 = []\n",
    "\n",
    "    i = 0\n",
    "    for m_graph in (graph_group):\n",
    "        for node in m_graph:\n",
    "            #Se o grafo nao for conexo coloca como 0\n",
    "            if nx.is_connected(graph_group[i]):#Verifica se o grafo é conectado, se for adiciona o valor ao nó\n",
    "                eccentricity_node = nx.algorithms.distance_measures.eccentricity(graph_group[i],node)\n",
    "                m_graph.nodes[node]['eccentricity'] = eccentricity_node\n",
    "            else:#Se o grafo nao for conectado adiciona 0 (n tem como calcular em grafo nao conectados)\n",
    "                m_graph.nodes[node]['eccentricity'] = 0\n",
    "        i+=1\n",
    "    #Criando dataframe com as métricas\n",
    "    eccentricity_matrix = get_metric_list('eccentricity')\n",
    "    df_eccentricity_matrix_t1, df_eccentricity_matrix_t2 = create_df_metrics(eccentricity_matrix)\n",
    "    \n",
    "    save_dataframe(df_eccentricity_matrix_t1, 'eccentricity_t1')\n",
    "    save_dataframe(df_eccentricity_matrix_t2, 'eccentricity_t2')"
   ]
  },
  {
   "cell_type": "markdown",
   "metadata": {},
   "source": [
    "## Eficiencia Global"
   ]
  },
  {
   "cell_type": "code",
   "execution_count": 19,
   "metadata": {},
   "outputs": [],
   "source": [
    "def eficiencia_global():\n",
    "    #calcula a \"global efficiency\" de cada node\n",
    "    for m_graph in (graph_group):\n",
    "        for node in m_graph:\n",
    "            global_efi =  []\n",
    "            for comp_node in m_graph:\n",
    "                if (comp_node != node):\n",
    "                    global_efi.append(nx.efficiency(m_graph, node, comp_node))\n",
    "\n",
    "            m_graph.nodes[node]['global_efficiency'] = sum(global_efi)/len(global_efi)\n",
    "            \n",
    "            #Criando dataframe com as métricas\n",
    "    global_efficiency_matrix = get_metric_list('global_efficiency')\n",
    "    df_global_efficiency_matrix_t1, df_global_efficiency_matrix_t2 = create_df_metrics(global_efficiency_matrix)\n",
    "    \n",
    "    save_dataframe(df_global_efficiency_matrix_t1, 'global_efficiency_t1')\n",
    "    save_dataframe(df_global_efficiency_matrix_t2, 'global_efficiency_t2')"
   ]
  },
  {
   "cell_type": "markdown",
   "metadata": {},
   "source": [
    "## Eficiencia Local"
   ]
  },
  {
   "cell_type": "code",
   "execution_count": 20,
   "metadata": {},
   "outputs": [],
   "source": [
    "def eficiencia_local():\n",
    "    i = 0\n",
    "    for m_graph in (graph_group):  \n",
    "        global_total = 0\n",
    "        nodes_count = 0\n",
    "\n",
    "        for node in m_graph:\n",
    "            for node_atual in node_neighbors(i, node): #Soma todos os valores de Eficiencia Global\n",
    "                global_total += graph_group[i].nodes[node_atual]['global_efficiency']\n",
    "                nodes_count += 1\n",
    "\n",
    "            if nodes_count != 0:\n",
    "                graph_group[i].nodes[node]['loc_efficiency'] = (1 / nodes_count ) * global_total\n",
    "                #Faz o calculo da eficiencia local de cada nó (Formula da Daniele)\n",
    "            else:\n",
    "                graph_group[i].nodes[node]['loc_efficiency'] = 0.001\n",
    "\n",
    "        i += 1\n",
    "    #Criando dataframe com as métricas\n",
    "    loc_efficiency_matriz = get_metric_list('loc_efficiency')\n",
    "    df_loc_efficiency_t1, df_loc_efficiency_t2 = create_df_metrics(loc_efficiency_matriz)\n",
    "    \n",
    "    save_dataframe(df_loc_efficiency_t1, 'loc_efficiency_t1')\n",
    "    save_dataframe(df_loc_efficiency_t2, 'loc_efficiency_t2')"
   ]
  },
  {
   "attachments": {
    "image.png": {
     "image/png": "[encoded data removed]"
    }
   },
   "cell_type": "markdown",
   "metadata": {},
   "source": [
    "![image.png](attachment:image.png)"
   ]
  },
  {
   "cell_type": "markdown",
   "metadata": {},
   "source": [
    "## Average Distance "
   ]
  },
  {
   "cell_type": "code",
   "execution_count": 21,
   "metadata": {},
   "outputs": [],
   "source": [
    "def distance():\n",
    "    #Add Average Distance to graph\n",
    "    i = 0\n",
    "    for m_graph in (graph_group):\n",
    "        if nx.is_connected(m_graph):\n",
    "            ad = nx.average_shortest_path_length(m_graph)\n",
    "        else:\n",
    "            ad = 0\n",
    "        for node in m_graph:\n",
    "            graph_group[i].nodes[node]['aver_dist'] = ad\n",
    "        i+=1\n",
    "    #Criando dataframe com as métricas\n",
    "    aver_dist_matriz = get_metric_list('aver_dist')\n",
    "    df_aver_dist_matriz_t1, df_aver_dist_matriz_t2 = create_df_metrics(aver_dist_matriz)\n",
    "    \n",
    "    save_dataframe(df_aver_dist_matriz_t1, 'aver_dist_t1')\n",
    "    save_dataframe(df_aver_dist_matriz_t2, 'aver_dist_t2')"
   ]
  },
  {
   "cell_type": "markdown",
   "metadata": {},
   "source": [
    "## Vulnerability "
   ]
  },
  {
   "attachments": {
    "image.png": {
     "image/png": "[encoded data removed]"
    }
   },
   "cell_type": "markdown",
   "metadata": {},
   "source": [
    "![image.png](attachment:image.png)"
   ]
  },
  {
   "cell_type": "code",
   "execution_count": 22,
   "metadata": {},
   "outputs": [],
   "source": [
    "def vulnerability():\n",
    "    #Calcula Vulnerability\n",
    "    i = 0\n",
    "    for m_graph in (graph_group):\n",
    "        for node in m_graph:\n",
    "            vulne = 1 - (graph_group[i].nodes[node]['global_efficiency'] / graph_group[i].nodes[node]['loc_efficiency'])\n",
    "            m_graph.nodes[node]['vulnerability'] = vulne\n",
    "        i+=1\n",
    "    #Criando dataframe com as métricas\n",
    "    vulnerability_matriz = get_metric_list('vulnerability')\n",
    "    df_vulnerability_matriz_t1, df_vulnerability_matriz_t2 = create_df_metrics(vulnerability_matriz)\n",
    "    \n",
    "    save_dataframe(df_vulnerability_matriz_t1, 'vulnerability_t1')\n",
    "    save_dataframe(df_vulnerability_matriz_t2, 'vulnerability_t2')"
   ]
  },
  {
   "cell_type": "markdown",
   "metadata": {},
   "source": [
    "## Clustering "
   ]
  },
  {
   "cell_type": "code",
   "execution_count": 23,
   "metadata": {},
   "outputs": [],
   "source": [
    "def clustering():\n",
    "    #Calculando clustering de cada nó\n",
    "    i = 0\n",
    "    for m_graph in (graph_group):\n",
    "        for node in m_graph:\n",
    "            node_clust = nx.algorithms.cluster.clustering(m_graph, node)\n",
    "            graph_group[i].nodes[node]['clustering_coeffi'] = node_clust\n",
    "        i+=1\n",
    "    \n",
    "    #Criando dataframe com as métricas\n",
    "    clustering_coeffi_matriz = get_metric_list('clustering_coeffi')\n",
    "    df_clustering_coeffi_matriz_t1, df_clustering_coeffi_matriz_t2 = create_df_metrics(clustering_coeffi_matriz)\n",
    "    \n",
    "    save_dataframe(df_clustering_coeffi_matriz_t1, 'clustering_coeffi_t1')\n",
    "    save_dataframe(df_clustering_coeffi_matriz_t2, 'clustering_coeffi_t2')"
   ]
  },
  {
   "cell_type": "markdown",
   "metadata": {},
   "source": [
    "## Rich Club Coefficient "
   ]
  },
  {
   "attachments": {
    "image.png": {
     "image/png": "[encoded data removed]"
    }
   },
   "cell_type": "markdown",
   "metadata": {},
   "source": [
    "![image.png](attachment:image.png)"
   ]
  },
  {
   "cell_type": "code",
   "execution_count": 24,
   "metadata": {},
   "outputs": [],
   "source": [
    "def rich_club_coefficient():\n",
    "    #Calculando rich_club_coefficient de cada nó\n",
    "    i = 0\n",
    "\n",
    "    for m_graph in (graph_group):\n",
    "        if have_newborns(m_graph) == True:\n",
    "            graph_rich_club = nx.rich_club_coefficient(m_graph, normalized=False)\n",
    "            for node in m_graph:\n",
    "                graph_group[i].nodes[node]['rich_club_coefficient'] = graph_rich_club[0]\n",
    "        else:\n",
    "            for node in m_graph:\n",
    "                graph_group[i].nodes[node]['rich_club_coefficient'] = 0\n",
    "            \n",
    "        i+=1\n",
    "    #Criando dataframe com as métricas\n",
    "    rich_club_coefficient_matriz = get_metric_list('rich_club_coefficient')\n",
    "    df_rich_club_coefficient_matriz_t1, df_rich_club_coefficient_matriz_t2 = create_df_metrics(rich_club_coefficient_matriz)\n",
    "    \n",
    "    save_dataframe(df_rich_club_coefficient_matriz_t1, 'rich_club_coefficient_t1')\n",
    "    save_dataframe(df_rich_club_coefficient_matriz_t2, 'rich_club_coefficient_t2')"
   ]
  },
  {
   "cell_type": "code",
   "execution_count": 25,
   "metadata": {},
   "outputs": [],
   "source": [
    "def have_newborns(graph):\n",
    "    if pd.Series(graph.degree()).apply(lambda x: x[0] * x[1]).sum() > 0:\n",
    "        return True\n",
    "    else:\n",
    "        return False"
   ]
  },
  {
   "cell_type": "markdown",
   "metadata": {},
   "source": [
    "## Grau "
   ]
  },
  {
   "cell_type": "code",
   "execution_count": 26,
   "metadata": {},
   "outputs": [],
   "source": [
    "def grau():\n",
    "    #Calculando degree de cada nó\n",
    "    i = 0\n",
    "    for m_graph in (graph_group):\n",
    "        for node in m_graph:\n",
    "            node_degree = nx.classes.function.degree(m_graph, node)\n",
    "            graph_group[i].nodes[node]['degree'] = node_degree\n",
    "        i+=1\n",
    "    #Criando dataframe com as métricas\n",
    "    degree_matriz = get_metric_list('degree')\n",
    "    df_degree_matriz_t1, df_degree_matriz_t2 = create_df_metrics(degree_matriz)\n",
    "    \n",
    "    save_dataframe(df_degree_matriz_t1, 'degree_t1')\n",
    "    save_dataframe(df_degree_matriz_t2, 'degree_t2')"
   ]
  },
  {
   "cell_type": "markdown",
   "metadata": {},
   "source": [
    "##  Diversity Entropy"
   ]
  },
  {
   "cell_type": "code",
   "execution_count": 27,
   "metadata": {},
   "outputs": [],
   "source": [
    "def diversity_entropy():\n",
    "    #Calculo da probabilidade de selecionar um nó entre todos os vizinhos\n",
    "    i = 0\n",
    "    for m_graph in (graph_group):\n",
    "        for node in m_graph:\n",
    "            if m_graph.nodes[node]['degree'] != 0:\n",
    "                graph_group[i].nodes[node]['edge_probability'] = (1/(m_graph.nodes[node]['degree']))\n",
    "            else:\n",
    "                graph_group[i].nodes[node]['edge_probability'] = 0\n",
    "        i+=1\n",
    "\n",
    "    #Adiciona uma lista de vizinhos as variaveis de cada node, incluindo a probabilidade de passe para cada vizinho\n",
    "    for m_graph in (graph_group):\n",
    "        for node in m_graph:\n",
    "            neighbor_nodes = []\n",
    "            for neighbor_node in list(m_graph.neighbors(node)):\n",
    "                neighbor_nodes.append([neighbor_node, m_graph.nodes[neighbor_node]['edge_probability']])\n",
    "            m_graph.nodes[node]['neighbors'] = neighbor_nodes\n",
    "\n",
    "    # calcula o array de probabilidades para os vizinhos dos vizinhos de cada node, e a entropia de cada node\n",
    "    # utiliza estes ddos para cauculo da entropia de cada node\n",
    "    for m_graph in (graph_group):\n",
    "        for node in m_graph:\n",
    "            edge_prob = m_graph.nodes[node]['edge_probability']\n",
    "            prob_nei_of_nei = {}\n",
    "            for node_neighbor in m_graph.nodes[node]['neighbors']:\n",
    "                prob = edge_prob * node_neighbor[1]\n",
    "                neigs_of_neig = list(m_graph.neighbors(node_neighbor[0]))\n",
    "                for neig in neigs_of_neig:\n",
    "                    if neig not in prob_nei_of_nei:\n",
    "                        prob_nei_of_nei[neig] = prob\n",
    "                    else:\n",
    "                        prob_nei_of_nei[neig] = prob_nei_of_nei[neig] + prob\n",
    "            m_graph.nodes[node]['list_prob_neig_of_neig'] = prob_nei_of_nei\n",
    "            m_graph.nodes[node]['entropy'] = scipy.stats.entropy(list(prob_nei_of_nei.values()))\n",
    "            \n",
    "    #Criando dataframe com as métricas\n",
    "    entropy_matriz = get_metric_list('entropy')\n",
    "    df_entropy_matriz_t1, df_entropy_matriz_t2 = create_df_metrics(entropy_matriz)\n",
    "    \n",
    "    save_dataframe(df_entropy_matriz_t1, 'entropy_t1')\n",
    "    save_dataframe(df_entropy_matriz_t2, 'entropy_t2')"
   ]
  },
  {
   "cell_type": "markdown",
   "metadata": {},
   "source": [
    "## Page Rank "
   ]
  },
  {
   "attachments": {
    "image.png": {
     "image/png": "[encoded data removed]"
    }
   },
   "cell_type": "markdown",
   "metadata": {},
   "source": [
    "![image.png](attachment:image.png)"
   ]
  },
  {
   "cell_type": "code",
   "execution_count": 28,
   "metadata": {},
   "outputs": [],
   "source": [
    "def pagerank():\n",
    "    #Calculando pagerank de cada nó\n",
    "    i = 0\n",
    "    for m_graph in (graph_group):\n",
    "        page_rank = nx.pagerank(m_graph)\n",
    "        page_rank_indice = 0\n",
    "        for node in m_graph:\n",
    "            graph_group[i].nodes[node]['pagerank'] = page_rank[page_rank_indice]\n",
    "            page_rank_indice += 1\n",
    "\n",
    "        i+=1\n",
    "        \n",
    "    #Criando dataframe com as métricas\n",
    "    pagerank_matriz = get_metric_list('pagerank')\n",
    "    df_pagerank_matriz_t1, df_pagerank_matriz_t2 = create_df_metrics(pagerank_matriz)\n",
    "    \n",
    "    save_dataframe(df_pagerank_matriz_t1, 'pagerank_t1')\n",
    "    save_dataframe(df_pagerank_matriz_t2, 'pagerank_t2')"
   ]
  },
  {
   "cell_type": "markdown",
   "metadata": {},
   "source": [
    "## Criando o Gafo "
   ]
  },
  {
   "cell_type": "code",
   "execution_count": 30,
   "metadata": {},
   "outputs": [],
   "source": [
    "def create_graph():\n",
    "    players_data = players_positions_FETW.copy()\n",
    "    players_data = players_data.drop([0],axis=1)\n",
    "    players_data.columns = [i+1 for i in range(len(players_data.columns))]\n",
    "    players_data = players_data.transpose()\n",
    "\n",
    "    def create_graph_nodes(row):\n",
    "        position_list=[]\n",
    "        G = nx.Graph()\n",
    "        k = 0\n",
    "        j = 0\n",
    "        #Add the node \"j\", containing the argument \"pos=x_coord, y_coord, for the fist team (k = 0 to 22)\"\n",
    "        while k < 28:\n",
    "            #Apend the coordnates of the player to the postion list (will be used on a future opertion)\n",
    "            if (row[k] > -100) & (row[k+1] > -100) & (G.number_of_nodes() < 11):\n",
    "                position_list.append([row[k],row[k+1]])\n",
    "                G.add_node(j, pos=(row[k],row[k+1]))\n",
    "            j = j+1\n",
    "            k = k+2\n",
    "            \n",
    "#         if G.number_of_nodes() > 11:\n",
    "#             G.remove_node(list(G.nodes())[-1])\n",
    "            \n",
    "        #Apend the graph to the graph list\n",
    "        graph_list.append(G)\n",
    "        j=0\n",
    "        # apend the position list for the current frame to the list of positions lists (will be used on a future opertion)\n",
    "        group_of_position_lists.append(position_list)\n",
    "\n",
    "        #Repeat all for the second team\"\n",
    "        G = nx.Graph()\n",
    "        position_list=[]\n",
    "        while k < 60:\n",
    "            if (row[k] > -100) & (row[k+1] > -100) & (G.number_of_nodes() < 11):\n",
    "                position_list.append([row[k],row[k+1]])\n",
    "                G.add_node(j, pos=(row[k],row[k+1]))\n",
    "            j = j+1\n",
    "            k = k+2\n",
    "                  \n",
    "#         if G.number_of_nodes() > 11:\n",
    "#             G.remove_node(list(G.nodes())[-1])\n",
    "            \n",
    "        graph_list.append(G)\n",
    "        #will be used to generate delaunay trianges\n",
    "        group_of_position_lists.append(position_list)\n",
    "        return 0\n",
    "\n",
    "    #Transform the dataset into a numpy_array and call the function above\n",
    "    x= players_data.values\n",
    "    np.apply_along_axis(create_graph_nodes, 0, x)\n",
    "\n",
    "    #create a list of tuples, containing player positions\n",
    "    for a_graph in (graph_list):\n",
    "        list_pos.append(nx.get_node_attributes(a_graph,'pos'))\n",
    "\n",
    "    for pos_list in (group_of_position_lists):\n",
    "        triang_del_list.append(scipy.spatial.Delaunay(pos_list))\n",
    "\n",
    "    #create edges from delaunay triangles\n",
    "\n",
    "    # for each set of triangles\n",
    "    i = 0\n",
    "    for delTri in (triang_del_list):\n",
    "        edges = set()\n",
    "        # for each Delaunay triangle\n",
    "        for n in range(delTri.nsimplex):\n",
    "        # for each edge of the triangle\n",
    "        # sort the vertices\n",
    "        # (sorting avoids duplicated edges being added to the set)\n",
    "        # and add to the edges set\n",
    "            edge = sorted([delTri.vertices[n,0], delTri.vertices[n,1]])\n",
    "            edges.add((edge[0], edge[1]))\n",
    "            edge = sorted([delTri.vertices[n,0], delTri.vertices[n,2]])\n",
    "            edges.add((edge[0], edge[1]))\n",
    "            edge = sorted([delTri.vertices[n,1], delTri.vertices[n,2]])\n",
    "            edges.add((edge[0], edge[1]))\n",
    "        graph = nx.Graph(list(edges)) \n",
    "        nx.set_node_attributes(graph, list_pos[i], 'pos')\n",
    "        graph_group.append(graph)\n",
    "        i = i+1\n",
    "    # Delete edges from players with adversaries close (pos dif < 0.5) to them\n",
    "    i=0\n",
    "    #for i in progressbar.progressbar(range(len(list_pos))):\n",
    "    while i < len(list_pos):\n",
    "        for pos_id, pos_values in list_pos[i].items():\n",
    "            for pos_adv, pos_values_adv in list_pos[i+1].items():\n",
    "                #Get distance on the x axis\n",
    "                dist_x = pos_values[0] - pos_values_adv[0]\n",
    "                 #Get distance on the y axis\n",
    "                dist_y = pos_values[1] - pos_values_adv[1]\n",
    "                #Calculate distance\n",
    "                dist_total = math.hypot(dist_y,dist_x)\n",
    "                # if distance <0.5, remove the all edges by deleting and re-adding the node\n",
    "                # do it for graph of both teams\n",
    "                if dist_total < 0.5:\n",
    "                    if graph_group[i].has_node(pos_id):\n",
    "                        m_node = graph_group[i].nodes[pos_id]\n",
    "                        graph_group[i].remove_node(pos_id)\n",
    "                        graph_group[i].add_node(pos_id, pos=pos_values)\n",
    "\n",
    "                    if graph_group[i+1].has_node(pos_id) & graph_group[i+1].has_node(pos_adv):\n",
    "                        m_node_adv = graph_group[i+1].nodes[pos_id]\n",
    "                        graph_group[i+1].remove_node(pos_adv)\n",
    "                        graph_group[i+1].add_node(pos_adv, pos=pos_values_adv)\n",
    "        i = i+2"
   ]
  },
  {
   "cell_type": "code",
   "execution_count": 31,
   "metadata": {},
   "outputs": [],
   "source": [
    "def distance_players_same_team():\n",
    "    while i < len(list_pos):\n",
    "        for pos_id, pos_values in list_pos[i].items():\n",
    "            for pos_id_same_team, pos_values_same_team in list_pos[i].items():\n",
    "                if pos_id != pos_id_same_team:\n",
    "                    dist_x = pos_values[0] - pos_values_same_team[0]\n",
    "                     #Get distance on the y axis\n",
    "                    dist_y = pos_values[1] - pos_values_same_team[1]\n",
    "                    #Calculate distance\n",
    "                    dist_total = math.hypot(dist_y,dist_x)\n",
    "                    # if distance <0.5, remove the all edges by deleting and re-adding the node\n",
    "                    # do it for graph of both teams\n",
    "                    if dist_total > 10:\n",
    "                        if graph_group[i].has_node(pos_id):\n",
    "                            m_node = graph_group[i].nodes[pos_id]\n",
    "                            graph_group[i].remove_node(pos_id)\n",
    "                            graph_group[i].add_node(pos_id, pos=pos_values)\n",
    "\n",
    "                        if graph_group[i+1].has_node(pos_id) & graph_group[i+1].has_node(pos_id_same_team):\n",
    "                            m_node_same_team = graph_group[i+1].nodes[pos_id]\n",
    "                            graph_group[i+1].remove_node(pos_id_same_team)\n",
    "                            graph_group[i+1].add_node(pos_id_same_team, pos=pos_values_same_team)\n",
    "        i = i+2"
   ]
  },
  {
   "cell_type": "code",
   "execution_count": 32,
   "metadata": {},
   "outputs": [],
   "source": [
    "def oponent_awaer(): \n",
    "    # Delete edges from players with adversaries close (pos dif < 0.5) to them\n",
    "    i=0\n",
    "    #for i in progressbar.progressbar(range(len(list_pos))):\n",
    "    while i < len(list_pos):\n",
    "        for pos_id, pos_values in list_pos[i].items():\n",
    "            for pos_adv, pos_values_adv in list_pos[i+1].items():\n",
    "                #Get distance on the x axis\n",
    "                dist_x = pos_values[0] - pos_values_adv[0]\n",
    "                 #Get distance on the y axis\n",
    "                dist_y = pos_values[1] - pos_values_adv[1]\n",
    "                #Calculate distance\n",
    "                dist_total = math.hypot(dist_y,dist_x)\n",
    "                # if distance <0.5, remove the all edges by deleting and re-adding the node\n",
    "                # do it for graph of both teams\n",
    "                if dist_total < 0.5:\n",
    "                    if graph_group[i].has_node(pos_id):\n",
    "                        m_node = graph_group[i].nodes[pos_id]\n",
    "                        graph_group[i].remove_node(pos_id)\n",
    "                        graph_group[i].add_node(pos_id, pos=pos_values)\n",
    "\n",
    "                    if graph_group[i+1].has_node(pos_id) & graph_group[i+1].has_node(pos_adv):\n",
    "                        m_node_adv = graph_group[i+1].nodes[pos_id]\n",
    "                        graph_group[i+1].remove_node(pos_adv)\n",
    "                        graph_group[i+1].add_node(pos_adv, pos=pos_values_adv)\n",
    "        i = i+2"
   ]
  },
  {
   "cell_type": "code",
   "execution_count": 33,
   "metadata": {},
   "outputs": [
    {
     "data": {
      "text/plain": [
       "{'REDSCAT2': 66}"
      ]
     },
     "execution_count": 33,
     "metadata": {},
     "output_type": "execute_result"
    }
   ],
   "source": [
    "#Quantidade de BPIS para cada partida com ao menos 500 frames\n",
    "tamanho = {}\n",
    "\n",
    "for partida in partidas:\n",
    "    tamanho[partida] = all_games_ad[(all_games_ad.partida == partida) & \n",
    "                                 (all_games_ad.interval_frame_size >= 500)].index.size\n",
    "    \n",
    "tamanho"
   ]
  },
  {
   "cell_type": "code",
   "execution_count": 37,
   "metadata": {
    "scrolled": true
   },
   "outputs": [
    {
     "name": "stderr",
     "output_type": "stream",
     "text": [
      "\r",
      "  0% (0 of 1) |                          | Elapsed Time: 0:00:00 ETA:  --:--:--"
     ]
    },
    {
     "name": "stdout",
     "output_type": "stream",
     "text": [
      "REDSCAT2\n"
     ]
    },
    {
     "name": "stderr",
     "output_type": "stream",
     "text": [
      "100% (66 of 66) |########################| Elapsed Time: 0:04:29 Time:  0:04:29\n",
      "100% (1 of 1) |##########################| Elapsed Time: 0:04:33 Time:  0:04:33\n"
     ]
    }
   ],
   "source": [
    "for partida in progressbar.progressbar(partidas):  \n",
    "    #Mostra qual partida está sendo analisada\n",
    "    print(partida)\n",
    "\n",
    "    #Lendo posição dos jogadores\n",
    "    players_positions = pd.read_csv(f'{path_original}jogos/{partida}suav.2d', sep =('\\s+'), header=None)\n",
    "\n",
    "    list_player = [] #Lista com as posição de FETW\n",
    "    players_positions_FETW = pd.DataFrame() #DataFrame de posição dos jogadores (considerando somente FETW)\n",
    "\n",
    "    #Define o \n",
    "    game_1 = all_games_ad[(all_games_ad.partida == partida) & (all_games_ad.interval_frame_size >= 500)]\n",
    "\n",
    "    #Extraindo in\n",
    "    game_1.apply(lambda x: get_FETW_interval(int(x.frame),int(x.FETW_end)),1)\n",
    "\n",
    "    #Criando Dataframe com todas as posições de FETW\n",
    "    #for jogo in list_player:\n",
    "        #players_positions_FETW = pd.concat([players_positions_FETW, jogo])\n",
    "\n",
    "    #Loop para gerar um arquivo para cada FETW, e dps com data arquivo gerar uma imagem\n",
    "    FETW_count = 0\n",
    "    for jogo in progressbar.progressbar(list_player):\n",
    "\n",
    "        #Cria o dataframe dos dados do FETW atual\n",
    "        players_positions_FETW = pd.DataFrame(jogo)\n",
    "\n",
    "        #Mostra qual o FETW atual\n",
    "        #print(FETW_count)\n",
    "\n",
    "        #Define variaveis globais\n",
    "        graph_list = []\n",
    "        group_of_position_lists = []\n",
    "        list_pos = []\n",
    "        triang_del_list = []\n",
    "        graph_group = []\n",
    "\n",
    "        #Métos que geram os nodes\n",
    "        create_graph()\n",
    "\n",
    "        #Liberando espaço\n",
    "        del triang_del_list\n",
    "        del group_of_position_lists\n",
    "        del list_pos\n",
    "        del graph_list\n",
    "        gc.collect()\n",
    "\n",
    "        betweenness_centrality()\n",
    "        eccentricity()\n",
    "        eficiencia_global()\n",
    "        eficiencia_local()\n",
    "        distance()\n",
    "        vulnerability()\n",
    "        clustering()\n",
    "        rich_club_coefficient()\n",
    "        grau()\n",
    "        diversity_entropy()\n",
    "        pagerank()\n",
    "        #grapf_centroid_and_aerea()\n",
    "\n",
    "        FETW_count += 1"
   ]
  },
  {
   "cell_type": "code",
   "execution_count": null,
   "metadata": {},
   "outputs": [],
   "source": []
  },
  {
   "cell_type": "code",
   "execution_count": null,
   "metadata": {},
   "outputs": [],
   "source": [
    "# %run ./graph_to_image[all_bases].ipynb"
   ]
  },
  {
   "cell_type": "code",
   "execution_count": null,
   "metadata": {},
   "outputs": [],
   "source": []
  },
  {
   "cell_type": "code",
   "execution_count": 58,
   "metadata": {},
   "outputs": [],
   "source": [
    "# %run ./group_image_per_FETW[all_bases].ipynb"
   ]
  },
  {
   "cell_type": "code",
   "execution_count": 59,
   "metadata": {},
   "outputs": [],
   "source": [
    "# %run ./Sepair_imagens_by_target[all_bases].ipynb"
   ]
  },
  {
   "cell_type": "code",
   "execution_count": null,
   "metadata": {},
   "outputs": [],
   "source": [
    "# %run ./DenseNet121_fold[all_bases].ipynb"
   ]
  },
  {
   "cell_type": "code",
   "execution_count": null,
   "metadata": {},
   "outputs": [],
   "source": [
    "# %run ./grid_search_image_fold[all_bases].ipynb"
   ]
  },
  {
   "cell_type": "code",
   "execution_count": null,
   "metadata": {},
   "outputs": [],
   "source": [
    "# %run ./get_result_image_fold[all_games].ipynb"
   ]
  },
  {
   "cell_type": "code",
   "execution_count": 38,
   "metadata": {},
   "outputs": [],
   "source": [
    "end = datetime.now()"
   ]
  },
  {
   "cell_type": "code",
   "execution_count": 40,
   "metadata": {},
   "outputs": [
    {
     "data": {
      "text/plain": [
       "datetime.timedelta(seconds=459, microseconds=766303)"
      ]
     },
     "execution_count": 40,
     "metadata": {},
     "output_type": "execute_result"
    }
   ],
   "source": [
    "(end - start)"
   ]
  }
 ],
 "metadata": {
  "kernelspec": {
   "display_name": "Python 3 (ipykernel)",
   "language": "python",
   "name": "python3"
  },
  "language_info": {
   "codemirror_mode": {
    "name": "ipython",
    "version": 3
   },
   "file_extension": ".py",
   "mimetype": "text/x-python",
   "name": "python",
   "nbconvert_exporter": "python",
   "pygments_lexer": "ipython3",
   "version": "3.8.8"
  }
 },
 "nbformat": 4,
 "nbformat_minor": 2
}
