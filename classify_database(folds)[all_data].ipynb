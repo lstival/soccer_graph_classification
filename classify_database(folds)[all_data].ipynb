{
 "cells": [
  {
   "cell_type": "code",
   "execution_count": 1,
   "metadata": {},
   "outputs": [],
   "source": [
    "import pandas as pd\n",
    "import numpy as np\n",
    "import random"
   ]
  },
  {
   "cell_type": "code",
   "execution_count": 2,
   "metadata": {},
   "outputs": [],
   "source": [
    "#Lendo os dados utilizados para análise\n",
    "all_games_ad = pd.read_csv('all_games_other_games.csv')"
   ]
  },
  {
   "cell_type": "code",
   "execution_count": 3,
   "metadata": {},
   "outputs": [],
   "source": [
    "games_names = all_games_ad.partida.unique()"
   ]
  },
  {
   "cell_type": "code",
   "execution_count": 4,
   "metadata": {},
   "outputs": [],
   "source": [
    "#Misturando os nomes das partidas, para selecionar quais tempos serão usados para teste\n",
    "random.shuffle(games_names, random.seed(2020))"
   ]
  },
  {
   "cell_type": "code",
   "execution_count": 5,
   "metadata": {},
   "outputs": [],
   "source": [
    "#Numeros de folds\n",
    "# folds = [1,2,3,4,5,6,7,8,9,10,11,12,15,15,15,15,15,15,15,15]\n",
    "folds = [1]\n",
    "\n",
    "#Volta o fold para ordem original\n",
    "def reset_fold():\n",
    "#     folds = [1,2,3,4,5,6,7,8,9,10,11,12,15,15,15,15,15,15,15,15]\n",
    "    folds = [1]"
   ]
  },
  {
   "cell_type": "code",
   "execution_count": 6,
   "metadata": {},
   "outputs": [],
   "source": [
    "# folds_test = [15,15,15,15,15,15,15,15]\n",
    "folds_test = [15]"
   ]
  },
  {
   "cell_type": "code",
   "execution_count": 7,
   "metadata": {},
   "outputs": [
    {
     "data": {
      "text/plain": [
       "1"
      ]
     },
     "execution_count": 7,
     "metadata": {},
     "output_type": "execute_result"
    }
   ],
   "source": [
    "len(folds)"
   ]
  },
  {
   "cell_type": "code",
   "execution_count": 8,
   "metadata": {},
   "outputs": [],
   "source": [
    "#Quantidade de rodadas\n",
    "TURN = 10"
   ]
  },
  {
   "cell_type": "markdown",
   "metadata": {},
   "source": [
    "##  Valida se não tem folds de teste iguais"
   ]
  },
  {
   "cell_type": "code",
   "execution_count": 9,
   "metadata": {},
   "outputs": [],
   "source": [
    "def shunfle_validator(games_fold):\n",
    "    invalid_value = []\n",
    "\n",
    "    for i in range(games_fold.index.size):\n",
    "        test_index = games_fold[games_fold['turn_'+str(i)] == 15].index.values\n",
    "        for j in range(games_fold.index.size - i):\n",
    "            invalid_value.append(np.array_equal(test_index,games_fold[games_fold['turn_'+str(i+j+1)] == 15].index.values))\n",
    "\n",
    "    #Testa se o resultado é invalido, se retornar True tem fold de teste repetido\n",
    "    return all(invalid_value)"
   ]
  },
  {
   "cell_type": "markdown",
   "metadata": {},
   "source": [
    "## Criando Dataframe com os fold das amostras"
   ]
  },
  {
   "cell_type": "code",
   "execution_count": 10,
   "metadata": {},
   "outputs": [],
   "source": [
    "games_fold = pd.DataFrame()\n",
    "\n",
    "games_fold['partida'] = games_names\n",
    "\n",
    "#Mistura quais serão os jogos de teste e treinamento para cada rodada de treinamento\n",
    "def shuffle_values():\n",
    "    for i in range(TURN):\n",
    "        random.shuffle(folds, )\n",
    "        games_fold['turn_'+str(i)] = folds\n",
    "        reset_fold()"
   ]
  },
  {
   "cell_type": "code",
   "execution_count": 11,
   "metadata": {},
   "outputs": [],
   "source": [
    "#Distribui jogos que serão usados para treino e teste aleatoriamente\n",
    "shuffle_values()"
   ]
  },
  {
   "cell_type": "code",
   "execution_count": 12,
   "metadata": {},
   "outputs": [],
   "source": [
    "def generate_game_test():\n",
    "    games_fold_test = pd.DataFrame()\n",
    "\n",
    "    games_fold_test['partida'] = games_names_test\n",
    "\n",
    "    def shuffle_values_test():\n",
    "        for i in range(TURN):\n",
    "            games_fold_test['turn_'+str(i)] = folds_test\n",
    "            \n",
    "    shuffle_values_test()"
   ]
  },
  {
   "cell_type": "code",
   "execution_count": 13,
   "metadata": {},
   "outputs": [],
   "source": [
    "games_fold.loc[1] = [games_names[0],15,15,15,15,15,15,15,15,15,15]"
   ]
  },
  {
   "cell_type": "code",
   "execution_count": 14,
   "metadata": {},
   "outputs": [
    {
     "data": {
      "text/html": [
       "<div>\n",
       "<style scoped>\n",
       "    .dataframe tbody tr th:only-of-type {\n",
       "        vertical-align: middle;\n",
       "    }\n",
       "\n",
       "    .dataframe tbody tr th {\n",
       "        vertical-align: top;\n",
       "    }\n",
       "\n",
       "    .dataframe thead th {\n",
       "        text-align: right;\n",
       "    }\n",
       "</style>\n",
       "<table border=\"1\" class=\"dataframe\">\n",
       "  <thead>\n",
       "    <tr style=\"text-align: right;\">\n",
       "      <th></th>\n",
       "      <th>partida</th>\n",
       "      <th>turn_0</th>\n",
       "      <th>turn_1</th>\n",
       "      <th>turn_2</th>\n",
       "      <th>turn_3</th>\n",
       "      <th>turn_4</th>\n",
       "      <th>turn_5</th>\n",
       "      <th>turn_6</th>\n",
       "      <th>turn_7</th>\n",
       "      <th>turn_8</th>\n",
       "      <th>turn_9</th>\n",
       "    </tr>\n",
       "  </thead>\n",
       "  <tbody>\n",
       "    <tr>\n",
       "      <th>0</th>\n",
       "      <td>REDSCAT2</td>\n",
       "      <td>1</td>\n",
       "      <td>1</td>\n",
       "      <td>1</td>\n",
       "      <td>1</td>\n",
       "      <td>1</td>\n",
       "      <td>1</td>\n",
       "      <td>1</td>\n",
       "      <td>1</td>\n",
       "      <td>1</td>\n",
       "      <td>1</td>\n",
       "    </tr>\n",
       "    <tr>\n",
       "      <th>1</th>\n",
       "      <td>REDSCAT2</td>\n",
       "      <td>15</td>\n",
       "      <td>15</td>\n",
       "      <td>15</td>\n",
       "      <td>15</td>\n",
       "      <td>15</td>\n",
       "      <td>15</td>\n",
       "      <td>15</td>\n",
       "      <td>15</td>\n",
       "      <td>15</td>\n",
       "      <td>15</td>\n",
       "    </tr>\n",
       "  </tbody>\n",
       "</table>\n",
       "</div>"
      ],
      "text/plain": [
       "    partida  turn_0  turn_1  turn_2  turn_3  turn_4  turn_5  turn_6  turn_7  \\\n",
       "0  REDSCAT2       1       1       1       1       1       1       1       1   \n",
       "1  REDSCAT2      15      15      15      15      15      15      15      15   \n",
       "\n",
       "   turn_8  turn_9  \n",
       "0       1       1  \n",
       "1      15      15  "
      ]
     },
     "execution_count": 14,
     "metadata": {},
     "output_type": "execute_result"
    }
   ],
   "source": [
    "games_fold"
   ]
  },
  {
   "cell_type": "code",
   "execution_count": 15,
   "metadata": {},
   "outputs": [],
   "source": [
    "games_fold.to_csv('games_fold_ad.csv')"
   ]
  },
  {
   "cell_type": "code",
   "execution_count": 16,
   "metadata": {},
   "outputs": [],
   "source": [
    "#games_fold_test.to_csv('games_fold_ad_test.csv')"
   ]
  },
  {
   "cell_type": "code",
   "execution_count": null,
   "metadata": {},
   "outputs": [],
   "source": []
  },
  {
   "cell_type": "code",
   "execution_count": null,
   "metadata": {},
   "outputs": [],
   "source": []
  }
 ],
 "metadata": {
  "kernelspec": {
   "display_name": "Python 3 (ipykernel)",
   "language": "python",
   "name": "python3"
  },
  "language_info": {
   "codemirror_mode": {
    "name": "ipython",
    "version": 3
   },
   "file_extension": ".py",
   "mimetype": "text/x-python",
   "name": "python",
   "nbconvert_exporter": "python",
   "pygments_lexer": "ipython3",
   "version": "3.8.8"
  }
 },
 "nbformat": 4,
 "nbformat_minor": 2
}
