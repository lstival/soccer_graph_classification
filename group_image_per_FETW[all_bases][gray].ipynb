{
 "cells": [
  {
   "cell_type": "code",
   "execution_count": 1,
   "metadata": {},
   "outputs": [],
   "source": [
    "import pandas as pd\n",
    "import numpy as np\n",
    "import os\n",
    "import utils\n",
    "\n",
    "from PIL import Image\n",
    "from keras.preprocessing.image import load_img\n",
    "from keras.preprocessing.image import img_to_array\n",
    "from keras.preprocessing.image import array_to_img\n",
    "import cv2"
   ]
  },
  {
   "cell_type": "code",
   "execution_count": 2,
   "metadata": {},
   "outputs": [],
   "source": [
    "#Agrupa imagens por cada FETW (gerando uma imagem só para todo BPI)"
   ]
  },
  {
   "cell_type": "code",
   "execution_count": 3,
   "metadata": {},
   "outputs": [],
   "source": [
    "partidas = all_games_og = pd.read_csv(f'all_games_other_games.csv')\n",
    "partidas = partidas.partida.unique()"
   ]
  },
  {
   "cell_type": "code",
   "execution_count": 4,
   "metadata": {},
   "outputs": [],
   "source": [
    "def get_file_names(file):\n",
    "    '''\n",
    "    return all imagens in the fold in a single list\n",
    "    '''\n",
    "    imagens = []\n",
    "    for picture in os.listdir(folder+file):\n",
    "        imagens.append(img_to_array(load_img(folder+file+'/'+picture)))\n",
    "    return imagens"
   ]
  },
  {
   "cell_type": "code",
   "execution_count": 5,
   "metadata": {},
   "outputs": [],
   "source": [
    "def get_file_imagens(file):\n",
    "    imagens = []\n",
    "    for picture in os.listdir(file):\n",
    "        imagens.append(load_img(file+'/'+picture))\n",
    "    return imagens"
   ]
  },
  {
   "cell_type": "code",
   "execution_count": 6,
   "metadata": {},
   "outputs": [],
   "source": [
    "def image_to_array(imagens):\n",
    "    concat = []\n",
    "    for imagem_idx in range(len(imagens)):\n",
    "        if imagem_idx == 0:\n",
    "            concat = imagens[imagem_idx]\n",
    "        else:\n",
    "            concat = np.concatenate((concat,imagens[imagem_idx]))\n",
    "    return concat"
   ]
  },
  {
   "cell_type": "code",
   "execution_count": 7,
   "metadata": {},
   "outputs": [],
   "source": [
    "def convert_image_to_1d(file_names):\n",
    "    '''\n",
    "    Recvies a list of arrays (each array is a image with 3 dimensions)\n",
    "    and return same image but with 1 dimension\n",
    "    '''\n",
    "    new_1d_images = []\n",
    "    for image_3d in file_names:\n",
    "        new_1d_images.append(image_3d[...,:1])\n",
    "        \n",
    "    return new_1d_images"
   ]
  },
  {
   "cell_type": "code",
   "execution_count": 8,
   "metadata": {},
   "outputs": [],
   "source": [
    "def get_file_names_gray(file):\n",
    "    '''\n",
    "    return all imagens in the fold in a single list (in gray scale)\n",
    "    '''\n",
    "    imagens = []\n",
    "    for picture in os.listdir(folder+file):\n",
    "        imagens.append(rgb2gray(img_to_array(load_img(folder+file+'/'+picture))))\n",
    "    return imagens"
   ]
  },
  {
   "cell_type": "code",
   "execution_count": 9,
   "metadata": {},
   "outputs": [],
   "source": [
    "new_imagens = []\n",
    "for partida in partidas:\n",
    "    folder = \"rhythm_figures/graph_metric/\"+partida+\"/\"\n",
    "    for file in os.listdir(folder):#Para FETW da partida\n",
    "        file_names = get_file_names(file)\n",
    "        file_names_1d = convert_image_to_1d(file_names)\n",
    "        multi_chanel_image = np.concatenate((file_names_1d), axis=2)\n",
    "        new_imagens.append(multi_chanel_image)"
   ]
  },
  {
   "cell_type": "code",
   "execution_count": 10,
   "metadata": {},
   "outputs": [
    {
     "data": {
      "text/plain": [
       "(66, 11, 167, 16)"
      ]
     },
     "execution_count": 10,
     "metadata": {},
     "output_type": "execute_result"
    }
   ],
   "source": [
    "arr = np.array(new_imagens)\n",
    "arr.shape"
   ]
  },
  {
   "cell_type": "code",
   "execution_count": 11,
   "metadata": {},
   "outputs": [],
   "source": [
    "#Save the images in a numpy files (because each image has 16 channels)\n",
    "np.save('multi_chanel_imagens.npy', arr)\n",
    "# np.save(\"X_train.npy\", X_train)"
   ]
  },
  {
   "cell_type": "code",
   "execution_count": null,
   "metadata": {},
   "outputs": [],
   "source": []
  }
 ],
 "metadata": {
  "kernelspec": {
   "display_name": "Python 3 (ipykernel)",
   "language": "python",
   "name": "python3"
  },
  "language_info": {
   "codemirror_mode": {
    "name": "ipython",
    "version": 3
   },
   "file_extension": ".py",
   "mimetype": "text/x-python",
   "name": "python",
   "nbconvert_exporter": "python",
   "pygments_lexer": "ipython3",
   "version": "3.8.8"
  }
 },
 "nbformat": 4,
 "nbformat_minor": 2
}
